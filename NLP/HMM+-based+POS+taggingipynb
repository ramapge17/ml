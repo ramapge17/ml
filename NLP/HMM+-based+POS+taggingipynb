{
 "cells": [
  {
   "cell_type": "markdown",
   "metadata": {},
   "source": [
    "## POS tagging using modified Viterbi"
   ]
  },
  {
   "cell_type": "markdown",
   "metadata": {},
   "source": [
    "### Data Preparation"
   ]
  },
  {
   "cell_type": "code",
   "execution_count": 1,
   "metadata": {},
   "outputs": [],
   "source": [
    "#Importing libraries\n",
    "import nltk\n",
    "import random\n",
    "from sklearn.model_selection import train_test_split\n",
    "import numpy as np\n",
    "import pandas as pd"
   ]
  },
  {
   "cell_type": "code",
   "execution_count": 2,
   "metadata": {},
   "outputs": [
    {
     "name": "stderr",
     "output_type": "stream",
     "text": [
      "[nltk_data] Downloading package universal_tagset to\n",
      "[nltk_data]     /Users/apurvshingne/nltk_data...\n",
      "[nltk_data]   Package universal_tagset is already up-to-date!\n"
     ]
    }
   ],
   "source": [
    "# reading the Treebank tagged sentences\n",
    "nltk.download('universal_tagset')\n",
    "nltk_data = list(nltk.corpus.treebank.tagged_sents(tagset='universal'))"
   ]
  },
  {
   "cell_type": "code",
   "execution_count": 3,
   "metadata": {},
   "outputs": [
    {
     "data": {
      "text/plain": [
       "[[('Pierre', 'NOUN'),\n",
       "  ('Vinken', 'NOUN'),\n",
       "  (',', '.'),\n",
       "  ('61', 'NUM'),\n",
       "  ('years', 'NOUN'),\n",
       "  ('old', 'ADJ'),\n",
       "  (',', '.'),\n",
       "  ('will', 'VERB'),\n",
       "  ('join', 'VERB'),\n",
       "  ('the', 'DET'),\n",
       "  ('board', 'NOUN'),\n",
       "  ('as', 'ADP'),\n",
       "  ('a', 'DET'),\n",
       "  ('nonexecutive', 'ADJ'),\n",
       "  ('director', 'NOUN'),\n",
       "  ('Nov.', 'NOUN'),\n",
       "  ('29', 'NUM'),\n",
       "  ('.', '.')],\n",
       " [('Mr.', 'NOUN'),\n",
       "  ('Vinken', 'NOUN'),\n",
       "  ('is', 'VERB'),\n",
       "  ('chairman', 'NOUN'),\n",
       "  ('of', 'ADP'),\n",
       "  ('Elsevier', 'NOUN'),\n",
       "  ('N.V.', 'NOUN'),\n",
       "  (',', '.'),\n",
       "  ('the', 'DET'),\n",
       "  ('Dutch', 'NOUN'),\n",
       "  ('publishing', 'VERB'),\n",
       "  ('group', 'NOUN'),\n",
       "  ('.', '.')]]"
      ]
     },
     "execution_count": 3,
     "metadata": {},
     "output_type": "execute_result"
    }
   ],
   "source": [
    "nltk_data[:2]"
   ]
  },
  {
   "cell_type": "code",
   "execution_count": 4,
   "metadata": {},
   "outputs": [
    {
     "name": "stdout",
     "output_type": "stream",
     "text": [
      "3718\n",
      "196\n",
      "0.9499233520694941\n",
      "[[('Bank', 'NOUN'), ('of', 'ADP'), ('New', 'NOUN'), ('England', 'NOUN'), (\"'s\", 'PRT'), ('shares', 'NOUN'), ('are', 'VERB'), ('traded', 'VERB'), ('*-1', 'X'), ('on', 'ADP'), ('the', 'DET'), ('New', 'NOUN'), ('York', 'NOUN'), ('Stock', 'NOUN'), ('Exchange', 'NOUN'), ('.', '.')], [('$', '.'), ('130', 'NUM'), ('million', 'NUM'), ('*U*', 'X'), ('of', 'ADP'), ('general', 'ADJ'), ('obligation', 'NOUN'), ('distributable', 'ADJ'), ('state', 'NOUN'), ('aid', 'NOUN'), ('bonds', 'NOUN'), ('due', 'ADJ'), ('1991-2000', 'NUM'), ('and', 'CONJ'), ('2009', 'NUM'), (',', '.'), ('tentatively', 'ADV'), ('priced', 'VERB'), ('*', 'X'), ('by', 'ADP'), ('a', 'DET'), ('Chemical', 'NOUN'), ('Securities', 'NOUN'), ('Inc.', 'NOUN'), ('group', 'NOUN'), ('*', 'X'), ('to', 'PRT'), ('yield', 'VERB'), ('from', 'ADP'), ('6.20', 'NUM'), ('%', 'NOUN'), ('in', 'ADP'), ('1991', 'NUM'), ('to', 'PRT'), ('7.272', 'NUM'), ('%', 'NOUN'), ('in', 'ADP'), ('2009', 'NUM'), ('.', '.')], [('``', '.'), ('They', 'PRON'), ('were', 'VERB'), ('a', 'DET'), ('self-perpetuating', 'ADJ'), ('club', 'NOUN'), ('that', 'DET'), ('*T*-229', 'X'), ('treated', 'VERB'), ('the', 'DET'), ('tower', 'NOUN'), ('as', 'ADP'), ('sort', 'NOUN'), ('of', 'ADP'), ('a', 'DET'), ('separate', 'ADJ'), ('premises', 'NOUN'), (',', '.'), (\"''\", '.'), ('the', 'DET'), ('Vicar', 'NOUN'), ('Hummerstone', 'NOUN'), ('says', 'VERB'), ('*T*-1', 'X'), ('.', '.')], [('Valley', 'NOUN'), ('Federal', 'NOUN'), ('Savings', 'NOUN'), ('&', 'CONJ'), ('Loan', 'NOUN'), ('Association', 'NOUN'), ('took', 'VERB'), ('an', 'DET'), ('$', '.'), ('89.9', 'NUM'), ('million', 'NUM'), ('*U*', 'X'), ('charge', 'NOUN'), ('as', 'ADP'), ('it', 'PRON'), ('reported', 'VERB'), ('a', 'DET'), ('third-quarter', 'NOUN'), ('loss', 'NOUN'), ('of', 'ADP'), ('$', '.'), ('70.7', 'NUM'), ('million', 'NUM'), ('*U*', 'X'), (',', '.'), ('or', 'CONJ'), ('$', '.'), ('12.09', 'NUM'), ('*U*', 'X'), ('a', 'DET'), ('share', 'NOUN'), ('.', '.')], [('``', '.'), ('The', 'DET'), ('Herald', 'NOUN'), ('was', 'VERB'), ('a', 'DET'), ('survivor', 'NOUN'), ('from', 'ADP'), ('a', 'DET'), ('bygone', 'ADJ'), ('age', 'NOUN'), (',', '.'), (\"''\", '.'), ('said', 'VERB'), ('*T*-1', 'X'), ('J.', 'NOUN'), ('Kendrick', 'NOUN'), ('Noble', 'NOUN'), (',', '.'), ('a', 'DET'), ('media', 'NOUN'), ('analyst', 'NOUN'), ('with', 'ADP'), ('PaineWebber', 'NOUN'), ('Inc', 'NOUN'), ('.', '.')], [('The', 'DET'), ('Midwest', 'NOUN'), ('Financial', 'NOUN'), ('subsidiary', 'NOUN'), ('banks', 'NOUN'), ('will', 'VERB'), ('continue', 'VERB'), ('*-1', 'X'), ('to', 'PRT'), ('operate', 'VERB'), ('under', 'ADP'), ('their', 'PRON'), ('current', 'ADJ'), ('names', 'NOUN'), ('until', 'ADP'), ('early', 'ADJ'), ('1990', 'NUM'), (',', '.'), ('when', 'ADV'), ('each', 'DET'), ('will', 'VERB'), ('adopt', 'VERB'), ('the', 'DET'), ('First', 'NOUN'), ('of', 'ADP'), ('America', 'NOUN'), ('name', 'NOUN'), ('*T*-2', 'X'), ('.', '.')], [('But', 'CONJ'), ('many', 'ADJ'), ('banks', 'NOUN'), ('are', 'VERB'), ('turning', 'VERB'), ('away', 'ADV'), ('from', 'ADP'), ('strict', 'ADJ'), ('price', 'NOUN'), ('competition', 'NOUN'), ('.', '.')], [('And', 'CONJ'), ('I', 'PRON'), ('apparently', 'ADV'), ('had', 'VERB'), ('no', 'DET'), ('right', 'NOUN'), ('*', 'X'), ('to', 'PRT'), ('print', 'VERB'), ('hither', 'ADV'), ('what', 'PRON'), ('the', 'DET'), ('Voice', 'NOUN'), ('was', 'VERB'), ('booming', 'VERB'), ('*T*-2', 'X'), ('to', 'PRT'), ('yon', 'ADV'), ('.', '.')], [('However', 'ADV'), (',', '.'), ('none', 'NOUN'), ('of', 'ADP'), ('the', 'DET'), ('big', 'ADJ'), ('three', 'NUM'), ('weeklies', 'NOUN'), ('recorded', 'VERB'), ('circulation', 'NOUN'), ('gains', 'NOUN'), ('recently', 'ADV'), ('.', '.')], [('Both', 'DET'), ('indicators', 'NOUN'), ('were', 'VERB'), ('viewed', 'VERB'), ('*-1', 'X'), ('as', 'ADP'), ('signs', 'NOUN'), ('that', 'ADP'), ('the', 'DET'), ('nation', 'NOUN'), (\"'s\", 'PRT'), ('industrial', 'ADJ'), ('sector', 'NOUN'), ('is', 'VERB'), ('growing', 'VERB'), ('very', 'ADV'), ('slowly', 'ADV'), (',', '.'), ('if', 'ADP'), ('at', 'ADP'), ('all', 'DET'), ('.', '.')], [('A', 'DET'), ('second', 'ADJ'), ('ship', 'NOUN'), ('is', 'VERB'), ('now', 'ADV'), ('expected', 'VERB'), ('*-2', 'X'), ('to', 'PRT'), ('be', 'VERB'), ('delivered', 'VERB'), ('*-1', 'X'), ('late', 'ADJ'), ('next', 'ADJ'), ('year', 'NOUN'), ('or', 'CONJ'), ('early', 'ADV'), ('in', 'ADP'), ('1991', 'NUM'), ('.', '.')], [('In', 'ADP'), ('October', 'NOUN'), ('1988', 'NUM'), (',', '.'), ('21.1', 'NUM'), ('%', 'NOUN'), ('said', 'VERB'), ('0', 'X'), ('business', 'NOUN'), ('conditions', 'NOUN'), ('would', 'VERB'), ('improve', 'VERB'), ('.', '.')], [('The', 'DET'), ('announcement', 'NOUN'), ('follows', 'VERB'), ('a', 'DET'), ('sharper', 'ADJ'), ('$', '.'), ('2.2', 'NUM'), ('billion', 'NUM'), ('*U*', 'X'), ('decline', 'NOUN'), ('in', 'ADP'), ('the', 'DET'), ('country', 'NOUN'), (\"'s\", 'PRT'), ('foreign', 'ADJ'), ('reserves', 'NOUN'), ('in', 'ADP'), ('September', 'NOUN'), ('to', 'PRT'), ('$', '.'), ('86.12', 'NUM'), ('billion', 'NUM'), ('*U*', 'X'), ('.', '.')], [('Michael', 'NOUN'), ('Henderson', 'NOUN'), (',', '.'), ('51-year-old', 'ADJ'), ('group', 'NOUN'), ('chief', 'NOUN'), ('executive', 'NOUN'), ('of', 'ADP'), ('this', 'DET'), ('U.K.', 'NOUN'), ('metals', 'NOUN'), ('and', 'CONJ'), ('industrial', 'ADJ'), ('materials', 'NOUN'), ('maker', 'NOUN'), (',', '.'), ('will', 'VERB'), ('become', 'VERB'), ('chairman', 'NOUN'), ('in', 'ADP'), ('May', 'NOUN'), (',', '.'), ('*-1', 'X'), ('succeeding', 'VERB'), ('Ian', 'NOUN'), ('Butler', 'NOUN'), (',', '.'), ('64', 'NUM'), (',', '.'), ('who', 'PRON'), ('*T*-161', 'X'), ('is', 'VERB'), ('retiring', 'VERB'), ('.', '.')], [('Partly', 'ADV'), ('because', 'ADP'), ('of', 'ADP'), ('worries', 'NOUN'), ('about', 'ADP'), ('potential', 'ADJ'), ('abuse', 'NOUN'), (',', '.'), ('however', 'ADV'), (',', '.'), ('he', 'PRON'), ('says', 'VERB'), ('0', 'X'), ('the', 'DET'), ('state', 'NOUN'), ('will', 'VERB'), ('begin', 'VERB'), ('*-1', 'X'), ('keeping', 'VERB'), ('closer', 'ADJ'), ('track', 'NOUN'), ('of', 'ADP'), ('achievement-test', 'NOUN'), ('preparation', 'NOUN'), ('booklets', 'NOUN'), ('next', 'ADJ'), ('spring', 'NOUN'), ('.', '.')], [('He', 'PRON'), ('succeeds', 'VERB'), ('Terrence', 'NOUN'), ('D.', 'NOUN'), ('Daniels', 'NOUN'), (',', '.'), ('formerly', 'ADV'), ('a', 'DET'), ('W.R.', 'NOUN'), ('Grace', 'NOUN'), ('vice', 'NOUN'), ('chairman', 'NOUN'), (',', '.'), ('who', 'PRON'), ('*T*-11', 'X'), ('resigned', 'VERB'), ('.', '.')], [('Scientists', 'NOUN'), ('had', 'VERB'), ('obtained', 'VERB'), ('even', 'ADV'), ('higher', 'ADJ'), ('current-carrying', 'ADJ'), ('capacity', 'NOUN'), ('in', 'ADP'), ('thin', 'ADJ'), ('films', 'NOUN'), ('of', 'ADP'), ('the', 'DET'), ('new', 'ADJ'), ('superconductors', 'NOUN'), (',', '.'), ('but', 'CONJ'), ('have', 'VERB'), ('had', 'VERB'), ('problems', 'NOUN'), ('*-2', 'X'), ('increasing', 'VERB'), ('the', 'DET'), ('amount', 'NOUN'), ('of', 'ADP'), ('current', 'NOUN'), ('that', 'ADP'), ('bulk', 'NOUN'), ('crystals', 'NOUN'), ('could', 'VERB'), ('carry', 'VERB'), ('*T*-1', 'X'), ('.', '.')], [('USX', 'NOUN'), ('was', 'VERB'), ('cited', 'VERB'), ('*-1', 'X'), ('by', 'ADP'), ('OSHA', 'NOUN'), ('for', 'ADP'), ('several', 'ADJ'), ('health', 'NOUN'), ('and', 'CONJ'), ('safety', 'NOUN'), ('violations', 'NOUN'), ('at', 'ADP'), ('two', 'NUM'), ('Pennsylvania', 'NOUN'), ('plants', 'NOUN'), ('and', 'CONJ'), ('may', 'VERB'), ('face', 'VERB'), ('a', 'DET'), ('record', 'NOUN'), ('fine', 'NOUN'), ('of', 'ADP'), ('$', '.'), ('7.3', 'NUM'), ('million', 'NUM'), ('*U*', 'X'), ('.', '.')], [('Stock-index', 'NOUN'), ('futures', 'NOUN'), ('--', '.'), ('Contracts', 'NOUN'), ('*', 'X'), ('to', 'PRT'), ('buy', 'VERB'), ('or', 'CONJ'), ('sell', 'VERB'), ('the', 'DET'), ('cash', 'NOUN'), ('value', 'NOUN'), ('of', 'ADP'), ('a', 'DET'), ('stock', 'NOUN'), ('index', 'NOUN'), ('by', 'ADP'), ('a', 'DET'), ('certain', 'ADJ'), ('date', 'NOUN'), ('.', '.')], [('The', 'DET'), ('idea', 'NOUN'), (',', '.'), ('of', 'ADP'), ('course', 'NOUN'), (':', '.'), ('*', 'X'), ('to', 'PRT'), ('prove', 'VERB'), ('to', 'PRT'), ('125', 'NUM'), ('corporate', 'ADJ'), ('decision', 'NOUN'), ('makers', 'NOUN'), ('that', 'ADP'), ('the', 'DET'), ('buckle', 'NOUN'), ('on', 'ADP'), ('the', 'DET'), ('Rust', 'NOUN'), ('Belt', 'NOUN'), ('is', 'VERB'), (\"n't\", 'ADV'), ('so', 'ADV'), ('rusty', 'ADJ'), ('after', 'ADP'), ('all', 'DET'), (',', '.'), ('that', 'ADP'), ('it', 'PRON'), (\"'s\", 'VERB'), ('a', 'DET'), ('good', 'ADJ'), ('place', 'NOUN'), ('0', 'X'), ('for', 'ADP'), ('a', 'DET'), ('company', 'NOUN'), ('to', 'PRT'), ('expand', 'VERB'), ('*T*-1', 'X'), ('.', '.')], [('Backe', 'NOUN'), ('Group', 'NOUN'), ('Inc.', 'NOUN'), ('agreed', 'VERB'), ('*-1', 'X'), ('to', 'PRT'), ('acquire', 'VERB'), ('Atlantic', 'NOUN'), ('Publications', 'NOUN'), ('Inc.', 'NOUN'), (',', '.'), ('which', 'DET'), ('*T*-141', 'X'), ('has', 'VERB'), ('30', 'NUM'), ('community', 'NOUN'), ('papers', 'NOUN'), ('and', 'CONJ'), ('annual', 'ADJ'), ('sales', 'NOUN'), ('of', 'ADP'), ('$', '.'), ('7', 'NUM'), ('million', 'NUM'), ('*U*', 'X'), ('.', '.')], [('The', 'DET'), ('one', 'NUM'), ('character', 'NOUN'), ('at', 'ADP'), ('least', 'ADJ'), ('somewhat', 'ADV'), ('interesting', 'ADJ'), ('was', 'VERB'), ('Irving', 'NOUN'), ('Louis', 'NOUN'), ('Lobsenz', 'NOUN'), (',', '.'), ('a', 'DET'), ('pediatrician', 'NOUN'), ('who', 'PRON'), ('*T*-1', 'X'), ('changed', 'VERB'), ('his', 'PRON'), ('name', 'NOUN'), ('to', 'PRT'), ('Rusty', 'NOUN'), ('Kent', 'NOUN'), ('London', 'NOUN'), ('and', 'CONJ'), ('became', 'VERB'), ('a', 'DET'), ('master', 'NOUN'), ('gambler', 'NOUN'), ('and', 'CONJ'), ('author', 'NOUN'), ('of', 'ADP'), ('a', 'DET'), ('book', 'NOUN'), ('on', 'ADP'), ('blackjack', 'NOUN'), ('.', '.')], [('The', 'DET'), ('worst', 'ADJ'), ('crop', 'NOUN'), ('damage', 'NOUN'), ('occurred', 'VERB'), ('in', 'ADP'), ('the', 'DET'), ('Midwestern', 'NOUN'), ('Corn', 'NOUN'), ('Belt', 'NOUN'), ('and', 'CONJ'), ('the', 'DET'), ('northern', 'ADJ'), ('Great', 'NOUN'), ('Plains', 'NOUN'), ('.', '.')], [('Mr.', 'NOUN'), ('Taccetta', 'NOUN'), ('says', 'VERB'), ('0', 'X'), ('he', 'PRON'), ('had', 'VERB'), ('just', 'ADV'), ('recouped', 'VERB'), ('the', 'DET'), ('$', '.'), ('5,000', 'NUM'), ('*U*', 'X'), ('0', 'X'), ('he', 'PRON'), ('lost', 'VERB'), ('*T*-1', 'X'), ('in', 'ADP'), ('the', 'DET'), ('1987', 'NUM'), ('crash', 'NOUN'), ('when', 'ADV'), ('he', 'PRON'), ('lost', 'VERB'), ('more', 'ADJ'), ('money', 'NOUN'), ('last', 'ADJ'), ('Oct.', 'NOUN'), ('13', 'NUM'), ('*T*-2', 'X'), ('.', '.')], [('Most', 'ADJ'), ('of', 'ADP'), ('the', 'DET'), ('picture', 'NOUN'), ('is', 'VERB'), ('taken', 'VERB'), ('up', 'PRT'), ('with', 'ADP'), ('endless', 'ADJ'), ('scenes', 'NOUN'), ('of', 'ADP'), ('many', 'ADJ'), ('people', 'NOUN'), ('either', 'CONJ'), ('fighting', 'VERB'), ('or', 'CONJ'), ('eating', 'VERB'), ('and', 'CONJ'), ('drinking', 'VERB'), ('*-1', 'X'), ('to', 'PRT'), ('celebrate', 'VERB'), ('victory', 'NOUN'), ('.', '.')], [('Institutions', 'NOUN'), ('mostly', 'ADV'), ('remained', 'VERB'), ('on', 'ADP'), ('the', 'DET'), ('sidelines', 'NOUN'), ('because', 'ADP'), ('of', 'ADP'), ('uncertainty', 'NOUN'), ('regarding', 'VERB'), ('interest', 'NOUN'), ('rates', 'NOUN'), ('and', 'CONJ'), ('the', 'DET'), ('dollar', 'NOUN'), ('.', '.')], [('In', 'ADP'), ('San', 'NOUN'), ('Francisco', 'NOUN'), (',', '.'), ('its', 'PRON'), ('backers', 'NOUN'), ('concede', 'VERB'), ('0', 'X'), ('the', 'DET'), ('ballpark', 'NOUN'), ('is', 'VERB'), ('at', 'ADP'), ('best', 'ADJ'), ('running', 'VERB'), ('even', 'ADV'), ('in', 'ADP'), ('the', 'DET'), ('polls', 'NOUN'), ('.', '.')], [('*-1', 'X'), ('The', 'DET'), ('son', 'NOUN'), ('of', 'ADP'), ('a', 'DET'), ('physicist', 'NOUN'), (',', '.'), ('Mr.', 'NOUN'), ('Hahn', 'NOUN'), ('skipped', 'VERB'), ('first', 'ADJ'), ('grade', 'NOUN'), ('because', 'ADP'), ('his', 'PRON'), ('reading', 'NOUN'), ('ability', 'NOUN'), ('was', 'VERB'), ('so', 'ADV'), ('far', 'ADV'), ('above', 'ADP'), ('his', 'PRON'), ('classmates', 'NOUN'), ('.', '.')], [('Some', 'DET'), ('of', 'ADP'), ('his', 'PRON'), ('observations', 'NOUN'), ('about', 'ADP'), ('Japanese', 'ADJ'), ('management', 'NOUN'), ('style', 'NOUN'), ('are', 'VERB'), ('on', 'ADP'), ('the', 'DET'), ('mark', 'NOUN'), ('.', '.')], [('The', 'DET'), ('Bougainville', 'NOUN'), ('copper', 'NOUN'), ('mine', 'NOUN'), ('has', 'VERB'), ('been', 'VERB'), ('inoperative', 'ADJ'), ('since', 'ADP'), ('May', 'NOUN'), ('15', 'NUM'), ('because', 'ADP'), ('of', 'ADP'), ('attacks', 'NOUN'), ('by', 'ADP'), ('native', 'ADJ'), ('landowners', 'NOUN'), ('who', 'PRON'), ('*T*-1', 'X'), ('want', 'VERB'), ('Bougainville', 'NOUN'), ('to', 'PRT'), ('secede', 'VERB'), ('from', 'ADP'), ('Papua-New', 'NOUN'), ('Guinea', 'NOUN'), ('.', '.')], [('Nonetheless', 'ADV'), (',', '.'), ('plenty', 'ADJ'), ('of', 'ADP'), ('U.S.', 'NOUN'), ('analysts', 'NOUN'), ('and', 'CONJ'), ('money', 'NOUN'), ('managers', 'NOUN'), ('are', 'VERB'), ('aghast', 'ADJ'), ('at', 'ADP'), ('the', 'DET'), ('lofty', 'ADJ'), ('trading', 'NOUN'), ('levels', 'NOUN'), ('of', 'ADP'), ('some', 'DET'), ('country', 'NOUN'), ('funds', 'NOUN'), ('.', '.')], [('The', 'DET'), ('new', 'ADJ'), ('Wall', 'NOUN'), ('Street', 'NOUN'), ('of', 'ADP'), ('computers', 'NOUN'), ('and', 'CONJ'), ('automated', 'VERB'), ('trading', 'NOUN'), ('threatens', 'VERB'), ('*-1', 'X'), ('to', 'PRT'), ('make', 'VERB'), ('dinosaurs', 'NOUN'), ('of', 'ADP'), ('the', 'DET'), ('49', 'NUM'), ('Big', 'NOUN'), ('Board', 'NOUN'), ('stock-specialist', 'ADJ'), ('firms', 'NOUN'), ('.', '.')], [('The', 'DET'), ('government', 'NOUN'), ('includes', 'VERB'), ('money', 'NOUN'), ('spent', 'VERB'), ('*', 'X'), ('on', 'ADP'), ('residential', 'ADJ'), ('renovation', 'NOUN'), (';', '.'), ('Dodge', 'NOUN'), ('does', 'VERB'), (\"n't\", 'ADV'), ('*?*', 'X'), ('.', '.')], [('Last', 'ADJ'), ('year', 'NOUN'), (',', '.'), ('government', 'NOUN'), ('payments', 'NOUN'), ('to', 'PRT'), ('farmers', 'NOUN'), ('slipped', 'VERB'), ('to', 'PRT'), ('less', 'ADJ'), ('than', 'ADP'), ('$', '.'), ('14.5', 'NUM'), ('billion', 'NUM'), ('*U*', 'X'), ('from', 'ADP'), ('a', 'DET'), ('record', 'NOUN'), ('$', '.'), ('16.7', 'NUM'), ('billion', 'NUM'), ('*U*', 'X'), ('in', 'ADP'), ('1987', 'NUM'), ('.', '.')], [('Heritage', 'NOUN'), ('owns', 'VERB'), ('and', 'CONJ'), ('operates', 'VERB'), ('television', 'NOUN'), ('and', 'CONJ'), ('radio', 'NOUN'), ('stations', 'NOUN'), ('and', 'CONJ'), ('in-store', 'ADJ'), ('advertising', 'NOUN'), ('and', 'CONJ'), ('promotion', 'NOUN'), ('programs', 'NOUN'), ('.', '.')], [('Japan', 'NOUN'), (\"'s\", 'PRT'), ('domestic', 'ADJ'), ('sales', 'NOUN'), ('of', 'ADP'), ('cars', 'NOUN'), (',', '.'), ('trucks', 'NOUN'), ('and', 'CONJ'), ('buses', 'NOUN'), ('in', 'ADP'), ('October', 'NOUN'), ('rose', 'VERB'), ('18', 'NUM'), ('%', 'NOUN'), ('from', 'ADP'), ('a', 'DET'), ('year', 'NOUN'), ('earlier', 'ADJ'), ('to', 'PRT'), ('500,004', 'NUM'), ('units', 'NOUN'), (',', '.'), ('a', 'DET'), ('record', 'NOUN'), ('for', 'ADP'), ('the', 'DET'), ('month', 'NOUN'), (',', '.'), ('the', 'DET'), ('Japan', 'NOUN'), ('Automobile', 'NOUN'), ('Dealers', 'NOUN'), (\"'\", 'PRT'), ('Association', 'NOUN'), ('said', 'VERB'), ('0', 'X'), ('*T*-1', 'X'), ('.', '.')], [('U.S.', 'NOUN'), ('chip', 'NOUN'), ('makers', 'NOUN'), ('are', 'VERB'), ('facing', 'VERB'), ('continued', 'VERB'), ('slack', 'ADJ'), ('demand', 'NOUN'), ('following', 'VERB'), ('a', 'DET'), ('traditionally', 'ADV'), ('slow', 'ADJ'), ('summer', 'NOUN'), ('.', '.')], [('She', 'PRON'), ('was', 'VERB'), ('an', 'DET'), ('unstinting', 'ADJ'), ('teacher', 'NOUN'), ('who', 'PRON'), ('*T*-80', 'X'), ('won', 'VERB'), ('laurels', 'NOUN'), ('and', 'CONJ'), ('inspired', 'VERB'), ('students', 'NOUN'), (',', '.'), ('but', 'CONJ'), ('she', 'PRON'), ('will', 'VERB'), ('probably', 'ADV'), ('never', 'ADV'), ('teach', 'VERB'), ('again', 'ADV'), ('.', '.')], [('The', 'DET'), ('aerospace', 'NOUN'), (',', '.'), ('automotive', 'ADJ'), ('supply', 'NOUN'), (',', '.'), ('electronics', 'NOUN'), ('and', 'CONJ'), ('printing-press', 'NOUN'), ('concern', 'NOUN'), ('also', 'ADV'), ('indicated', 'VERB'), ('that', 'ADP'), ('the', 'DET'), ('first', 'ADJ'), ('half', 'DET'), ('of', 'ADP'), ('fiscal', 'ADJ'), ('1990', 'NUM'), ('could', 'VERB'), ('be', 'VERB'), ('rough', 'ADJ'), ('.', '.')], [('W.R.', 'NOUN'), ('Grace', 'NOUN'), ('holds', 'VERB'), ('three', 'NUM'), ('of', 'ADP'), ('Grace', 'NOUN'), ('Energy', 'NOUN'), (\"'s\", 'PRT'), ('seven', 'NUM'), ('board', 'NOUN'), ('seats', 'NOUN'), ('.', '.')]]\n"
     ]
    }
   ],
   "source": [
    "train_set, test_set = train_test_split(nltk_data,test_size=0.05,random_state=42)\n",
    "\n",
    "print(len(train_set))\n",
    "print(len(test_set))\n",
    "#95 % train set\n",
    "print(len(train_set)/(len(nltk_data)))\n",
    "print(train_set[:40])"
   ]
  },
  {
   "cell_type": "code",
   "execution_count": 5,
   "metadata": {},
   "outputs": [
    {
     "data": {
      "text/plain": [
       "95589"
      ]
     },
     "execution_count": 5,
     "metadata": {},
     "output_type": "execute_result"
    }
   ],
   "source": [
    "# Getting list of tagged words\n",
    "train_tagged_words = [tup for sent in train_set for tup in sent]\n",
    "len(train_tagged_words)"
   ]
  },
  {
   "cell_type": "code",
   "execution_count": 6,
   "metadata": {},
   "outputs": [
    {
     "data": {
      "text/plain": [
       "['Bank', 'of', 'New', 'England', \"'s\", 'shares', 'are', 'traded', '*-1', 'on']"
      ]
     },
     "execution_count": 6,
     "metadata": {},
     "output_type": "execute_result"
    }
   ],
   "source": [
    "# tokens \n",
    "tokens = [pair[0] for pair in train_tagged_words]\n",
    "tokens[:10]"
   ]
  },
  {
   "cell_type": "code",
   "execution_count": 7,
   "metadata": {},
   "outputs": [
    {
     "name": "stdout",
     "output_type": "stream",
     "text": [
      "12109\n"
     ]
    }
   ],
   "source": [
    "# vocabulary\n",
    "V = set(tokens)\n",
    "print(len(V))"
   ]
  },
  {
   "cell_type": "code",
   "execution_count": 8,
   "metadata": {},
   "outputs": [
    {
     "data": {
      "text/plain": [
       "12"
      ]
     },
     "execution_count": 8,
     "metadata": {},
     "output_type": "execute_result"
    }
   ],
   "source": [
    "# number of tags\n",
    "T = set([pair[1] for pair in train_tagged_words])\n",
    "len(T)"
   ]
  },
  {
   "cell_type": "code",
   "execution_count": 9,
   "metadata": {},
   "outputs": [
    {
     "name": "stdout",
     "output_type": "stream",
     "text": [
      "{'DET', 'X', 'ADP', 'ADJ', 'CONJ', 'PRON', 'ADV', '.', 'PRT', 'VERB', 'NUM', 'NOUN'}\n"
     ]
    }
   ],
   "source": [
    "print(T)"
   ]
  },
  {
   "cell_type": "code",
   "execution_count": null,
   "metadata": {},
   "outputs": [],
   "source": []
  },
  {
   "cell_type": "code",
   "execution_count": 10,
   "metadata": {},
   "outputs": [
    {
     "name": "stdout",
     "output_type": "stream",
     "text": [
      " NOUN  VERB     .   ADP   DET     X   ADJ   NUM   PRT   ADV  PRON  CONJ \n",
      "27423 12885 11118  9345  8284  6276  6077  3363  3059  3010  2618  2131 \n"
     ]
    }
   ],
   "source": [
    "#Frequency of Tags\n",
    "tags = [b for (a, b) in train_tagged_words]\n",
    "f = nltk.FreqDist(tags)\n",
    "f.tabulate()\n",
    "    "
   ]
  },
  {
   "cell_type": "code",
   "execution_count": 11,
   "metadata": {},
   "outputs": [
    {
     "data": {
      "image/png": "[encoded data removed]",
      "text/plain": [
       "<Figure size 432x288 with 1 Axes>"
      ]
     },
     "metadata": {
      "needs_background": "light"
     },
     "output_type": "display_data"
    },
    {
     "data": {
      "text/plain": [
       "<matplotlib.axes._subplots.AxesSubplot at 0x7fdea9682710>"
      ]
     },
     "execution_count": 11,
     "metadata": {},
     "output_type": "execute_result"
    }
   ],
   "source": [
    "%matplotlib inline\n",
    "f.plot(cumulative=True)"
   ]
  },
  {
   "cell_type": "markdown",
   "metadata": {},
   "source": [
    "### Build the vanilla Viterbi based POS tagger"
   ]
  },
  {
   "cell_type": "code",
   "execution_count": 12,
   "metadata": {},
   "outputs": [],
   "source": [
    "# compute word given tag: Emission Probability\n",
    "def word_given_tag(word, tag, train_bag = train_tagged_words):\n",
    "    tag_list = [pair for pair in train_bag if pair[1]==tag]\n",
    "    count_tag = len(tag_list)\n",
    "    w_given_tag_list = [pair[0] for pair in tag_list if pair[0]==word]    \n",
    "    count_w_given_tag = len(w_given_tag_list)\n",
    "    return (count_w_given_tag, count_tag)"
   ]
  },
  {
   "cell_type": "code",
   "execution_count": 13,
   "metadata": {},
   "outputs": [
    {
     "data": {
      "text/plain": [
       "27423"
      ]
     },
     "execution_count": 13,
     "metadata": {},
     "output_type": "execute_result"
    }
   ],
   "source": [
    "word_given_tag(\"Google\",\"NOUN\")[1]"
   ]
  },
  {
   "cell_type": "code",
   "execution_count": 14,
   "metadata": {},
   "outputs": [],
   "source": [
    "# compute tag given tag: tag2(t2) given tag1 (t1), i.e. Transition Probability\n",
    "\n",
    "def t2_given_t1(t2, t1, train_bag = train_tagged_words):\n",
    "    tags = [pair[1] for pair in train_bag]\n",
    "    count_t1 = len([t for t in tags if t==t1])\n",
    "    count_t2_t1 = 0\n",
    "    for index in range(len(tags)-1):\n",
    "        if tags[index]==t1 and tags[index+1] == t2:\n",
    "            count_t2_t1 += 1\n",
    "    return (count_t2_t1, count_t1)"
   ]
  },
  {
   "cell_type": "code",
   "execution_count": 15,
   "metadata": {},
   "outputs": [],
   "source": [
    "tags_matrix = np.zeros((len(T), len(T)), dtype='float32')\n",
    "for i, t1 in enumerate(list(T)):\n",
    "    for j, t2 in enumerate(list(T)): \n",
    "        tags_matrix[i, j] = t2_given_t1(t2, t1)[0]/t2_given_t1(t2, t1)[1]"
   ]
  },
  {
   "cell_type": "code",
   "execution_count": 16,
   "metadata": {
    "scrolled": true
   },
   "outputs": [
    {
     "data": {
      "text/plain": [
       "array([[5.31144394e-03, 4.55094166e-02, 9.05359723e-03, 2.04973444e-01,\n",
       "        4.82858537e-04, 3.74215352e-03, 1.23128919e-02, 1.79864801e-02,\n",
       "        2.41429268e-04, 3.83872539e-02, 2.19700634e-02, 6.40028954e-01],\n",
       "       [5.51306568e-02, 7.64818341e-02, 1.42925426e-01, 1.65710635e-02,\n",
       "        1.03569152e-02, 5.60866781e-02, 2.51752716e-02, 1.63798600e-01,\n",
       "        1.85787126e-01, 2.03632891e-01, 2.70873168e-03, 6.13448061e-02],\n",
       "       [3.26377749e-01, 3.40288915e-02, 1.72284637e-02, 1.05296947e-01,\n",
       "        8.56072758e-04, 6.91278726e-02, 1.31621184e-02, 3.94863561e-02,\n",
       "        1.49812736e-03, 8.23970046e-03, 6.29213452e-02, 3.21776360e-01],\n",
       "       [5.10120112e-03, 2.13921349e-02, 7.89863393e-02, 6.66447282e-02,\n",
       "        1.69491526e-02, 6.58219506e-04, 4.60753683e-03, 6.53282851e-02,\n",
       "        1.08606219e-02, 1.23416157e-02, 2.04048045e-02, 6.96725368e-01],\n",
       "       [1.21539183e-01, 7.97747541e-03, 5.44345379e-02, 1.16846554e-01,\n",
       "        4.69263265e-04, 5.86579069e-02, 5.58423288e-02, 3.42562161e-02,\n",
       "        4.69263270e-03, 1.53918341e-01, 4.22336943e-02, 3.49131852e-01],\n",
       "       [9.54927411e-03, 9.28189456e-02, 2.29182579e-02, 7.48663098e-02,\n",
       "        4.96562244e-03, 8.02139007e-03, 3.39954160e-02, 4.12528664e-02,\n",
       "        1.22230714e-02, 4.80901450e-01, 7.25744851e-03, 2.11229950e-01],\n",
       "       [6.71096370e-02, 2.35880390e-02, 1.19601332e-01, 1.30232558e-01,\n",
       "        6.31229253e-03, 1.56146176e-02, 8.10631216e-02, 1.36877075e-01,\n",
       "        1.36212623e-02, 3.44518274e-01, 3.05647831e-02, 3.08970101e-02],\n",
       "       [1.73502430e-01, 2.66234931e-02, 9.11135077e-02, 4.49721180e-02,\n",
       "        5.79240881e-02, 6.53894618e-02, 5.20777106e-02, 9.38118398e-02,\n",
       "        2.33855005e-03, 8.85051265e-02, 8.05000886e-02, 2.23151639e-01],\n",
       "       [1.00359596e-01, 1.34030730e-02, 2.15756781e-02, 8.63027126e-02,\n",
       "        2.28832942e-03, 1.89604443e-02, 1.01340311e-02, 4.15168367e-02,\n",
       "        1.63452106e-03, 4.02745992e-01, 5.85158542e-02, 2.42562935e-01],\n",
       "       [1.33100510e-01, 2.18005434e-01, 9.04928222e-02, 6.46488145e-02,\n",
       "        5.58789307e-03, 3.62436958e-02, 8.25766400e-02, 3.53123769e-02,\n",
       "        3.11214589e-02, 1.69188976e-01, 2.28172299e-02, 1.10904150e-01],\n",
       "       [3.27088917e-03, 2.06660718e-01, 3.47903669e-02, 3.41956578e-02,\n",
       "        1.33809103e-02, 1.48676778e-03, 2.97353556e-03, 1.18346713e-01,\n",
       "        2.79512331e-02, 1.75438598e-02, 1.84061855e-01, 3.55337501e-01],\n",
       "       [1.33099956e-02, 2.91361269e-02, 1.76275387e-01, 1.22889541e-02,\n",
       "        4.19356003e-02, 4.92287474e-03, 1.68836378e-02, 2.39178792e-01,\n",
       "        4.38318215e-02, 1.47977978e-01, 9.62695573e-03, 2.64631867e-01]],\n",
       "      dtype=float32)"
      ]
     },
     "execution_count": 16,
     "metadata": {},
     "output_type": "execute_result"
    }
   ],
   "source": [
    "tags_matrix"
   ]
  },
  {
   "cell_type": "code",
   "execution_count": 17,
   "metadata": {},
   "outputs": [],
   "source": [
    "# convert the matrix to a df for better readability\n",
    "tags_df = pd.DataFrame(tags_matrix, columns = list(T), index=list(T))"
   ]
  },
  {
   "cell_type": "code",
   "execution_count": 18,
   "metadata": {},
   "outputs": [
    {
     "data": {
      "text/html": [
       "<div>\n",
       "<style scoped>\n",
       "    .dataframe tbody tr th:only-of-type {\n",
       "        vertical-align: middle;\n",
       "    }\n",
       "\n",
       "    .dataframe tbody tr th {\n",
       "        vertical-align: top;\n",
       "    }\n",
       "\n",
       "    .dataframe thead th {\n",
       "        text-align: right;\n",
       "    }\n",
       "</style>\n",
       "<table border=\"1\" class=\"dataframe\">\n",
       "  <thead>\n",
       "    <tr style=\"text-align: right;\">\n",
       "      <th></th>\n",
       "      <th>DET</th>\n",
       "      <th>X</th>\n",
       "      <th>ADP</th>\n",
       "      <th>ADJ</th>\n",
       "      <th>CONJ</th>\n",
       "      <th>PRON</th>\n",
       "      <th>ADV</th>\n",
       "      <th>.</th>\n",
       "      <th>PRT</th>\n",
       "      <th>VERB</th>\n",
       "      <th>NUM</th>\n",
       "      <th>NOUN</th>\n",
       "    </tr>\n",
       "  </thead>\n",
       "  <tbody>\n",
       "    <tr>\n",
       "      <td>DET</td>\n",
       "      <td>0.005311</td>\n",
       "      <td>0.045509</td>\n",
       "      <td>0.009054</td>\n",
       "      <td>0.204973</td>\n",
       "      <td>0.000483</td>\n",
       "      <td>0.003742</td>\n",
       "      <td>0.012313</td>\n",
       "      <td>0.017986</td>\n",
       "      <td>0.000241</td>\n",
       "      <td>0.038387</td>\n",
       "      <td>0.021970</td>\n",
       "      <td>0.640029</td>\n",
       "    </tr>\n",
       "    <tr>\n",
       "      <td>X</td>\n",
       "      <td>0.055131</td>\n",
       "      <td>0.076482</td>\n",
       "      <td>0.142925</td>\n",
       "      <td>0.016571</td>\n",
       "      <td>0.010357</td>\n",
       "      <td>0.056087</td>\n",
       "      <td>0.025175</td>\n",
       "      <td>0.163799</td>\n",
       "      <td>0.185787</td>\n",
       "      <td>0.203633</td>\n",
       "      <td>0.002709</td>\n",
       "      <td>0.061345</td>\n",
       "    </tr>\n",
       "    <tr>\n",
       "      <td>ADP</td>\n",
       "      <td>0.326378</td>\n",
       "      <td>0.034029</td>\n",
       "      <td>0.017228</td>\n",
       "      <td>0.105297</td>\n",
       "      <td>0.000856</td>\n",
       "      <td>0.069128</td>\n",
       "      <td>0.013162</td>\n",
       "      <td>0.039486</td>\n",
       "      <td>0.001498</td>\n",
       "      <td>0.008240</td>\n",
       "      <td>0.062921</td>\n",
       "      <td>0.321776</td>\n",
       "    </tr>\n",
       "    <tr>\n",
       "      <td>ADJ</td>\n",
       "      <td>0.005101</td>\n",
       "      <td>0.021392</td>\n",
       "      <td>0.078986</td>\n",
       "      <td>0.066645</td>\n",
       "      <td>0.016949</td>\n",
       "      <td>0.000658</td>\n",
       "      <td>0.004608</td>\n",
       "      <td>0.065328</td>\n",
       "      <td>0.010861</td>\n",
       "      <td>0.012342</td>\n",
       "      <td>0.020405</td>\n",
       "      <td>0.696725</td>\n",
       "    </tr>\n",
       "    <tr>\n",
       "      <td>CONJ</td>\n",
       "      <td>0.121539</td>\n",
       "      <td>0.007977</td>\n",
       "      <td>0.054435</td>\n",
       "      <td>0.116847</td>\n",
       "      <td>0.000469</td>\n",
       "      <td>0.058658</td>\n",
       "      <td>0.055842</td>\n",
       "      <td>0.034256</td>\n",
       "      <td>0.004693</td>\n",
       "      <td>0.153918</td>\n",
       "      <td>0.042234</td>\n",
       "      <td>0.349132</td>\n",
       "    </tr>\n",
       "    <tr>\n",
       "      <td>PRON</td>\n",
       "      <td>0.009549</td>\n",
       "      <td>0.092819</td>\n",
       "      <td>0.022918</td>\n",
       "      <td>0.074866</td>\n",
       "      <td>0.004966</td>\n",
       "      <td>0.008021</td>\n",
       "      <td>0.033995</td>\n",
       "      <td>0.041253</td>\n",
       "      <td>0.012223</td>\n",
       "      <td>0.480901</td>\n",
       "      <td>0.007257</td>\n",
       "      <td>0.211230</td>\n",
       "    </tr>\n",
       "    <tr>\n",
       "      <td>ADV</td>\n",
       "      <td>0.067110</td>\n",
       "      <td>0.023588</td>\n",
       "      <td>0.119601</td>\n",
       "      <td>0.130233</td>\n",
       "      <td>0.006312</td>\n",
       "      <td>0.015615</td>\n",
       "      <td>0.081063</td>\n",
       "      <td>0.136877</td>\n",
       "      <td>0.013621</td>\n",
       "      <td>0.344518</td>\n",
       "      <td>0.030565</td>\n",
       "      <td>0.030897</td>\n",
       "    </tr>\n",
       "    <tr>\n",
       "      <td>.</td>\n",
       "      <td>0.173502</td>\n",
       "      <td>0.026623</td>\n",
       "      <td>0.091114</td>\n",
       "      <td>0.044972</td>\n",
       "      <td>0.057924</td>\n",
       "      <td>0.065389</td>\n",
       "      <td>0.052078</td>\n",
       "      <td>0.093812</td>\n",
       "      <td>0.002339</td>\n",
       "      <td>0.088505</td>\n",
       "      <td>0.080500</td>\n",
       "      <td>0.223152</td>\n",
       "    </tr>\n",
       "    <tr>\n",
       "      <td>PRT</td>\n",
       "      <td>0.100360</td>\n",
       "      <td>0.013403</td>\n",
       "      <td>0.021576</td>\n",
       "      <td>0.086303</td>\n",
       "      <td>0.002288</td>\n",
       "      <td>0.018960</td>\n",
       "      <td>0.010134</td>\n",
       "      <td>0.041517</td>\n",
       "      <td>0.001635</td>\n",
       "      <td>0.402746</td>\n",
       "      <td>0.058516</td>\n",
       "      <td>0.242563</td>\n",
       "    </tr>\n",
       "    <tr>\n",
       "      <td>VERB</td>\n",
       "      <td>0.133101</td>\n",
       "      <td>0.218005</td>\n",
       "      <td>0.090493</td>\n",
       "      <td>0.064649</td>\n",
       "      <td>0.005588</td>\n",
       "      <td>0.036244</td>\n",
       "      <td>0.082577</td>\n",
       "      <td>0.035312</td>\n",
       "      <td>0.031121</td>\n",
       "      <td>0.169189</td>\n",
       "      <td>0.022817</td>\n",
       "      <td>0.110904</td>\n",
       "    </tr>\n",
       "    <tr>\n",
       "      <td>NUM</td>\n",
       "      <td>0.003271</td>\n",
       "      <td>0.206661</td>\n",
       "      <td>0.034790</td>\n",
       "      <td>0.034196</td>\n",
       "      <td>0.013381</td>\n",
       "      <td>0.001487</td>\n",
       "      <td>0.002974</td>\n",
       "      <td>0.118347</td>\n",
       "      <td>0.027951</td>\n",
       "      <td>0.017544</td>\n",
       "      <td>0.184062</td>\n",
       "      <td>0.355338</td>\n",
       "    </tr>\n",
       "    <tr>\n",
       "      <td>NOUN</td>\n",
       "      <td>0.013310</td>\n",
       "      <td>0.029136</td>\n",
       "      <td>0.176275</td>\n",
       "      <td>0.012289</td>\n",
       "      <td>0.041936</td>\n",
       "      <td>0.004923</td>\n",
       "      <td>0.016884</td>\n",
       "      <td>0.239179</td>\n",
       "      <td>0.043832</td>\n",
       "      <td>0.147978</td>\n",
       "      <td>0.009627</td>\n",
       "      <td>0.264632</td>\n",
       "    </tr>\n",
       "  </tbody>\n",
       "</table>\n",
       "</div>"
      ],
      "text/plain": [
       "           DET         X       ADP       ADJ      CONJ      PRON       ADV  \\\n",
       "DET   0.005311  0.045509  0.009054  0.204973  0.000483  0.003742  0.012313   \n",
       "X     0.055131  0.076482  0.142925  0.016571  0.010357  0.056087  0.025175   \n",
       "ADP   0.326378  0.034029  0.017228  0.105297  0.000856  0.069128  0.013162   \n",
       "ADJ   0.005101  0.021392  0.078986  0.066645  0.016949  0.000658  0.004608   \n",
       "CONJ  0.121539  0.007977  0.054435  0.116847  0.000469  0.058658  0.055842   \n",
       "PRON  0.009549  0.092819  0.022918  0.074866  0.004966  0.008021  0.033995   \n",
       "ADV   0.067110  0.023588  0.119601  0.130233  0.006312  0.015615  0.081063   \n",
       ".     0.173502  0.026623  0.091114  0.044972  0.057924  0.065389  0.052078   \n",
       "PRT   0.100360  0.013403  0.021576  0.086303  0.002288  0.018960  0.010134   \n",
       "VERB  0.133101  0.218005  0.090493  0.064649  0.005588  0.036244  0.082577   \n",
       "NUM   0.003271  0.206661  0.034790  0.034196  0.013381  0.001487  0.002974   \n",
       "NOUN  0.013310  0.029136  0.176275  0.012289  0.041936  0.004923  0.016884   \n",
       "\n",
       "             .       PRT      VERB       NUM      NOUN  \n",
       "DET   0.017986  0.000241  0.038387  0.021970  0.640029  \n",
       "X     0.163799  0.185787  0.203633  0.002709  0.061345  \n",
       "ADP   0.039486  0.001498  0.008240  0.062921  0.321776  \n",
       "ADJ   0.065328  0.010861  0.012342  0.020405  0.696725  \n",
       "CONJ  0.034256  0.004693  0.153918  0.042234  0.349132  \n",
       "PRON  0.041253  0.012223  0.480901  0.007257  0.211230  \n",
       "ADV   0.136877  0.013621  0.344518  0.030565  0.030897  \n",
       ".     0.093812  0.002339  0.088505  0.080500  0.223152  \n",
       "PRT   0.041517  0.001635  0.402746  0.058516  0.242563  \n",
       "VERB  0.035312  0.031121  0.169189  0.022817  0.110904  \n",
       "NUM   0.118347  0.027951  0.017544  0.184062  0.355338  \n",
       "NOUN  0.239179  0.043832  0.147978  0.009627  0.264632  "
      ]
     },
     "execution_count": 18,
     "metadata": {},
     "output_type": "execute_result"
    }
   ],
   "source": [
    "tags_df"
   ]
  },
  {
   "cell_type": "code",
   "execution_count": 19,
   "metadata": {},
   "outputs": [
    {
     "data": {
      "text/plain": [
       "'ADP'"
      ]
     },
     "execution_count": 19,
     "metadata": {},
     "output_type": "execute_result"
    }
   ],
   "source": [
    "tags_df.idxmax()[0]"
   ]
  },
  {
   "cell_type": "code",
   "execution_count": 20,
   "metadata": {},
   "outputs": [],
   "source": [
    "# Viterbi Heuristic\n",
    "def Viterbi(words, train_bag = train_tagged_words):\n",
    "    state = []\n",
    "    T = list(set([pair[1] for pair in train_bag]))\n",
    "    \n",
    "    for key, word in enumerate(words):\n",
    "        #initialise list of probability column for a given observation\n",
    "        p = [] \n",
    "        for tag in T:\n",
    "            if key == 0:\n",
    "                transition_p = tags_df.loc['.', tag]\n",
    "            else:\n",
    "                transition_p = tags_df.loc[state[-1], tag]\n",
    "                \n",
    "            # compute emission and state probabilities\n",
    "            emission_p = word_given_tag(words[key], tag)[0]/word_given_tag(words[key], tag)[1]\n",
    "            state_probability = emission_p * transition_p    \n",
    "            p.append(state_probability)\n",
    "            \n",
    "        pmax = max(p)\n",
    "        # getting state for which probability is maximum\n",
    "        state_max = T[p.index(pmax)] \n",
    "        state.append(state_max)\n",
    "    return list(zip(words, state))"
   ]
  },
  {
   "cell_type": "code",
   "execution_count": 21,
   "metadata": {},
   "outputs": [],
   "source": [
    "test_tagged_words = [tup[0] for sent in test_set for tup in sent]"
   ]
  },
  {
   "cell_type": "code",
   "execution_count": 22,
   "metadata": {},
   "outputs": [
    {
     "data": {
      "text/plain": [
       "['For', 'the', 'Agency', 'for', 'International']"
      ]
     },
     "execution_count": 22,
     "metadata": {},
     "output_type": "execute_result"
    }
   ],
   "source": [
    "test_tagged_words[:5]"
   ]
  },
  {
   "cell_type": "code",
   "execution_count": 23,
   "metadata": {},
   "outputs": [],
   "source": [
    "#Viterbi(['Google'])\n",
    "tagged_seq = Viterbi(test_tagged_words[:100])"
   ]
  },
  {
   "cell_type": "code",
   "execution_count": 24,
   "metadata": {},
   "outputs": [],
   "source": [
    "test_run_base = [tup for sent in test_set for tup in sent]"
   ]
  },
  {
   "cell_type": "code",
   "execution_count": 25,
   "metadata": {},
   "outputs": [],
   "source": [
    "# accuracy\n",
    "check = [i for i, j in zip(tagged_seq, test_run_base[:100]) if i == j] "
   ]
  },
  {
   "cell_type": "code",
   "execution_count": 26,
   "metadata": {},
   "outputs": [],
   "source": [
    "accuracy_vanilla = len(check)/len(tagged_seq)"
   ]
  },
  {
   "cell_type": "code",
   "execution_count": 27,
   "metadata": {},
   "outputs": [
    {
     "data": {
      "text/plain": [
       "[('For', 'ADP'),\n",
       " ('the', 'DET'),\n",
       " ('Agency', 'NOUN'),\n",
       " ('for', 'ADP'),\n",
       " ('International', 'NOUN')]"
      ]
     },
     "execution_count": 27,
     "metadata": {},
     "output_type": "execute_result"
    }
   ],
   "source": [
    "test_run_base[:5]"
   ]
  },
  {
   "cell_type": "code",
   "execution_count": 28,
   "metadata": {},
   "outputs": [
    {
     "data": {
      "text/plain": [
       "0.95"
      ]
     },
     "execution_count": 28,
     "metadata": {},
     "output_type": "execute_result"
    }
   ],
   "source": [
    "accuracy_vanilla"
   ]
  },
  {
   "cell_type": "code",
   "execution_count": 29,
   "metadata": {},
   "outputs": [],
   "source": [
    "incorrect_tagged_cases = [[test_run_base[i-1],j] for i, j in enumerate(zip(tagged_seq, test_run_base)) if j[0]!=j[1]]"
   ]
  },
  {
   "cell_type": "code",
   "execution_count": 30,
   "metadata": {},
   "outputs": [
    {
     "data": {
      "text/plain": [
       "[[('expanded', 'VERB'), (('trade', 'VERB'), ('trade', 'NOUN'))],\n",
       " [('the', 'DET'), (('Overseas', 'DET'), ('Overseas', 'NOUN'))],\n",
       " [('Overseas', 'NOUN'), (('Private', 'ADJ'), ('Private', 'NOUN'))],\n",
       " [('settled', 'VERB'), (('pre-1917', 'DET'), ('pre-1917', 'ADJ'))],\n",
       " [('``', '.'), (('Unemployment', 'DET'), ('Unemployment', 'NOUN'))]]"
      ]
     },
     "execution_count": 30,
     "metadata": {},
     "output_type": "execute_result"
    }
   ],
   "source": [
    "incorrect_tagged_cases"
   ]
  },
  {
   "cell_type": "code",
   "execution_count": 31,
   "metadata": {},
   "outputs": [],
   "source": [
    "from nltk.tokenize import word_tokenize\n",
    "\n",
    "test_sentence = \"\"\"Android is a mobile operating system developed by Google.\n",
    "Android has been the best-selling OS worldwide on smartphones since 2011 and on tablets since 2013.\n",
    "Google and Twitter made a deal in 2015 that gave Google access to Twitter's firehose.\n",
    "Twitter is an online news and social networking service on which users post and interact with messages known as tweets.\n",
    "Before entering politics, Donald Trump was a domineering businessman and a television personality.\n",
    "The 2018 FIFA World Cup is the 21st FIFA World Cup, an international football tournament contested once every four years.\n",
    "This is the first World Cup to be held in Eastern Europe and the 11th time that it has been held in Europe.\n",
    "Show me the cheapest round trips from Dallas to Atlanta\n",
    "I would like to see flights from Denver to Philadelphia.\n",
    "Show me the price of the flights leaving Atlanta at about 3 in the afternoon and arriving in San Francisco.\n",
    "NASA invited social media users to experience the launch of ICESAT-2 Satellite.\"\"\"\n",
    "\n",
    "\n",
    "words = word_tokenize(test_sentence)"
   ]
  },
  {
   "cell_type": "code",
   "execution_count": 32,
   "metadata": {},
   "outputs": [],
   "source": [
    "tagged_seq = Viterbi(words)"
   ]
  },
  {
   "cell_type": "code",
   "execution_count": 33,
   "metadata": {},
   "outputs": [
    {
     "data": {
      "text/plain": [
       "[('Android', 'DET'),\n",
       " ('is', 'VERB'),\n",
       " ('a', 'DET'),\n",
       " ('mobile', 'ADJ'),\n",
       " ('operating', 'NOUN'),\n",
       " ('system', 'NOUN'),\n",
       " ('developed', 'VERB'),\n",
       " ('by', 'ADP'),\n",
       " ('Google', 'DET'),\n",
       " ('.', '.'),\n",
       " ('Android', 'DET'),\n",
       " ('has', 'VERB'),\n",
       " ('been', 'VERB'),\n",
       " ('the', 'DET'),\n",
       " ('best-selling', 'ADJ'),\n",
       " ('OS', 'DET'),\n",
       " ('worldwide', 'DET'),\n",
       " ('on', 'ADP'),\n",
       " ('smartphones', 'DET'),\n",
       " ('since', 'ADP'),\n",
       " ('2011', 'DET'),\n",
       " ('and', 'CONJ'),\n",
       " ('on', 'ADP'),\n",
       " ('tablets', 'NOUN'),\n",
       " ('since', 'ADP'),\n",
       " ('2013', 'DET'),\n",
       " ('.', '.'),\n",
       " ('Google', 'DET'),\n",
       " ('and', 'CONJ'),\n",
       " ('Twitter', 'DET'),\n",
       " ('made', 'VERB'),\n",
       " ('a', 'DET'),\n",
       " ('deal', 'NOUN'),\n",
       " ('in', 'ADP'),\n",
       " ('2015', 'DET'),\n",
       " ('that', 'ADP'),\n",
       " ('gave', 'VERB'),\n",
       " ('Google', 'DET'),\n",
       " ('access', 'NOUN'),\n",
       " ('to', 'PRT'),\n",
       " ('Twitter', 'DET'),\n",
       " (\"'s\", 'VERB'),\n",
       " ('firehose', 'DET'),\n",
       " ('.', '.'),\n",
       " ('Twitter', 'DET'),\n",
       " ('is', 'VERB'),\n",
       " ('an', 'DET'),\n",
       " ('online', 'DET'),\n",
       " ('news', 'NOUN'),\n",
       " ('and', 'CONJ'),\n",
       " ('social', 'ADJ'),\n",
       " ('networking', 'NOUN'),\n",
       " ('service', 'NOUN'),\n",
       " ('on', 'ADP'),\n",
       " ('which', 'DET'),\n",
       " ('users', 'NOUN'),\n",
       " ('post', 'NOUN'),\n",
       " ('and', 'CONJ'),\n",
       " ('interact', 'DET'),\n",
       " ('with', 'ADP'),\n",
       " ('messages', 'DET'),\n",
       " ('known', 'VERB'),\n",
       " ('as', 'ADP'),\n",
       " ('tweets', 'DET'),\n",
       " ('.', '.'),\n",
       " ('Before', 'ADP'),\n",
       " ('entering', 'VERB'),\n",
       " ('politics', 'NOUN'),\n",
       " (',', '.'),\n",
       " ('Donald', 'NOUN'),\n",
       " ('Trump', 'NOUN'),\n",
       " ('was', 'VERB'),\n",
       " ('a', 'DET'),\n",
       " ('domineering', 'DET'),\n",
       " ('businessman', 'NOUN'),\n",
       " ('and', 'CONJ'),\n",
       " ('a', 'DET'),\n",
       " ('television', 'NOUN'),\n",
       " ('personality', 'DET'),\n",
       " ('.', '.'),\n",
       " ('The', 'DET'),\n",
       " ('2018', 'DET'),\n",
       " ('FIFA', 'DET'),\n",
       " ('World', 'NOUN'),\n",
       " ('Cup', 'DET'),\n",
       " ('is', 'VERB'),\n",
       " ('the', 'DET'),\n",
       " ('21st', 'DET'),\n",
       " ('FIFA', 'DET'),\n",
       " ('World', 'NOUN'),\n",
       " ('Cup', 'DET'),\n",
       " (',', '.'),\n",
       " ('an', 'DET'),\n",
       " ('international', 'ADJ'),\n",
       " ('football', 'NOUN'),\n",
       " ('tournament', 'DET'),\n",
       " ('contested', 'DET'),\n",
       " ('once', 'ADV'),\n",
       " ('every', 'DET'),\n",
       " ('four', 'NUM'),\n",
       " ('years', 'NOUN'),\n",
       " ('.', '.'),\n",
       " ('This', 'DET'),\n",
       " ('is', 'VERB'),\n",
       " ('the', 'DET'),\n",
       " ('first', 'ADJ'),\n",
       " ('World', 'NOUN'),\n",
       " ('Cup', 'DET'),\n",
       " ('to', 'PRT'),\n",
       " ('be', 'VERB'),\n",
       " ('held', 'VERB'),\n",
       " ('in', 'ADP'),\n",
       " ('Eastern', 'NOUN'),\n",
       " ('Europe', 'NOUN'),\n",
       " ('and', 'CONJ'),\n",
       " ('the', 'DET'),\n",
       " ('11th', 'ADJ'),\n",
       " ('time', 'NOUN'),\n",
       " ('that', 'ADP'),\n",
       " ('it', 'PRON'),\n",
       " ('has', 'VERB'),\n",
       " ('been', 'VERB'),\n",
       " ('held', 'VERB'),\n",
       " ('in', 'ADP'),\n",
       " ('Europe', 'NOUN'),\n",
       " ('.', '.'),\n",
       " ('Show', 'NOUN'),\n",
       " ('me', 'PRON'),\n",
       " ('the', 'DET'),\n",
       " ('cheapest', 'ADJ'),\n",
       " ('round', 'NOUN'),\n",
       " ('trips', 'DET'),\n",
       " ('from', 'ADP'),\n",
       " ('Dallas', 'NOUN'),\n",
       " ('to', 'PRT'),\n",
       " ('Atlanta', 'NOUN'),\n",
       " ('I', 'PRON'),\n",
       " ('would', 'VERB'),\n",
       " ('like', 'ADP'),\n",
       " ('to', 'PRT'),\n",
       " ('see', 'VERB'),\n",
       " ('flights', 'NOUN'),\n",
       " ('from', 'ADP'),\n",
       " ('Denver', 'NOUN'),\n",
       " ('to', 'PRT'),\n",
       " ('Philadelphia', 'NOUN'),\n",
       " ('.', '.'),\n",
       " ('Show', 'NOUN'),\n",
       " ('me', 'PRON'),\n",
       " ('the', 'DET'),\n",
       " ('price', 'NOUN'),\n",
       " ('of', 'ADP'),\n",
       " ('the', 'DET'),\n",
       " ('flights', 'NOUN'),\n",
       " ('leaving', 'VERB'),\n",
       " ('Atlanta', 'NOUN'),\n",
       " ('at', 'ADP'),\n",
       " ('about', 'ADP'),\n",
       " ('3', 'NUM'),\n",
       " ('in', 'ADP'),\n",
       " ('the', 'DET'),\n",
       " ('afternoon', 'NOUN'),\n",
       " ('and', 'CONJ'),\n",
       " ('arriving', 'DET'),\n",
       " ('in', 'ADP'),\n",
       " ('San', 'NOUN'),\n",
       " ('Francisco', 'NOUN'),\n",
       " ('.', '.'),\n",
       " ('NASA', 'DET'),\n",
       " ('invited', 'DET'),\n",
       " ('social', 'ADJ'),\n",
       " ('media', 'NOUN'),\n",
       " ('users', 'NOUN'),\n",
       " ('to', 'PRT'),\n",
       " ('experience', 'NOUN'),\n",
       " ('the', 'DET'),\n",
       " ('launch', 'NOUN'),\n",
       " ('of', 'ADP'),\n",
       " ('ICESAT-2', 'DET'),\n",
       " ('Satellite', 'DET'),\n",
       " ('.', '.')]"
      ]
     },
     "execution_count": 33,
     "metadata": {},
     "output_type": "execute_result"
    }
   ],
   "source": [
    "tagged_seq"
   ]
  },
  {
   "cell_type": "markdown",
   "metadata": {},
   "source": [
    "### Solve the problem of unknown words"
   ]
  },
  {
   "cell_type": "code",
   "execution_count": 34,
   "metadata": {},
   "outputs": [],
   "source": [
    "def laplace_smoothing(x,n,d):\n",
    "    k = 1\n",
    "    return ((x + k) / (n + k*d))"
   ]
  },
  {
   "cell_type": "code",
   "execution_count": null,
   "metadata": {},
   "outputs": [],
   "source": []
  },
  {
   "cell_type": "code",
   "execution_count": 35,
   "metadata": {},
   "outputs": [],
   "source": [
    "def findtags(tag_prefix, tagged_text):\n",
    "    cfd = nltk.ConditionalFreqDist((tag, word) for (word, tag) in tagged_text\n",
    "                                  if tag.startswith(tag_prefix))\n",
    "    return dict((tag, cfd[tag].most_common(5)) for tag in cfd.conditions())"
   ]
  },
  {
   "cell_type": "code",
   "execution_count": 36,
   "metadata": {},
   "outputs": [],
   "source": [
    "tagdict = findtags('NOUN', train_tagged_words)"
   ]
  },
  {
   "cell_type": "code",
   "execution_count": 37,
   "metadata": {},
   "outputs": [
    {
     "name": "stdout",
     "output_type": "stream",
     "text": [
      "NOUN [('%', 420), ('Mr.', 359), ('company', 244), ('U.S.', 213), ('year', 193)]\n"
     ]
    }
   ],
   "source": [
    "for tag in sorted(tagdict):\n",
    "     print(tag, tagdict[tag])"
   ]
  },
  {
   "cell_type": "code",
   "execution_count": 38,
   "metadata": {},
   "outputs": [
    {
     "data": {
      "text/plain": [
       "<generator object bigrams at 0x7fdea33cf350>"
      ]
     },
     "execution_count": 38,
     "metadata": {},
     "output_type": "execute_result"
    }
   ],
   "source": [
    "nltk.bigrams(train_tagged_words)"
   ]
  },
  {
   "cell_type": "code",
   "execution_count": 39,
   "metadata": {},
   "outputs": [
    {
     "name": "stdout",
     "output_type": "stream",
     "text": [
      "NOUN    .  PRT VERB \n",
      "  25    5    1    1 \n"
     ]
    }
   ],
   "source": [
    "tags = [b[1] for (a, b) in nltk.bigrams(train_tagged_words) if a[0] == 'International']\n",
    "fd = nltk.FreqDist(tags)\n",
    "fd.tabulate()"
   ]
  },
  {
   "cell_type": "code",
   "execution_count": 40,
   "metadata": {},
   "outputs": [],
   "source": [
    "def process(sentence):\n",
    "    for (w1,t1), (w2,t2), (w3,t3) in nltk.trigrams(sentence):\n",
    "        if (t1.startswith('V') and t2 == 'TO' and t3.startswith('V')):\n",
    "            print(w1, w2, w3)"
   ]
  },
  {
   "cell_type": "code",
   "execution_count": 41,
   "metadata": {},
   "outputs": [],
   "source": [
    "for tagged_sent in train_tagged_words:\n",
    "     process(tagged_sent)"
   ]
  },
  {
   "cell_type": "code",
   "execution_count": 42,
   "metadata": {},
   "outputs": [],
   "source": [
    "t0 = nltk.DefaultTagger('NOUN')\n",
    "t1 = nltk.UnigramTagger(train_set, backoff=t0)\n",
    "t2 = nltk.BigramTagger(train_set, backoff=t1)"
   ]
  },
  {
   "cell_type": "code",
   "execution_count": 43,
   "metadata": {},
   "outputs": [
    {
     "data": {
      "text/plain": [
       "[('For', 'ADP'),\n",
       " ('the', 'DET'),\n",
       " ('Agency', 'NOUN'),\n",
       " ('for', 'ADP'),\n",
       " ('International', 'NOUN'),\n",
       " ('Development', 'NOUN'),\n",
       " (',', '.'),\n",
       " ('appropriators', 'NOUN'),\n",
       " ('approved', 'VERB'),\n",
       " ('$', '.'),\n",
       " ('200', 'NUM'),\n",
       " ('million', 'NUM'),\n",
       " ('*U*', 'X'),\n",
       " ('in', 'ADP'),\n",
       " ('secondary', 'ADJ'),\n",
       " ('loan', 'NOUN'),\n",
       " ('guarantees', 'NOUN'),\n",
       " ('under', 'ADP'),\n",
       " ('an', 'DET'),\n",
       " ('expanded', 'VERB'),\n",
       " ('trade', 'NOUN'),\n",
       " ('credit', 'NOUN'),\n",
       " ('insurance', 'NOUN'),\n",
       " ('program', 'NOUN'),\n",
       " (',', '.'),\n",
       " ('and', 'CONJ'),\n",
       " ('total', 'ADJ'),\n",
       " ('loan', 'NOUN'),\n",
       " ('guarantees', 'NOUN'),\n",
       " ('for', 'ADP'),\n",
       " ('the', 'DET'),\n",
       " ('Overseas', 'NOUN'),\n",
       " ('Private', 'NOUN'),\n",
       " ('Investment', 'NOUN'),\n",
       " ('Corp.', 'NOUN'),\n",
       " ('are', 'VERB'),\n",
       " ('increased', 'VERB'),\n",
       " ('*-3', 'X'),\n",
       " ('by', 'ADP'),\n",
       " ('$', '.'),\n",
       " ('40', 'NUM'),\n",
       " ('million', 'NUM'),\n",
       " ('*U*', 'X'),\n",
       " ('over', 'ADP'),\n",
       " ('fiscal', 'ADJ'),\n",
       " ('1989', 'NUM'),\n",
       " ('as', 'ADP'),\n",
       " ('part', 'NOUN'),\n",
       " ('of', 'ADP'),\n",
       " ('the', 'DET')]"
      ]
     },
     "execution_count": 43,
     "metadata": {},
     "output_type": "execute_result"
    }
   ],
   "source": [
    "tag = t2.tag(test_tagged_words[:50])\n",
    "#print(tag[])\n",
    "\n",
    "test_run_base[:50]"
   ]
  },
  {
   "cell_type": "markdown",
   "metadata": {},
   "source": [
    "### Modification 1: Laplace Smoothing for word with emmision probability as 0"
   ]
  },
  {
   "cell_type": "code",
   "execution_count": 44,
   "metadata": {},
   "outputs": [],
   "source": [
    "def Viterbi_with_mod(words, train_bag = train_tagged_words):\n",
    "    state = []\n",
    "    T = list(set([pair[1] for pair in train_bag]))\n",
    "    \n",
    "    for key, word in enumerate(words):\n",
    "        #initialise list of probability column for a given observation\n",
    "        p = [] \n",
    "        for tag in T:\n",
    "            if key == 0:\n",
    "                transition_p = tags_df.loc['.', tag]\n",
    "            else:\n",
    "                transition_p = tags_df.loc[state[-1], tag] \n",
    "\n",
    "             \n",
    "            \n",
    "            # compute emission and state probabilities\n",
    "            emission_p = word_given_tag(words[key], tag)[0]/word_given_tag(words[key], tag)[1]\n",
    "            #print(\"Before: \",emission_p)\n",
    "            #print(word_given_tag(words[key], tag))\n",
    "            #If unknown word found\n",
    "            if word_given_tag(words[key], tag)[0] == 0:\n",
    "                #print(\"Before: \",emission_p)\n",
    "                \n",
    "                #tag = tags_df.idxmax()[0]\n",
    "                #tag_new = t2.tag(word)\n",
    "                #t = [t for w,t in tag_new]\n",
    "                #Laplace Smoothing to handle Unknown words \n",
    "                emission_p = laplace_smoothing(word_given_tag(words[key], tag)[0],word_given_tag(words[key], tag)[1],len(T))\n",
    "\n",
    "                \n",
    "                \n",
    "            state_probability = emission_p * transition_p\n",
    "            #state_probability = transition_p\n",
    "            p.append(state_probability)\n",
    "            \n",
    "        pmax = max(p)\n",
    "        # getting state for which probability is maximum\n",
    "        #print(p)\n",
    "        #print(max(p))\n",
    "        state_max = T[p.index(pmax)] \n",
    "        #print(state_max)\n",
    "        state.append(state_max)\n",
    "        \n",
    "        \n",
    "    return list(zip(words, state))"
   ]
  },
  {
   "cell_type": "code",
   "execution_count": 45,
   "metadata": {},
   "outputs": [
    {
     "name": "stdout",
     "output_type": "stream",
     "text": [
      "[('For', 'ADP'), ('the', 'DET'), ('Agency', 'NOUN'), ('for', 'ADP'), ('International', 'NOUN'), ('Development', 'NOUN'), (',', '.'), ('appropriators', 'CONJ'), ('approved', 'VERB'), ('$', '.'), ('200', 'NUM'), ('million', 'NUM'), ('*U*', 'X'), ('in', 'ADP'), ('secondary', 'ADJ'), ('loan', 'NOUN'), ('guarantees', 'NOUN'), ('under', 'ADP'), ('an', 'DET'), ('expanded', 'ADJ'), ('trade', 'NOUN'), ('credit', 'NOUN'), ('insurance', 'NOUN'), ('program', 'NOUN'), (',', '.'), ('and', 'CONJ'), ('total', 'ADJ'), ('loan', 'NOUN'), ('guarantees', 'NOUN'), ('for', 'ADP'), ('the', 'DET'), ('Overseas', 'ADJ'), ('Private', 'NOUN'), ('Investment', 'NOUN'), ('Corp.', 'NOUN'), ('are', 'VERB'), ('increased', 'VERB'), ('*-3', 'X'), ('by', 'ADP'), ('$', '.'), ('40', 'NUM'), ('million', 'NUM'), ('*U*', 'X'), ('over', 'ADP'), ('fiscal', 'ADJ'), ('1989', 'NUM'), ('as', 'ADP'), ('part', 'NOUN'), ('of', 'ADP'), ('the', 'DET'), ('same', 'ADJ'), ('Poland', 'NOUN'), ('package', 'NOUN'), ('.', '.'), ('The', 'DET'), ('market', 'NOUN'), ('is', 'VERB'), ('just', 'ADV'), ('becoming', 'VERB'), ('more', 'ADV'), ('efficient', 'ADJ'), ('.', '.'), (\"''\", '.'), ('Moscow', 'NOUN'), ('has', 'VERB'), ('settled', 'VERB'), ('pre-1917', 'X'), ('debts', 'PRT'), ('with', 'ADP'), ('other', 'ADJ'), ('countries', 'NOUN'), ('in', 'ADP'), ('recent', 'ADJ'), ('years', 'NOUN'), ('at', 'ADP'), ('less', 'ADJ'), ('than', 'ADP'), ('face', 'NOUN'), ('value', 'NOUN'), ('.', '.'), ('``', '.'), ('Unemployment', 'CONJ'), ('continues', 'VERB'), ('at', 'ADP'), ('a', 'DET'), ('relatively', 'ADV'), ('low', 'ADJ'), ('level', 'NOUN'), (',', '.'), ('*', 'X'), ('providing', 'VERB'), ('a', 'DET'), ('sense', 'NOUN'), ('of', 'ADP'), ('job', 'NOUN'), ('security', 'NOUN'), (',', '.'), ('and', 'CONJ'), ('a', 'DET'), ('low', 'ADJ')]\n"
     ]
    },
    {
     "data": {
      "text/plain": [
       "[('For', 'ADP'),\n",
       " ('the', 'DET'),\n",
       " ('Agency', 'NOUN'),\n",
       " ('for', 'ADP'),\n",
       " ('International', 'NOUN'),\n",
       " ('Development', 'NOUN'),\n",
       " (',', '.'),\n",
       " ('appropriators', 'NOUN'),\n",
       " ('approved', 'VERB'),\n",
       " ('$', '.'),\n",
       " ('200', 'NUM'),\n",
       " ('million', 'NUM'),\n",
       " ('*U*', 'X'),\n",
       " ('in', 'ADP'),\n",
       " ('secondary', 'ADJ'),\n",
       " ('loan', 'NOUN'),\n",
       " ('guarantees', 'NOUN'),\n",
       " ('under', 'ADP'),\n",
       " ('an', 'DET'),\n",
       " ('expanded', 'VERB'),\n",
       " ('trade', 'NOUN'),\n",
       " ('credit', 'NOUN'),\n",
       " ('insurance', 'NOUN'),\n",
       " ('program', 'NOUN'),\n",
       " (',', '.'),\n",
       " ('and', 'CONJ'),\n",
       " ('total', 'ADJ'),\n",
       " ('loan', 'NOUN'),\n",
       " ('guarantees', 'NOUN'),\n",
       " ('for', 'ADP'),\n",
       " ('the', 'DET'),\n",
       " ('Overseas', 'NOUN'),\n",
       " ('Private', 'NOUN'),\n",
       " ('Investment', 'NOUN'),\n",
       " ('Corp.', 'NOUN'),\n",
       " ('are', 'VERB'),\n",
       " ('increased', 'VERB'),\n",
       " ('*-3', 'X'),\n",
       " ('by', 'ADP'),\n",
       " ('$', '.'),\n",
       " ('40', 'NUM'),\n",
       " ('million', 'NUM'),\n",
       " ('*U*', 'X'),\n",
       " ('over', 'ADP'),\n",
       " ('fiscal', 'ADJ'),\n",
       " ('1989', 'NUM'),\n",
       " ('as', 'ADP'),\n",
       " ('part', 'NOUN'),\n",
       " ('of', 'ADP'),\n",
       " ('the', 'DET'),\n",
       " ('same', 'ADJ'),\n",
       " ('Poland', 'NOUN'),\n",
       " ('package', 'NOUN'),\n",
       " ('.', '.'),\n",
       " ('The', 'DET'),\n",
       " ('market', 'NOUN'),\n",
       " ('is', 'VERB'),\n",
       " ('just', 'ADV'),\n",
       " ('becoming', 'VERB'),\n",
       " ('more', 'ADV'),\n",
       " ('efficient', 'ADJ'),\n",
       " ('.', '.'),\n",
       " (\"''\", '.'),\n",
       " ('Moscow', 'NOUN'),\n",
       " ('has', 'VERB'),\n",
       " ('settled', 'VERB'),\n",
       " ('pre-1917', 'ADJ'),\n",
       " ('debts', 'NOUN'),\n",
       " ('with', 'ADP'),\n",
       " ('other', 'ADJ'),\n",
       " ('countries', 'NOUN'),\n",
       " ('in', 'ADP'),\n",
       " ('recent', 'ADJ'),\n",
       " ('years', 'NOUN'),\n",
       " ('at', 'ADP'),\n",
       " ('less', 'ADJ'),\n",
       " ('than', 'ADP'),\n",
       " ('face', 'NOUN'),\n",
       " ('value', 'NOUN'),\n",
       " ('.', '.'),\n",
       " ('``', '.'),\n",
       " ('Unemployment', 'NOUN'),\n",
       " ('continues', 'VERB'),\n",
       " ('at', 'ADP'),\n",
       " ('a', 'DET'),\n",
       " ('relatively', 'ADV'),\n",
       " ('low', 'ADJ'),\n",
       " ('level', 'NOUN'),\n",
       " (',', '.'),\n",
       " ('*', 'X'),\n",
       " ('providing', 'VERB'),\n",
       " ('a', 'DET'),\n",
       " ('sense', 'NOUN'),\n",
       " ('of', 'ADP'),\n",
       " ('job', 'NOUN'),\n",
       " ('security', 'NOUN'),\n",
       " (',', '.'),\n",
       " ('and', 'CONJ'),\n",
       " ('a', 'DET'),\n",
       " ('low', 'ADJ')]"
      ]
     },
     "execution_count": 45,
     "metadata": {},
     "output_type": "execute_result"
    }
   ],
   "source": [
    "tagged_seq_mod_ac = Viterbi_with_mod(test_tagged_words[:100])\n",
    "print(tagged_seq_mod_ac)\n",
    "test_run_base[:100]"
   ]
  },
  {
   "cell_type": "code",
   "execution_count": 46,
   "metadata": {},
   "outputs": [],
   "source": [
    "# accuracy\n",
    "check_mod = [i for i, j in zip(tagged_seq_mod_ac, test_run_base[:100]) if i == j] "
   ]
  },
  {
   "cell_type": "code",
   "execution_count": 47,
   "metadata": {},
   "outputs": [],
   "source": [
    "accuracy_mod = len(check_mod)/len(tagged_seq_mod_ac)"
   ]
  },
  {
   "cell_type": "code",
   "execution_count": 48,
   "metadata": {},
   "outputs": [
    {
     "data": {
      "text/plain": [
       "0.94"
      ]
     },
     "execution_count": 48,
     "metadata": {},
     "output_type": "execute_result"
    }
   ],
   "source": [
    "accuracy_mod"
   ]
  },
  {
   "cell_type": "code",
   "execution_count": 66,
   "metadata": {},
   "outputs": [],
   "source": [
    "tagged_seq_mod_1 = Viterbi_with_mod(words)"
   ]
  },
  {
   "cell_type": "code",
   "execution_count": 67,
   "metadata": {},
   "outputs": [
    {
     "data": {
      "text/plain": [
       "[('Android', 'CONJ'),\n",
       " ('is', 'VERB'),\n",
       " ('a', 'DET'),\n",
       " ('mobile', 'ADJ'),\n",
       " ('operating', 'NOUN'),\n",
       " ('system', 'NOUN'),\n",
       " ('developed', 'VERB'),\n",
       " ('by', 'ADP'),\n",
       " ('Google', 'DET'),\n",
       " ('.', '.'),\n",
       " ('Android', 'CONJ'),\n",
       " ('has', 'VERB'),\n",
       " ('been', 'VERB'),\n",
       " ('the', 'DET'),\n",
       " ('best-selling', 'ADJ'),\n",
       " ('OS', 'NOUN'),\n",
       " ('worldwide', '.'),\n",
       " ('on', 'ADP'),\n",
       " ('smartphones', 'DET'),\n",
       " ('since', 'ADP'),\n",
       " ('2011', 'DET'),\n",
       " ('and', 'CONJ'),\n",
       " ('on', 'ADP'),\n",
       " ('tablets', 'DET'),\n",
       " ('since', 'ADP'),\n",
       " ('2013', 'DET'),\n",
       " ('.', '.'),\n",
       " ('Google', 'CONJ'),\n",
       " ('and', 'CONJ'),\n",
       " ('Twitter', 'PRON'),\n",
       " ('made', 'VERB'),\n",
       " ('a', 'DET'),\n",
       " ('deal', 'NOUN'),\n",
       " ('in', 'ADP'),\n",
       " ('2015', 'DET'),\n",
       " ('that', 'ADP'),\n",
       " ('gave', 'DET'),\n",
       " ('Google', 'ADJ'),\n",
       " ('access', 'NOUN'),\n",
       " ('to', 'PRT'),\n",
       " ('Twitter', 'VERB'),\n",
       " (\"'s\", 'PRT'),\n",
       " ('firehose', 'VERB'),\n",
       " ('.', '.'),\n",
       " ('Twitter', 'CONJ'),\n",
       " ('is', 'VERB'),\n",
       " ('an', 'DET'),\n",
       " ('online', 'ADJ'),\n",
       " ('news', 'NOUN'),\n",
       " ('and', 'CONJ'),\n",
       " ('social', 'ADJ'),\n",
       " ('networking', 'NOUN'),\n",
       " ('service', 'NOUN'),\n",
       " ('on', 'ADP'),\n",
       " ('which', 'DET'),\n",
       " ('users', 'NOUN'),\n",
       " ('post', 'NOUN'),\n",
       " ('and', 'CONJ'),\n",
       " ('interact', 'PRON'),\n",
       " ('with', 'ADP'),\n",
       " ('messages', 'DET'),\n",
       " ('known', 'VERB'),\n",
       " ('as', 'ADP'),\n",
       " ('tweets', 'DET'),\n",
       " ('.', '.'),\n",
       " ('Before', 'CONJ'),\n",
       " ('entering', 'VERB'),\n",
       " ('politics', 'X'),\n",
       " (',', '.'),\n",
       " ('Donald', 'NOUN'),\n",
       " ('Trump', '.'),\n",
       " ('was', 'VERB'),\n",
       " ('a', 'DET'),\n",
       " ('domineering', 'ADJ'),\n",
       " ('businessman', 'NOUN'),\n",
       " ('and', 'CONJ'),\n",
       " ('a', 'DET'),\n",
       " ('television', 'NOUN'),\n",
       " ('personality', '.'),\n",
       " ('.', '.'),\n",
       " ('The', 'DET'),\n",
       " ('2018', 'ADJ'),\n",
       " ('FIFA', 'NOUN'),\n",
       " ('World', 'NOUN'),\n",
       " ('Cup', '.'),\n",
       " ('is', 'VERB'),\n",
       " ('the', 'DET'),\n",
       " ('21st', 'ADJ'),\n",
       " ('FIFA', 'NOUN'),\n",
       " ('World', 'NOUN'),\n",
       " ('Cup', '.'),\n",
       " (',', '.'),\n",
       " ('an', 'DET'),\n",
       " ('international', 'ADJ'),\n",
       " ('football', 'NOUN'),\n",
       " ('tournament', '.'),\n",
       " ('contested', 'CONJ'),\n",
       " ('once', 'ADV'),\n",
       " ('every', 'DET'),\n",
       " ('four', 'NUM'),\n",
       " ('years', 'NOUN'),\n",
       " ('.', '.'),\n",
       " ('This', 'DET'),\n",
       " ('is', 'VERB'),\n",
       " ('the', 'DET'),\n",
       " ('first', 'ADJ'),\n",
       " ('World', 'NOUN'),\n",
       " ('Cup', '.'),\n",
       " ('to', 'PRT'),\n",
       " ('be', 'VERB'),\n",
       " ('held', 'VERB'),\n",
       " ('in', 'ADP'),\n",
       " ('Eastern', 'NOUN'),\n",
       " ('Europe', 'NOUN'),\n",
       " ('and', 'CONJ'),\n",
       " ('the', 'DET'),\n",
       " ('11th', 'ADJ'),\n",
       " ('time', 'NOUN'),\n",
       " ('that', 'ADP'),\n",
       " ('it', 'PRON'),\n",
       " ('has', 'VERB'),\n",
       " ('been', 'VERB'),\n",
       " ('held', 'VERB'),\n",
       " ('in', 'ADP'),\n",
       " ('Europe', 'NOUN'),\n",
       " ('.', '.'),\n",
       " ('Show', 'CONJ'),\n",
       " ('me', 'PRON'),\n",
       " ('the', 'DET'),\n",
       " ('cheapest', 'ADJ'),\n",
       " ('round', 'NOUN'),\n",
       " ('trips', '.'),\n",
       " ('from', 'ADP'),\n",
       " ('Dallas', 'NOUN'),\n",
       " ('to', 'PRT'),\n",
       " ('Atlanta', 'NOUN'),\n",
       " ('I', 'PRON'),\n",
       " ('would', 'VERB'),\n",
       " ('like', 'ADP'),\n",
       " ('to', 'PRT'),\n",
       " ('see', 'VERB'),\n",
       " ('flights', 'X'),\n",
       " ('from', 'ADP'),\n",
       " ('Denver', 'DET'),\n",
       " ('to', 'PRT'),\n",
       " ('Philadelphia', 'NOUN'),\n",
       " ('.', '.'),\n",
       " ('Show', 'CONJ'),\n",
       " ('me', 'PRON'),\n",
       " ('the', 'DET'),\n",
       " ('price', 'NOUN'),\n",
       " ('of', 'ADP'),\n",
       " ('the', 'DET'),\n",
       " ('flights', 'NOUN'),\n",
       " ('leaving', 'VERB'),\n",
       " ('Atlanta', 'X'),\n",
       " ('at', 'ADP'),\n",
       " ('about', 'ADP'),\n",
       " ('3', 'NUM'),\n",
       " ('in', 'ADP'),\n",
       " ('the', 'DET'),\n",
       " ('afternoon', 'NOUN'),\n",
       " ('and', 'CONJ'),\n",
       " ('arriving', 'PRON'),\n",
       " ('in', 'ADP'),\n",
       " ('San', 'NOUN'),\n",
       " ('Francisco', 'NOUN'),\n",
       " ('.', '.'),\n",
       " ('NASA', 'CONJ'),\n",
       " ('invited', 'PRON'),\n",
       " ('social', 'ADJ'),\n",
       " ('media', 'NOUN'),\n",
       " ('users', '.'),\n",
       " ('to', 'PRT'),\n",
       " ('experience', 'NOUN'),\n",
       " ('the', 'DET'),\n",
       " ('launch', 'NOUN'),\n",
       " ('of', 'ADP'),\n",
       " ('ICESAT-2', 'DET'),\n",
       " ('Satellite', 'ADJ'),\n",
       " ('.', '.')]"
      ]
     },
     "execution_count": 67,
     "metadata": {},
     "output_type": "execute_result"
    }
   ],
   "source": [
    "tagged_seq_mod_1"
   ]
  },
  {
   "cell_type": "code",
   "execution_count": 70,
   "metadata": {},
   "outputs": [
    {
     "name": "stdout",
     "output_type": "stream",
     "text": [
      "[('OS', 'NOUN'), ('Atlanta', 'X'), ('arriving', 'PRON'), ('flights', 'X'), ('online', 'ADJ'), ('firehose', 'VERB'), ('Twitter', 'CONJ'), ('NASA', 'CONJ'), ('Satellite', 'ADJ'), ('Twitter', 'PRON'), ('Denver', 'DET'), ('Before', 'CONJ'), ('Google', 'CONJ'), ('domineering', 'ADJ'), ('gave', 'DET'), ('Trump', '.'), ('interact', 'PRON'), ('21st', 'ADJ'), ('Show', 'CONJ'), ('users', '.'), ('2018', 'ADJ'), ('worldwide', '.'), ('Twitter', 'VERB'), ('tournament', '.'), ('Android', 'CONJ'), ('Google', 'ADJ'), ('Cup', '.'), (\"'s\", 'PRT'), ('politics', 'X'), ('tablets', 'DET'), ('personality', '.'), ('FIFA', 'NOUN'), ('contested', 'CONJ'), ('invited', 'PRON'), ('trips', '.')]\n"
     ]
    }
   ],
   "source": [
    "print(Diff(tagged_seq_mod_1, tagged_seq))"
   ]
  },
  {
   "cell_type": "markdown",
   "metadata": {},
   "source": [
    "### Some of the words such as OS ,FIFA etc got taggged correctly"
   ]
  },
  {
   "cell_type": "markdown",
   "metadata": {},
   "source": [
    "### Modification 2: Adding Regex Rule for Unknown word Tagging"
   ]
  },
  {
   "cell_type": "code",
   "execution_count": 51,
   "metadata": {},
   "outputs": [],
   "source": [
    "from nltk import RegexpTagger\n",
    "\n",
    "def Viterbi_mod2(words, train_bag = train_tagged_words):\n",
    "    tagged_seq = Viterbi(words)\n",
    "    V = list(set([pair[0] for pair in train_bag]))\n",
    "    \n",
    "    words = [pair[0] for pair in tagged_seq]\n",
    "    Viterbi_tags = [pair[1] for pair in tagged_seq]\n",
    "    \n",
    "    regexp_tagger = RegexpTagger(\n",
    "     [(r'^-?[0-9]+(.[0-9]+)?$', 'NUM'),   # cardinal numbers\n",
    "      (r'(The|the|A|a|An|an)$', 'DET'),   # articles\n",
    "      (r'.*able$', 'ADJ'),                # adjectives\n",
    "      (r'.*ness$', 'NOUN'),               # nouns formed from adjectives\n",
    "      (r'.*ly$', 'ADV'),                  # adverbs\n",
    "      (r'.*s$', 'NOUN'),                  # plural nouns\n",
    "      (r'.*ing$', 'VERB'),                # gerunds\n",
    "      (r'.*ed$', 'VERB'),                 # past tense verbs\n",
    "      (r'.*', 'NOUN')                     # nouns (default)\n",
    "     ])\n",
    "\n",
    "    word_list=[]\n",
    "    keys =[]\n",
    "    for key, word in enumerate(words):\n",
    "        if word not in V:\n",
    "            word_list.append(word)\n",
    "            keys.append(key)\n",
    "            \n",
    "\n",
    "    tag = regexp_tagger.tag(word_list)\n",
    "    \n",
    "    t = [t for w,t in tag]\n",
    "     \n",
    "    for key in keys:\n",
    "        i = 0\n",
    "        Viterbi_tags[key] = t[i]\n",
    "        i = i + 1\n",
    "   \n",
    "            \n",
    "    \n",
    "    return list(zip(words, Viterbi_tags))"
   ]
  },
  {
   "cell_type": "markdown",
   "metadata": {},
   "source": [
    "#### Evaluating tagging accuracy"
   ]
  },
  {
   "cell_type": "code",
   "execution_count": 52,
   "metadata": {},
   "outputs": [],
   "source": [
    "tagged_seq_mod = Viterbi_mod2(words)"
   ]
  },
  {
   "cell_type": "code",
   "execution_count": 53,
   "metadata": {},
   "outputs": [
    {
     "data": {
      "text/plain": [
       "[('Android', 'NOUN'),\n",
       " ('is', 'VERB'),\n",
       " ('a', 'DET'),\n",
       " ('mobile', 'ADJ'),\n",
       " ('operating', 'NOUN'),\n",
       " ('system', 'NOUN'),\n",
       " ('developed', 'VERB'),\n",
       " ('by', 'ADP'),\n",
       " ('Google', 'NOUN'),\n",
       " ('.', '.'),\n",
       " ('Android', 'NOUN'),\n",
       " ('has', 'VERB'),\n",
       " ('been', 'VERB'),\n",
       " ('the', 'DET'),\n",
       " ('best-selling', 'ADJ'),\n",
       " ('OS', 'NOUN'),\n",
       " ('worldwide', 'NOUN'),\n",
       " ('on', 'ADP'),\n",
       " ('smartphones', 'NOUN'),\n",
       " ('since', 'ADP'),\n",
       " ('2011', 'NOUN'),\n",
       " ('and', 'CONJ'),\n",
       " ('on', 'ADP'),\n",
       " ('tablets', 'NOUN'),\n",
       " ('since', 'ADP'),\n",
       " ('2013', 'NOUN'),\n",
       " ('.', '.'),\n",
       " ('Google', 'NOUN'),\n",
       " ('and', 'CONJ'),\n",
       " ('Twitter', 'NOUN'),\n",
       " ('made', 'VERB'),\n",
       " ('a', 'DET'),\n",
       " ('deal', 'NOUN'),\n",
       " ('in', 'ADP'),\n",
       " ('2015', 'NOUN'),\n",
       " ('that', 'ADP'),\n",
       " ('gave', 'VERB'),\n",
       " ('Google', 'NOUN'),\n",
       " ('access', 'NOUN'),\n",
       " ('to', 'PRT'),\n",
       " ('Twitter', 'NOUN'),\n",
       " (\"'s\", 'VERB'),\n",
       " ('firehose', 'NOUN'),\n",
       " ('.', '.'),\n",
       " ('Twitter', 'NOUN'),\n",
       " ('is', 'VERB'),\n",
       " ('an', 'DET'),\n",
       " ('online', 'NOUN'),\n",
       " ('news', 'NOUN'),\n",
       " ('and', 'CONJ'),\n",
       " ('social', 'ADJ'),\n",
       " ('networking', 'NOUN'),\n",
       " ('service', 'NOUN'),\n",
       " ('on', 'ADP'),\n",
       " ('which', 'DET'),\n",
       " ('users', 'NOUN'),\n",
       " ('post', 'NOUN'),\n",
       " ('and', 'CONJ'),\n",
       " ('interact', 'NOUN'),\n",
       " ('with', 'ADP'),\n",
       " ('messages', 'NOUN'),\n",
       " ('known', 'VERB'),\n",
       " ('as', 'ADP'),\n",
       " ('tweets', 'NOUN'),\n",
       " ('.', '.'),\n",
       " ('Before', 'ADP'),\n",
       " ('entering', 'VERB'),\n",
       " ('politics', 'NOUN'),\n",
       " (',', '.'),\n",
       " ('Donald', 'NOUN'),\n",
       " ('Trump', 'NOUN'),\n",
       " ('was', 'VERB'),\n",
       " ('a', 'DET'),\n",
       " ('domineering', 'NOUN'),\n",
       " ('businessman', 'NOUN'),\n",
       " ('and', 'CONJ'),\n",
       " ('a', 'DET'),\n",
       " ('television', 'NOUN'),\n",
       " ('personality', 'NOUN'),\n",
       " ('.', '.'),\n",
       " ('The', 'DET'),\n",
       " ('2018', 'NOUN'),\n",
       " ('FIFA', 'NOUN'),\n",
       " ('World', 'NOUN'),\n",
       " ('Cup', 'NOUN'),\n",
       " ('is', 'VERB'),\n",
       " ('the', 'DET'),\n",
       " ('21st', 'NOUN'),\n",
       " ('FIFA', 'NOUN'),\n",
       " ('World', 'NOUN'),\n",
       " ('Cup', 'NOUN'),\n",
       " (',', '.'),\n",
       " ('an', 'DET'),\n",
       " ('international', 'ADJ'),\n",
       " ('football', 'NOUN'),\n",
       " ('tournament', 'NOUN'),\n",
       " ('contested', 'NOUN'),\n",
       " ('once', 'ADV'),\n",
       " ('every', 'DET'),\n",
       " ('four', 'NUM'),\n",
       " ('years', 'NOUN'),\n",
       " ('.', '.'),\n",
       " ('This', 'DET'),\n",
       " ('is', 'VERB'),\n",
       " ('the', 'DET'),\n",
       " ('first', 'ADJ'),\n",
       " ('World', 'NOUN'),\n",
       " ('Cup', 'NOUN'),\n",
       " ('to', 'PRT'),\n",
       " ('be', 'VERB'),\n",
       " ('held', 'VERB'),\n",
       " ('in', 'ADP'),\n",
       " ('Eastern', 'NOUN'),\n",
       " ('Europe', 'NOUN'),\n",
       " ('and', 'CONJ'),\n",
       " ('the', 'DET'),\n",
       " ('11th', 'ADJ'),\n",
       " ('time', 'NOUN'),\n",
       " ('that', 'ADP'),\n",
       " ('it', 'PRON'),\n",
       " ('has', 'VERB'),\n",
       " ('been', 'VERB'),\n",
       " ('held', 'VERB'),\n",
       " ('in', 'ADP'),\n",
       " ('Europe', 'NOUN'),\n",
       " ('.', '.'),\n",
       " ('Show', 'NOUN'),\n",
       " ('me', 'PRON'),\n",
       " ('the', 'DET'),\n",
       " ('cheapest', 'ADJ'),\n",
       " ('round', 'NOUN'),\n",
       " ('trips', 'NOUN'),\n",
       " ('from', 'ADP'),\n",
       " ('Dallas', 'NOUN'),\n",
       " ('to', 'PRT'),\n",
       " ('Atlanta', 'NOUN'),\n",
       " ('I', 'PRON'),\n",
       " ('would', 'VERB'),\n",
       " ('like', 'ADP'),\n",
       " ('to', 'PRT'),\n",
       " ('see', 'VERB'),\n",
       " ('flights', 'NOUN'),\n",
       " ('from', 'ADP'),\n",
       " ('Denver', 'NOUN'),\n",
       " ('to', 'PRT'),\n",
       " ('Philadelphia', 'NOUN'),\n",
       " ('.', '.'),\n",
       " ('Show', 'NOUN'),\n",
       " ('me', 'PRON'),\n",
       " ('the', 'DET'),\n",
       " ('price', 'NOUN'),\n",
       " ('of', 'ADP'),\n",
       " ('the', 'DET'),\n",
       " ('flights', 'NOUN'),\n",
       " ('leaving', 'VERB'),\n",
       " ('Atlanta', 'NOUN'),\n",
       " ('at', 'ADP'),\n",
       " ('about', 'ADP'),\n",
       " ('3', 'NUM'),\n",
       " ('in', 'ADP'),\n",
       " ('the', 'DET'),\n",
       " ('afternoon', 'NOUN'),\n",
       " ('and', 'CONJ'),\n",
       " ('arriving', 'NOUN'),\n",
       " ('in', 'ADP'),\n",
       " ('San', 'NOUN'),\n",
       " ('Francisco', 'NOUN'),\n",
       " ('.', '.'),\n",
       " ('NASA', 'NOUN'),\n",
       " ('invited', 'NOUN'),\n",
       " ('social', 'ADJ'),\n",
       " ('media', 'NOUN'),\n",
       " ('users', 'NOUN'),\n",
       " ('to', 'PRT'),\n",
       " ('experience', 'NOUN'),\n",
       " ('the', 'DET'),\n",
       " ('launch', 'NOUN'),\n",
       " ('of', 'ADP'),\n",
       " ('ICESAT-2', 'NOUN'),\n",
       " ('Satellite', 'NOUN'),\n",
       " ('.', '.')]"
      ]
     },
     "execution_count": 53,
     "metadata": {},
     "output_type": "execute_result"
    }
   ],
   "source": [
    "tagged_seq_mod"
   ]
  },
  {
   "cell_type": "code",
   "execution_count": 54,
   "metadata": {},
   "outputs": [],
   "source": [
    "tagged_seq_mod_2 = Viterbi_mod2(test_tagged_words[:100])"
   ]
  },
  {
   "cell_type": "code",
   "execution_count": null,
   "metadata": {},
   "outputs": [],
   "source": []
  },
  {
   "cell_type": "markdown",
   "metadata": {},
   "source": [
    "### Compare the tagging accuracies of the modifications with the vanilla Viterbi algorithm"
   ]
  },
  {
   "cell_type": "code",
   "execution_count": 55,
   "metadata": {},
   "outputs": [],
   "source": [
    "# accuracy\n",
    "check_mod = [i for i, j in zip(tagged_seq_mod_2, test_run_base[:100]) if i == j] "
   ]
  },
  {
   "cell_type": "code",
   "execution_count": 56,
   "metadata": {},
   "outputs": [],
   "source": [
    "accuracy_mod = len(check_mod)/len(tagged_seq_mod_2)"
   ]
  },
  {
   "cell_type": "code",
   "execution_count": 57,
   "metadata": {},
   "outputs": [
    {
     "data": {
      "text/plain": [
       "0.97"
      ]
     },
     "execution_count": 57,
     "metadata": {},
     "output_type": "execute_result"
    }
   ],
   "source": [
    "accuracy_mod"
   ]
  },
  {
   "cell_type": "code",
   "execution_count": 58,
   "metadata": {},
   "outputs": [
    {
     "name": "stdout",
     "output_type": "stream",
     "text": [
      "Vanilla Acccuracy: 0.95\n",
      "Accuracy after  Modification: 0.97\n"
     ]
    }
   ],
   "source": [
    "print (\"Vanilla Acccuracy:\",accuracy_vanilla)\n",
    "print (\"Accuracy after  Modification:\",accuracy_mod)"
   ]
  },
  {
   "cell_type": "markdown",
   "metadata": {},
   "source": [
    "### List down cases which were incorrectly tagged by original POS tagger and got corrected by your modifications"
   ]
  },
  {
   "cell_type": "code",
   "execution_count": 59,
   "metadata": {},
   "outputs": [],
   "source": [
    "def Diff(li1, li2): \n",
    "    return (list(set(li1) - set(li2))) "
   ]
  },
  {
   "cell_type": "code",
   "execution_count": 60,
   "metadata": {},
   "outputs": [
    {
     "name": "stdout",
     "output_type": "stream",
     "text": [
      "[('NASA', 'DET'), ('online', 'DET'), ('Twitter', 'DET'), ('invited', 'DET'), ('21st', 'DET'), ('tweets', 'DET'), ('domineering', 'DET'), ('interact', 'DET'), ('arriving', 'DET'), ('FIFA', 'DET'), ('Cup', 'DET'), ('Google', 'DET'), ('worldwide', 'DET'), ('smartphones', 'DET'), ('OS', 'DET'), ('Android', 'DET'), ('firehose', 'DET'), ('2015', 'DET'), ('2018', 'DET'), ('trips', 'DET'), ('tournament', 'DET'), ('contested', 'DET'), ('Satellite', 'DET'), ('2013', 'DET'), ('messages', 'DET'), ('personality', 'DET'), ('ICESAT-2', 'DET'), ('2011', 'DET')]\n"
     ]
    }
   ],
   "source": [
    "print(Diff(tagged_seq, tagged_seq_mod))"
   ]
  },
  {
   "cell_type": "code",
   "execution_count": 61,
   "metadata": {},
   "outputs": [
    {
     "name": "stdout",
     "output_type": "stream",
     "text": [
      "[('worldwide', 'NOUN'), ('smartphones', 'NOUN'), ('OS', 'NOUN'), ('firehose', 'NOUN'), ('Android', 'NOUN'), ('2018', 'NOUN'), ('Satellite', 'NOUN'), ('2015', 'NOUN'), ('2013', 'NOUN'), ('trips', 'NOUN'), ('tournament', 'NOUN'), ('ICESAT-2', 'NOUN'), ('personality', 'NOUN'), ('messages', 'NOUN'), ('contested', 'NOUN'), ('2011', 'NOUN'), ('NASA', 'NOUN'), ('invited', 'NOUN'), ('online', 'NOUN'), ('tweets', 'NOUN'), ('Twitter', 'NOUN'), ('21st', 'NOUN'), ('domineering', 'NOUN'), ('interact', 'NOUN'), ('Cup', 'NOUN'), ('arriving', 'NOUN'), ('Google', 'NOUN'), ('FIFA', 'NOUN')]\n"
     ]
    }
   ],
   "source": [
    "print(Diff(tagged_seq_mod, tagged_seq))"
   ]
  },
  {
   "cell_type": "code",
   "execution_count": 62,
   "metadata": {},
   "outputs": [],
   "source": [
    "incorrect_tagged_cases_after_mod = [[test_run_base[i-1],j] for i, j in enumerate(zip(tagged_seq_mod_2, test_run_base)) if j[0]!=j[1]]"
   ]
  },
  {
   "cell_type": "code",
   "execution_count": 63,
   "metadata": {},
   "outputs": [
    {
     "data": {
      "text/plain": [
       "[[('expanded', 'VERB'), (('trade', 'VERB'), ('trade', 'NOUN'))],\n",
       " [('Overseas', 'NOUN'), (('Private', 'ADJ'), ('Private', 'NOUN'))],\n",
       " [('settled', 'VERB'), (('pre-1917', 'NOUN'), ('pre-1917', 'ADJ'))]]"
      ]
     },
     "execution_count": 63,
     "metadata": {},
     "output_type": "execute_result"
    }
   ],
   "source": [
    "incorrect_tagged_cases_after_mod"
   ]
  },
  {
   "cell_type": "code",
   "execution_count": 64,
   "metadata": {},
   "outputs": [
    {
     "data": {
      "text/plain": [
       "[[('expanded', 'VERB'), (('trade', 'VERB'), ('trade', 'NOUN'))],\n",
       " [('the', 'DET'), (('Overseas', 'DET'), ('Overseas', 'NOUN'))],\n",
       " [('Overseas', 'NOUN'), (('Private', 'ADJ'), ('Private', 'NOUN'))],\n",
       " [('settled', 'VERB'), (('pre-1917', 'DET'), ('pre-1917', 'ADJ'))],\n",
       " [('``', '.'), (('Unemployment', 'DET'), ('Unemployment', 'NOUN'))]]"
      ]
     },
     "execution_count": 64,
     "metadata": {},
     "output_type": "execute_result"
    }
   ],
   "source": [
    "incorrect_tagged_cases"
   ]
  },
  {
   "cell_type": "markdown",
   "metadata": {},
   "source": [
    "### Some of the Nouns such as Android , Google ,NASA , FIFA , Twitter got correctly tagged after applying Rule based matrix also accuracy of model increased"
   ]
  },
  {
   "cell_type": "code",
   "execution_count": null,
   "metadata": {},
   "outputs": [],
   "source": []
  }
 ],
 "metadata": {
  "kernelspec": {
   "display_name": "Python 3",
   "language": "python",
   "name": "python3"
  },
  "language_info": {
   "codemirror_mode": {
    "name": "ipython",
    "version": 3
   },
   "file_extension": ".py",
   "mimetype": "text/x-python",
   "name": "python",
   "nbconvert_exporter": "python",
   "pygments_lexer": "ipython3",
   "version": "3.7.4"
  }
 },
 "nbformat": 4,
 "nbformat_minor": 2
}
