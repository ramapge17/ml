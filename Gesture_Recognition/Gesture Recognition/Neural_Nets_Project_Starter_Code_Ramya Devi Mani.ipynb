{
 "cells": [
  {
   "cell_type": "markdown",
   "metadata": {},
   "source": [
    "# Gesture Recognition\n",
    "In this group project, you are going to build a 3D Conv model that will be able to predict the 5 gestures correctly. Please import the following libraries to get started."
   ]
  },
  {
   "cell_type": "code",
   "execution_count": 35,
   "metadata": {},
   "outputs": [],
   "source": [
    "import numpy as np\n",
    "import os\n",
    "from scipy.misc import imread, imresize\n",
    "from PIL import Image\n",
    "import datetime\n",
    "import os"
   ]
  },
  {
   "cell_type": "markdown",
   "metadata": {},
   "source": [
    "We set the random seed so that the results don't vary drastically."
   ]
  },
  {
   "cell_type": "code",
   "execution_count": 36,
   "metadata": {},
   "outputs": [],
   "source": [
    "np.random.seed(30)\n",
    "import random as rn\n",
    "rn.seed(30)\n",
    "from keras import backend as K\n",
    "import tensorflow as tf\n",
    "tf.set_random_seed(30)"
   ]
  },
  {
   "cell_type": "markdown",
   "metadata": {},
   "source": [
    "In this block, you read the folder names for training and validation. You also set the `batch_size` here. Note that you set the batch size in such a way that you are able to use the GPU in full capacity. You keep increasing the batch size until the machine throws an error."
   ]
  },
  {
   "cell_type": "code",
   "execution_count": 68,
   "metadata": {},
   "outputs": [],
   "source": [
    "train_doc = np.random.permutation(open('Project_data/train.csv').readlines())\n",
    "val_doc = np.random.permutation(open('Project_data/val.csv').readlines())\n",
    "batch_size = 20"
   ]
  },
  {
   "cell_type": "code",
   "execution_count": 69,
   "metadata": {},
   "outputs": [],
   "source": [
    "x = 30 # # x is the number of images\n",
    "y = 84 # width of the image\n",
    "z = 84 # height of the image "
   ]
  },
  {
   "cell_type": "markdown",
   "metadata": {},
   "source": [
    "## Generator\n",
    "This is one of the most important part of the code. The overall structure of the generator has been given. In the generator, you are going to preprocess the images as you have images of 2 different dimensions as well as create a batch of video frames. You have to experiment with `img_idx`, `y`,`z` and normalization such that you get high accuracy."
   ]
  },
  {
   "cell_type": "code",
   "execution_count": 70,
   "metadata": {},
   "outputs": [],
   "source": [
    "def generator(source_path, folder_list, batch_size):\n",
    "    print( 'Source path = ', source_path, '; batch size =', batch_size)\n",
    "    img_idx = [I for I in range(0,30)]\n",
    "    while True:\n",
    "        t = np.random.permutation(folder_list)\n",
    "        num_batches = int(len(t)/batch_size)\n",
    "        for batch in range(num_batches):\n",
    "            batch_data = np.zeros((batch_size,x,y,z,3))\n",
    "            batch_labels = np.zeros((batch_size,5))\n",
    "            for folder in range(batch_size):\n",
    "                imgs = os.listdir(source_path+'/'+ t[folder + (batch*batch_size)].split(';')[0])\n",
    "                for idx,item in enumerate(img_idx):\n",
    "                    image = imread(source_path+'/'+ t[folder + (batch*batch_size)].strip().split(';')[0]+'/'+imgs[item]).astype(np.float32)\n",
    "                    \n",
    "                    if image.shape[1] == 160:\n",
    "                        image = imresize(image[:,20:140,:],(84,84)).astype(np.float32)\n",
    "                    else:\n",
    "                        image = imresize(image,(84,84)).astype(np.float32)\n",
    "                        \n",
    "                    #image = image[84-24: -84 + 24, 84 : -84]\n",
    "                    \n",
    "                    image = image/255 \n",
    "                    batch_data[folder,idx,:,:,0] = image[:,:,0] \n",
    "                    batch_data[folder,idx,:,:,1] = image[:,:,1] \n",
    "                    batch_data[folder,idx,:,:,2] = image[:,:,2] \n",
    "                    \n",
    "                batch_labels[folder, int(t[folder + (batch*batch_size)].strip().split(';')[2])] = 1\n",
    "            yield batch_data, batch_labels\n",
    "\n",
    "        if (len(t)%batch_size) != 0:\n",
    "            batch_data = np.zeros((len(t)%batch_size,x,y,z,3))\n",
    "            batch_labels = np.zeros((len(t)%batch_size,5))\n",
    "            for folder in range(len(t)%batch_size):\n",
    "                imgs = os.listdir(source_path+'/'+ t[folder + (num_batches*batch_size)].split(';')[0])\n",
    "                for idx,item in enumerate(img_idx):\n",
    "                    image = imread(source_path+'/'+ t[folder + (num_batches*batch_size)].strip().split(';')[0]+'/'+imgs[item]).astype(np.float32)\n",
    "                    \n",
    "                    if image.shape[1] == 160:\n",
    "                        image = imresize(image[:,20:140,:],(84,84)).astype(np.float32)\n",
    "                    else:\n",
    "                        image = imresize(image,(84,84)).astype(np.float32)\n",
    "                        \n",
    "                    #image = image[84-24: -84 + 24, 84 : -84]\n",
    "                    \n",
    "                    image = image/255 \n",
    "                    batch_data[folder,idx,:,:,0] = image[:,:,0] \n",
    "                    batch_data[folder,idx,:,:,1] = image[:,:,1] \n",
    "                    batch_data[folder,idx,:,:,2] = image[:,:,2] \n",
    "\n",
    "                batch_labels[folder, int(t[folder + (num_batches*batch_size)].strip().split(';')[2])] = 1\n",
    "\n",
    "            yield batch_data, batch_labels"
   ]
  },
  {
   "cell_type": "markdown",
   "metadata": {},
   "source": [
    "Note here that a video is represented above in the generator as (number of images, height, width, number of channels). Take this into consideration while creating the model architecture."
   ]
  },
  {
   "cell_type": "code",
   "execution_count": 71,
   "metadata": {},
   "outputs": [
    {
     "name": "stdout",
     "output_type": "stream",
     "text": [
      "# training sequences = 663\n",
      "# validation sequences = 100\n",
      "# epochs = 18\n"
     ]
    }
   ],
   "source": [
    "curr_dt_time = datetime.datetime.now()\n",
    "train_path = 'Project_data/train'\n",
    "val_path = 'Project_data/val'\n",
    "num_train_sequences = len(train_doc)\n",
    "print('# training sequences =', num_train_sequences)\n",
    "num_val_sequences = len(val_doc)\n",
    "print('# validation sequences =', num_val_sequences)\n",
    "num_epochs = 18 # choose the number of epochs\n",
    "print ('# epochs =', num_epochs)"
   ]
  },
  {
   "cell_type": "markdown",
   "metadata": {},
   "source": [
    "## Model\n",
    "Here you make the model using different functionalities that Keras provides. Remember to use `Conv3D` and `MaxPooling3D` and not `Conv2D` and `Maxpooling2D` for a 3D convolution model. You would want to use `TimeDistributed` while building a Conv2D + RNN model. Also remember that the last layer is the softmax. Design the network in such a way that the model is able to give good accuracy on the least number of parameters so that it can fit in the memory of the webcam."
   ]
  },
  {
   "cell_type": "markdown",
   "metadata": {},
   "source": [
    "# 3D Conv Model"
   ]
  },
  {
   "cell_type": "code",
   "execution_count": 72,
   "metadata": {},
   "outputs": [],
   "source": [
    "from keras.models import Sequential, Model\n",
    "from keras.layers import Dense, GRU, Flatten, TimeDistributed, Flatten, BatchNormalization, Activation, Dropout\n",
    "from keras.layers.convolutional import Conv3D, MaxPooling3D\n",
    "from keras.callbacks import ModelCheckpoint, ReduceLROnPlateau\n",
    "from keras import optimizers\n",
    "\n",
    "#write your model here\n",
    "\n",
    "model = Sequential()\n",
    "model.add(Conv3D(64, (3,3,3), strides=(1,1,1), padding='same', input_shape=(x,y,z,3)))\n",
    "model.add(BatchNormalization())\n",
    "model.add(Activation('relu'))\n",
    "model.add(MaxPooling3D(pool_size=(2,2,1), strides=(2,2,1)))\n",
    "\n",
    "model.add(Conv3D(128, (3,3,3), strides=(1,1,1), padding='same'))\n",
    "model.add(BatchNormalization())\n",
    "model.add(Activation('relu'))\n",
    "model.add(MaxPooling3D(pool_size=(2,2,2), strides=(2,2,2)))\n",
    "\n",
    "# model.add(Dropout(0.25))\n",
    "\n",
    "model.add(Conv3D(256, (3,3,3), strides=(1,1,1), padding='same'))\n",
    "model.add(BatchNormalization())\n",
    "model.add(Activation('relu'))\n",
    "model.add(MaxPooling3D(pool_size=(2,2,2), strides=(2,2,2)))\n",
    "\n",
    "# model.add(Dropout(0.25))\n",
    "\n",
    "model.add(Conv3D(256, (3,3,3), strides=(1,1,1), padding='same'))\n",
    "model.add(BatchNormalization())\n",
    "model.add(Activation('relu'))\n",
    "model.add(MaxPooling3D(pool_size=(2,2,2), strides=(2,2,2)))\n",
    "\n",
    "model.add(Flatten())\n",
    "model.add(Dropout(0.5))\n",
    "model.add(Dense(512, activation='relu'))\n",
    "model.add(Dropout(0.5))\n",
    "model.add(Dense(5, activation='softmax'))"
   ]
  },
  {
   "cell_type": "markdown",
   "metadata": {},
   "source": [
    "Now that you have written the model, the next step is to `compile` the model. When you print the `summary` of the model, you'll see the total number of parameters you have to train."
   ]
  },
  {
   "cell_type": "code",
   "execution_count": 73,
   "metadata": {
    "scrolled": true
   },
   "outputs": [
    {
     "name": "stdout",
     "output_type": "stream",
     "text": [
      "_________________________________________________________________\n",
      "Layer (type)                 Output Shape              Param #   \n",
      "=================================================================\n",
      "conv3d_25 (Conv3D)           (None, 30, 84, 84, 64)    5248      \n",
      "_________________________________________________________________\n",
      "batch_normalization_25 (Batc (None, 30, 84, 84, 64)    256       \n",
      "_________________________________________________________________\n",
      "activation_25 (Activation)   (None, 30, 84, 84, 64)    0         \n",
      "_________________________________________________________________\n",
      "max_pooling3d_25 (MaxPooling (None, 15, 42, 84, 64)    0         \n",
      "_________________________________________________________________\n",
      "conv3d_26 (Conv3D)           (None, 15, 42, 84, 128)   221312    \n",
      "_________________________________________________________________\n",
      "batch_normalization_26 (Batc (None, 15, 42, 84, 128)   512       \n",
      "_________________________________________________________________\n",
      "activation_26 (Activation)   (None, 15, 42, 84, 128)   0         \n",
      "_________________________________________________________________\n",
      "max_pooling3d_26 (MaxPooling (None, 7, 21, 42, 128)    0         \n",
      "_________________________________________________________________\n",
      "conv3d_27 (Conv3D)           (None, 7, 21, 42, 256)    884992    \n",
      "_________________________________________________________________\n",
      "batch_normalization_27 (Batc (None, 7, 21, 42, 256)    1024      \n",
      "_________________________________________________________________\n",
      "activation_27 (Activation)   (None, 7, 21, 42, 256)    0         \n",
      "_________________________________________________________________\n",
      "max_pooling3d_27 (MaxPooling (None, 3, 10, 21, 256)    0         \n",
      "_________________________________________________________________\n",
      "conv3d_28 (Conv3D)           (None, 3, 10, 21, 256)    1769728   \n",
      "_________________________________________________________________\n",
      "batch_normalization_28 (Batc (None, 3, 10, 21, 256)    1024      \n",
      "_________________________________________________________________\n",
      "activation_28 (Activation)   (None, 3, 10, 21, 256)    0         \n",
      "_________________________________________________________________\n",
      "max_pooling3d_28 (MaxPooling (None, 1, 5, 10, 256)     0         \n",
      "_________________________________________________________________\n",
      "flatten_7 (Flatten)          (None, 12800)             0         \n",
      "_________________________________________________________________\n",
      "dropout_13 (Dropout)         (None, 12800)             0         \n",
      "_________________________________________________________________\n",
      "dense_13 (Dense)             (None, 512)               6554112   \n",
      "_________________________________________________________________\n",
      "dropout_14 (Dropout)         (None, 512)               0         \n",
      "_________________________________________________________________\n",
      "dense_14 (Dense)             (None, 5)                 2565      \n",
      "=================================================================\n",
      "Total params: 9,440,773\n",
      "Trainable params: 9,439,365\n",
      "Non-trainable params: 1,408\n",
      "_________________________________________________________________\n",
      "None\n"
     ]
    }
   ],
   "source": [
    "optimiser = optimizers.SGD(lr=0.001, decay=1e-6, momentum=0.7, nesterov=True)\n",
    "model.compile(optimizer=optimiser, loss='categorical_crossentropy', metrics=['categorical_accuracy'])\n",
    "print (model.summary())"
   ]
  },
  {
   "cell_type": "markdown",
   "metadata": {},
   "source": [
    "Let us create the `train_generator` and the `val_generator` which will be used in `.fit_generator`."
   ]
  },
  {
   "cell_type": "code",
   "execution_count": 74,
   "metadata": {},
   "outputs": [],
   "source": [
    "train_generator = generator(train_path, train_doc, batch_size)\n",
    "val_generator = generator(val_path, val_doc, batch_size)"
   ]
  },
  {
   "cell_type": "code",
   "execution_count": 75,
   "metadata": {},
   "outputs": [
    {
     "name": "stderr",
     "output_type": "stream",
     "text": [
      "/mnt/disks/user/anaconda3/lib/python3.6/site-packages/keras/callbacks.py:999: UserWarning: `epsilon` argument is deprecated and will be removed, use `min_delta` instead.\n",
      "  warnings.warn('`epsilon` argument is deprecated and '\n"
     ]
    }
   ],
   "source": [
    "model_name = 'model_init' + '_' + str(curr_dt_time).replace(' ','').replace(':','_') + '/'\n",
    "    \n",
    "if not os.path.exists(model_name):\n",
    "    os.mkdir(model_name)\n",
    "        \n",
    "filepath = model_name + 'model-{epoch:05d}-{loss:.5f}-{categorical_accuracy:.5f}-{val_loss:.5f}-{val_categorical_accuracy:.5f}.h5'\n",
    "\n",
    "checkpoint = ModelCheckpoint(filepath, monitor='val_loss', verbose=1, save_best_only=False, save_weights_only=False, mode='auto', period=1)\n",
    "\n",
    "LR = ReduceLROnPlateau(monitor='val_loss', factor=0.5, patience=2, verbose=1, mode='min', epsilon=0.0001, cooldown=0, min_lr=0.00001)\n",
    "callbacks_list = [checkpoint, LR]"
   ]
  },
  {
   "cell_type": "markdown",
   "metadata": {},
   "source": [
    "The `steps_per_epoch` and `validation_steps` are used by `fit_generator` to decide the number of next() calls it need to make."
   ]
  },
  {
   "cell_type": "code",
   "execution_count": 76,
   "metadata": {},
   "outputs": [],
   "source": [
    "if (num_train_sequences%batch_size) == 0:\n",
    "    steps_per_epoch = int(num_train_sequences/batch_size)\n",
    "else:\n",
    "    steps_per_epoch = (num_train_sequences//batch_size) + 1\n",
    "\n",
    "if (num_val_sequences%batch_size) == 0:\n",
    "    validation_steps = int(num_val_sequences/batch_size)\n",
    "else:\n",
    "    validation_steps = (num_val_sequences//batch_size) + 1"
   ]
  },
  {
   "cell_type": "markdown",
   "metadata": {},
   "source": [
    "Let us now fit the model. This will start training the model and with the help of the checkpoints, you'll be able to save the model at the end of each epoch."
   ]
  },
  {
   "cell_type": "code",
   "execution_count": 77,
   "metadata": {},
   "outputs": [
    {
     "name": "stdout",
     "output_type": "stream",
     "text": [
      "Source path =  Project_data/val ; batch size = 20\n",
      "Source path =  Project_data/train ; batch size =Epoch 1/18\n",
      " 20\n"
     ]
    },
    {
     "name": "stderr",
     "output_type": "stream",
     "text": [
      "/mnt/disks/user/anaconda3/lib/python3.6/site-packages/ipykernel_launcher.py:13: DeprecationWarning: `imread` is deprecated!\n",
      "`imread` is deprecated in SciPy 1.0.0, and will be removed in 1.2.0.\n",
      "Use ``imageio.imread`` instead.\n",
      "  del sys.path[0]\n",
      "/mnt/disks/user/anaconda3/lib/python3.6/site-packages/ipykernel_launcher.py:18: DeprecationWarning: `imresize` is deprecated!\n",
      "`imresize` is deprecated in SciPy 1.0.0, and will be removed in 1.2.0.\n",
      "Use ``skimage.transform.resize`` instead.\n",
      "/mnt/disks/user/anaconda3/lib/python3.6/site-packages/ipykernel_launcher.py:16: DeprecationWarning: `imresize` is deprecated!\n",
      "`imresize` is deprecated in SciPy 1.0.0, and will be removed in 1.2.0.\n",
      "Use ``skimage.transform.resize`` instead.\n",
      "  app.launch_new_instance()\n"
     ]
    },
    {
     "name": "stdout",
     "output_type": "stream",
     "text": [
      "32/34 [===========================>..] - ETA: 9s - loss: 2.7122 - categorical_accuracy: 0.2844 "
     ]
    },
    {
     "name": "stderr",
     "output_type": "stream",
     "text": [
      "/mnt/disks/user/anaconda3/lib/python3.6/site-packages/ipykernel_launcher.py:36: DeprecationWarning: `imread` is deprecated!\n",
      "`imread` is deprecated in SciPy 1.0.0, and will be removed in 1.2.0.\n",
      "Use ``imageio.imread`` instead.\n",
      "/mnt/disks/user/anaconda3/lib/python3.6/site-packages/ipykernel_launcher.py:41: DeprecationWarning: `imresize` is deprecated!\n",
      "`imresize` is deprecated in SciPy 1.0.0, and will be removed in 1.2.0.\n",
      "Use ``skimage.transform.resize`` instead.\n",
      "/mnt/disks/user/anaconda3/lib/python3.6/site-packages/ipykernel_launcher.py:39: DeprecationWarning: `imresize` is deprecated!\n",
      "`imresize` is deprecated in SciPy 1.0.0, and will be removed in 1.2.0.\n",
      "Use ``skimage.transform.resize`` instead.\n"
     ]
    },
    {
     "name": "stdout",
     "output_type": "stream",
     "text": [
      "34/34 [==============================] - 168s 5s/step - loss: 2.7111 - categorical_accuracy: 0.2855 - val_loss: 2.8565 - val_categorical_accuracy: 0.3500\n",
      "\n",
      "Epoch 00001: saving model to model_init_2020-09-1407_09_32.761846/model-00001-2.68553-0.29261-2.85653-0.35000.h5\n",
      "Epoch 2/18\n",
      "34/34 [==============================] - 87s 3s/step - loss: 1.5958 - categorical_accuracy: 0.4135 - val_loss: 1.2694 - val_categorical_accuracy: 0.3900\n",
      "\n",
      "Epoch 00002: saving model to model_init_2020-09-1407_09_32.761846/model-00002-1.57554-0.42383-1.26941-0.39000.h5\n",
      "Epoch 3/18\n",
      "34/34 [==============================] - 87s 3s/step - loss: 1.2741 - categorical_accuracy: 0.4886 - val_loss: 1.0072 - val_categorical_accuracy: 0.5800\n",
      "\n",
      "Epoch 00003: saving model to model_init_2020-09-1407_09_32.761846/model-00003-1.26555-0.48416-1.00716-0.58000.h5\n",
      "Epoch 4/18\n",
      "34/34 [==============================] - 85s 3s/step - loss: 1.0618 - categorical_accuracy: 0.5717 - val_loss: 0.9553 - val_categorical_accuracy: 0.6300\n",
      "\n",
      "Epoch 00004: saving model to model_init_2020-09-1407_09_32.761846/model-00004-1.05342-0.57768-0.95531-0.63000.h5\n",
      "Epoch 5/18\n",
      "34/34 [==============================] - 85s 3s/step - loss: 1.0555 - categorical_accuracy: 0.5740 - val_loss: 0.8801 - val_categorical_accuracy: 0.6900\n",
      "\n",
      "Epoch 00005: saving model to model_init_2020-09-1407_09_32.761846/model-00005-1.04480-0.57164-0.88008-0.69000.h5\n",
      "Epoch 6/18\n",
      "34/34 [==============================] - 86s 3s/step - loss: 0.9253 - categorical_accuracy: 0.5982 - val_loss: 0.8335 - val_categorical_accuracy: 0.7100\n",
      "\n",
      "Epoch 00006: saving model to model_init_2020-09-1407_09_32.761846/model-00006-0.92677-0.60483-0.83352-0.71000.h5\n",
      "Epoch 7/18\n",
      "34/34 [==============================] - 86s 3s/step - loss: 0.8683 - categorical_accuracy: 0.6527 - val_loss: 0.8614 - val_categorical_accuracy: 0.6800\n",
      "\n",
      "Epoch 00007: saving model to model_init_2020-09-1407_09_32.761846/model-00007-0.88809-0.64404-0.86137-0.68000.h5\n",
      "Epoch 8/18\n",
      "34/34 [==============================] - 85s 3s/step - loss: 0.8367 - categorical_accuracy: 0.6696 - val_loss: 0.8661 - val_categorical_accuracy: 0.6300\n",
      "\n",
      "Epoch 00008: saving model to model_init_2020-09-1407_09_32.761846/model-00008-0.83379-0.66968-0.86612-0.63000.h5\n",
      "\n",
      "Epoch 00008: ReduceLROnPlateau reducing learning rate to 0.0005000000237487257.\n",
      "Epoch 9/18\n",
      "34/34 [==============================] - 86s 3s/step - loss: 0.7907 - categorical_accuracy: 0.6770 - val_loss: 0.7697 - val_categorical_accuracy: 0.7200\n",
      "\n",
      "Epoch 00009: saving model to model_init_2020-09-1407_09_32.761846/model-00009-0.78949-0.67722-0.76971-0.72000.h5\n",
      "Epoch 10/18\n",
      "34/34 [==============================] - 86s 3s/step - loss: 0.6718 - categorical_accuracy: 0.7241 - val_loss: 0.7367 - val_categorical_accuracy: 0.7400\n",
      "\n",
      "Epoch 00010: saving model to model_init_2020-09-1407_09_32.761846/model-00010-0.67686-0.72549-0.73675-0.74000.h5\n",
      "Epoch 11/18\n",
      "34/34 [==============================] - 86s 3s/step - loss: 0.6344 - categorical_accuracy: 0.7528 - val_loss: 0.7215 - val_categorical_accuracy: 0.7200\n",
      "\n",
      "Epoch 00011: saving model to model_init_2020-09-1407_09_32.761846/model-00011-0.64368-0.74661-0.72148-0.72000.h5\n",
      "Epoch 12/18\n",
      "34/34 [==============================] - 86s 3s/step - loss: 0.7168 - categorical_accuracy: 0.7211 - val_loss: 0.7369 - val_categorical_accuracy: 0.7200\n",
      "\n",
      "Epoch 00012: saving model to model_init_2020-09-1407_09_32.761846/model-00012-0.71340-0.72247-0.73693-0.72000.h5\n",
      "Epoch 13/18\n",
      "34/34 [==============================] - 86s 3s/step - loss: 0.6486 - categorical_accuracy: 0.7675 - val_loss: 0.7783 - val_categorical_accuracy: 0.6900\n",
      "\n",
      "Epoch 00013: saving model to model_init_2020-09-1407_09_32.761846/model-00013-0.62836-0.77828-0.77833-0.69000.h5\n",
      "\n",
      "Epoch 00013: ReduceLROnPlateau reducing learning rate to 0.0002500000118743628.\n",
      "Epoch 14/18\n",
      "34/34 [==============================] - 86s 3s/step - loss: 0.6207 - categorical_accuracy: 0.7417 - val_loss: 0.6950 - val_categorical_accuracy: 0.7300\n",
      "\n",
      "Epoch 00014: saving model to model_init_2020-09-1407_09_32.761846/model-00014-0.62071-0.74359-0.69502-0.73000.h5\n",
      "Epoch 15/18\n",
      "34/34 [==============================] - 86s 3s/step - loss: 0.5623 - categorical_accuracy: 0.7918 - val_loss: 0.6701 - val_categorical_accuracy: 0.7300\n",
      "\n",
      "Epoch 00015: saving model to model_init_2020-09-1407_09_32.761846/model-00015-0.54212-0.79487-0.67012-0.73000.h5\n",
      "Epoch 16/18\n",
      "34/34 [==============================] - 86s 3s/step - loss: 0.5534 - categorical_accuracy: 0.7888 - val_loss: 0.6515 - val_categorical_accuracy: 0.7700\n",
      "\n",
      "Epoch 00016: saving model to model_init_2020-09-1407_09_32.761846/model-00016-0.55040-0.79186-0.65148-0.77000.h5\n",
      "Epoch 17/18\n",
      "34/34 [==============================] - 87s 3s/step - loss: 0.5232 - categorical_accuracy: 0.8028 - val_loss: 0.6569 - val_categorical_accuracy: 0.7400\n",
      "\n",
      "Epoch 00017: saving model to model_init_2020-09-1407_09_32.761846/model-00017-0.53315-0.79789-0.65691-0.74000.h5\n",
      "Epoch 18/18\n",
      "34/34 [==============================] - 87s 3s/step - loss: 0.4984 - categorical_accuracy: 0.7918 - val_loss: 0.6424 - val_categorical_accuracy: 0.8200\n",
      "\n",
      "Epoch 00018: saving model to model_init_2020-09-1407_09_32.761846/model-00018-0.49701-0.79487-0.64238-0.82000.h5\n"
     ]
    }
   ],
   "source": [
    "history = model.fit_generator(train_generator, steps_per_epoch=steps_per_epoch, epochs=num_epochs, verbose=1, \n",
    "                    callbacks=callbacks_list, validation_data=val_generator, \n",
    "                    validation_steps=validation_steps, class_weight=None, workers=1, initial_epoch=0)"
   ]
  },
  {
   "cell_type": "code",
   "execution_count": 78,
   "metadata": {},
   "outputs": [],
   "source": [
    "import matplotlib.pyplot as plt\n",
    "\n",
    "def plot(history):\n",
    "    fig, axes = plt.subplots(nrows=1, ncols=2, figsize=(15,4))\n",
    "    axes[0].plot(history.history['loss'])   \n",
    "    axes[0].plot(history.history['val_loss'])\n",
    "    axes[0].legend(['loss','val_loss'])\n",
    "    plt.ylabel('Loss')\n",
    "    plt.xlabel('Epoch')\n",
    "    \n",
    "\n",
    "\n",
    "    axes[1].plot(history.history['categorical_accuracy'])   \n",
    "    axes[1].plot(history.history['val_categorical_accuracy'])\n",
    "    axes[1].legend(['categorical_accuracy','val_categorical_accuracy'])\n",
    "    plt.ylabel('Accuracy')\n",
    "    plt.xlabel('Epoch')\n",
    "    \n",
    "    plt.show()"
   ]
  },
  {
   "cell_type": "code",
   "execution_count": 79,
   "metadata": {},
   "outputs": [
    {
     "data": {
      "image/png": "[encoded data removed]",
      "text/plain": [
       "<Figure size 1080x288 with 2 Axes>"
      ]
     },
     "metadata": {},
     "output_type": "display_data"
    }
   ],
   "source": [
    "plot(history)"
   ]
  },
  {
   "cell_type": "markdown",
   "metadata": {},
   "source": [
    "# CNN+RNN model"
   ]
  },
  {
   "cell_type": "code",
   "execution_count": 80,
   "metadata": {},
   "outputs": [],
   "source": [
    "batch_size = 10\n",
    "num_epochs = 25\n",
    "x = 30 # # x is the number of images\n",
    "y = 84 # width of the image\n",
    "z = 84 # height of the image \n",
    "classes = 5 #5 gestures \n",
    "channel = 3 #RGB"
   ]
  },
  {
   "cell_type": "code",
   "execution_count": 81,
   "metadata": {},
   "outputs": [
    {
     "name": "stderr",
     "output_type": "stream",
     "text": [
      "/mnt/disks/user/anaconda3/lib/python3.6/site-packages/keras_applications/mobilenet.py:206: UserWarning: MobileNet shape is undefined. Weights for input shape (224, 224) will be loaded.\n",
      "  warnings.warn('MobileNet shape is undefined.'\n"
     ]
    },
    {
     "name": "stdout",
     "output_type": "stream",
     "text": [
      "Downloading data from https://github.com/fchollet/deep-learning-models/releases/download/v0.6/mobilenet_1_0_224_tf_no_top.h5\n",
      "17227776/17225924 [==============================] - 2s 0us/step\n"
     ]
    }
   ],
   "source": [
    "from keras.applications import mobilenet\n",
    "pretrained_mobilenet = mobilenet.MobileNet(weights='imagenet', include_top=False)\n",
    "from keras.layers.convolutional import Conv2D, MaxPooling2D\n",
    "from keras.layers.recurrent import LSTM"
   ]
  },
  {
   "cell_type": "code",
   "execution_count": 82,
   "metadata": {},
   "outputs": [],
   "source": [
    "model_cr = Sequential()\n",
    "model_cr.add(TimeDistributed(pretrained_mobilenet,input_shape=(x,y,z,channel)))\n",
    "\n",
    "model_cr.add(TimeDistributed(BatchNormalization()))\n",
    "model_cr.add(TimeDistributed(MaxPooling2D((2, 2))))\n",
    "model_cr.add(TimeDistributed(Flatten()))\n",
    "\n",
    "model_cr.add(GRU(128))\n",
    "model_cr.add(Dropout(0.25))\n",
    "\n",
    "model_cr.add(Dense(128,activation='relu'))\n",
    "model_cr.add(Dropout(0.25))\n",
    "\n",
    "model_cr.add(Dense(5, activation='softmax'))"
   ]
  },
  {
   "cell_type": "code",
   "execution_count": 83,
   "metadata": {},
   "outputs": [
    {
     "name": "stdout",
     "output_type": "stream",
     "text": [
      "_________________________________________________________________\n",
      "Layer (type)                 Output Shape              Param #   \n",
      "=================================================================\n",
      "time_distributed_1 (TimeDist (None, 30, 2, 2, 1024)    3228864   \n",
      "_________________________________________________________________\n",
      "time_distributed_2 (TimeDist (None, 30, 2, 2, 1024)    4096      \n",
      "_________________________________________________________________\n",
      "time_distributed_3 (TimeDist (None, 30, 1, 1, 1024)    0         \n",
      "_________________________________________________________________\n",
      "time_distributed_4 (TimeDist (None, 30, 1024)          0         \n",
      "_________________________________________________________________\n",
      "gru_1 (GRU)                  (None, 128)               442752    \n",
      "_________________________________________________________________\n",
      "dropout_15 (Dropout)         (None, 128)               0         \n",
      "_________________________________________________________________\n",
      "dense_15 (Dense)             (None, 128)               16512     \n",
      "_________________________________________________________________\n",
      "dropout_16 (Dropout)         (None, 128)               0         \n",
      "_________________________________________________________________\n",
      "dense_16 (Dense)             (None, 5)                 645       \n",
      "=================================================================\n",
      "Total params: 3,692,869\n",
      "Trainable params: 3,668,933\n",
      "Non-trainable params: 23,936\n",
      "_________________________________________________________________\n",
      "None\n"
     ]
    }
   ],
   "source": [
    "train_generator_cr = generator(train_path, train_doc, batch_size)\n",
    "val_generator_cr = generator(val_path, val_doc, batch_size)\n",
    "\n",
    "optimiser = optimizers.SGD(lr=0.001, decay=1e-6, momentum=0.7, nesterov=True) #write your optimizer\n",
    "model_cr.compile(optimizer=optimiser, loss='categorical_crossentropy', metrics=['categorical_accuracy'])\n",
    "print(model_cr.summary())"
   ]
  },
  {
   "cell_type": "code",
   "execution_count": 84,
   "metadata": {},
   "outputs": [],
   "source": [
    "model_name = 'model_init' + '_' + str(curr_dt_time).replace(' ','').replace(':','_') + '/'\n",
    "    \n",
    "if not os.path.exists(model_name):\n",
    "    os.mkdir(model_name)\n",
    "        \n",
    "filepath = model_name + 'model-{epoch:05d}-{loss:.5f}-{categorical_accuracy:.5f}-{val_loss:.5f}-{val_categorical_accuracy:.5f}.h5'\n",
    "\n",
    "checkpoint = ModelCheckpoint(filepath, monitor='val_loss', verbose=1, save_best_only=False, save_weights_only=False, mode='auto', period=1)\n",
    "\n",
    "LR = ReduceLROnPlateau(monitor='val_loss', factor=0.5, patience=2, cooldown=1, verbose=1)  # write the REducelronplateau code here\n",
    "callbacks_list = [checkpoint, LR]"
   ]
  },
  {
   "cell_type": "code",
   "execution_count": 85,
   "metadata": {},
   "outputs": [],
   "source": [
    "if (num_train_sequences%batch_size) == 0:\n",
    "    steps_per_epoch = int(num_train_sequences/batch_size)\n",
    "else:\n",
    "    steps_per_epoch = (num_train_sequences//batch_size) + 1\n",
    "\n",
    "if (num_val_sequences%batch_size) == 0:\n",
    "    validation_steps = int(num_val_sequences/batch_size)\n",
    "else:\n",
    "    validation_steps = (num_val_sequences//batch_size) + 1"
   ]
  },
  {
   "cell_type": "code",
   "execution_count": 86,
   "metadata": {},
   "outputs": [
    {
     "name": "stdout",
     "output_type": "stream",
     "text": [
      "Source path =  Project_data/val ; batch size = 10\n",
      "Source path =  Project_data/train ; batch size = 10\n",
      "Epoch 1/25\n"
     ]
    },
    {
     "name": "stderr",
     "output_type": "stream",
     "text": [
      "/mnt/disks/user/anaconda3/lib/python3.6/site-packages/ipykernel_launcher.py:13: DeprecationWarning: `imread` is deprecated!\n",
      "`imread` is deprecated in SciPy 1.0.0, and will be removed in 1.2.0.\n",
      "Use ``imageio.imread`` instead.\n",
      "  del sys.path[0]\n",
      "/mnt/disks/user/anaconda3/lib/python3.6/site-packages/ipykernel_launcher.py:16: DeprecationWarning: `imresize` is deprecated!\n",
      "`imresize` is deprecated in SciPy 1.0.0, and will be removed in 1.2.0.\n",
      "Use ``skimage.transform.resize`` instead.\n",
      "  app.launch_new_instance()\n",
      "/mnt/disks/user/anaconda3/lib/python3.6/site-packages/ipykernel_launcher.py:18: DeprecationWarning: `imresize` is deprecated!\n",
      "`imresize` is deprecated in SciPy 1.0.0, and will be removed in 1.2.0.\n",
      "Use ``skimage.transform.resize`` instead.\n"
     ]
    },
    {
     "name": "stdout",
     "output_type": "stream",
     "text": [
      "65/67 [============================>.] - ETA: 2s - loss: 1.8001 - categorical_accuracy: 0.2031"
     ]
    },
    {
     "name": "stderr",
     "output_type": "stream",
     "text": [
      "/mnt/disks/user/anaconda3/lib/python3.6/site-packages/ipykernel_launcher.py:36: DeprecationWarning: `imread` is deprecated!\n",
      "`imread` is deprecated in SciPy 1.0.0, and will be removed in 1.2.0.\n",
      "Use ``imageio.imread`` instead.\n",
      "/mnt/disks/user/anaconda3/lib/python3.6/site-packages/ipykernel_launcher.py:41: DeprecationWarning: `imresize` is deprecated!\n",
      "`imresize` is deprecated in SciPy 1.0.0, and will be removed in 1.2.0.\n",
      "Use ``skimage.transform.resize`` instead.\n",
      "/mnt/disks/user/anaconda3/lib/python3.6/site-packages/ipykernel_launcher.py:39: DeprecationWarning: `imresize` is deprecated!\n",
      "`imresize` is deprecated in SciPy 1.0.0, and will be removed in 1.2.0.\n",
      "Use ``skimage.transform.resize`` instead.\n"
     ]
    },
    {
     "name": "stdout",
     "output_type": "stream",
     "text": [
      "67/67 [==============================] - 75s 1s/step - loss: 1.7977 - categorical_accuracy: 0.2000 - val_loss: 1.5015 - val_categorical_accuracy: 0.3300\n",
      "\n",
      "Epoch 00001: saving model to model_init_2020-09-1407_09_32.761846/model-00001-1.79738-0.20211-1.50147-0.33000.h5\n",
      "Epoch 2/25\n",
      "67/67 [==============================] - 67s 994ms/step - loss: 1.4370 - categorical_accuracy: 0.4001 - val_loss: 1.3554 - val_categorical_accuracy: 0.4000\n",
      "\n",
      "Epoch 00002: saving model to model_init_2020-09-1407_09_32.761846/model-00002-1.43133-0.40422-1.35545-0.40000.h5\n",
      "Epoch 3/25\n",
      "67/67 [==============================] - 69s 1s/step - loss: 1.1933 - categorical_accuracy: 0.5502 - val_loss: 1.1434 - val_categorical_accuracy: 0.5500\n",
      "\n",
      "Epoch 00003: saving model to model_init_2020-09-1407_09_32.761846/model-00003-1.19649-0.54902-1.14345-0.55000.h5\n",
      "Epoch 4/25\n",
      "67/67 [==============================] - 70s 1s/step - loss: 1.0069 - categorical_accuracy: 0.6517 - val_loss: 1.0430 - val_categorical_accuracy: 0.5800\n",
      "\n",
      "Epoch 00004: saving model to model_init_2020-09-1407_09_32.761846/model-00004-1.00591-0.65158-1.04300-0.58000.h5\n",
      "Epoch 5/25\n",
      "67/67 [==============================] - 70s 1s/step - loss: 0.8005 - categorical_accuracy: 0.7368 - val_loss: 0.8614 - val_categorical_accuracy: 0.6500\n",
      "\n",
      "Epoch 00005: saving model to model_init_2020-09-1407_09_32.761846/model-00005-0.80032-0.73756-0.86135-0.65000.h5\n",
      "Epoch 6/25\n",
      "67/67 [==============================] - 69s 1s/step - loss: 0.6170 - categorical_accuracy: 0.8194 - val_loss: 0.7592 - val_categorical_accuracy: 0.7000\n",
      "\n",
      "Epoch 00006: saving model to model_init_2020-09-1407_09_32.761846/model-00006-0.61758-0.81750-0.75920-0.70000.h5\n",
      "Epoch 7/25\n",
      "67/67 [==============================] - 69s 1s/step - loss: 0.5050 - categorical_accuracy: 0.8383 - val_loss: 0.6822 - val_categorical_accuracy: 0.7400\n",
      "\n",
      "Epoch 00007: saving model to model_init_2020-09-1407_09_32.761846/model-00007-0.50177-0.84012-0.68224-0.74000.h5\n",
      "Epoch 8/25\n",
      "67/67 [==============================] - 69s 1s/step - loss: 0.4465 - categorical_accuracy: 0.8727 - val_loss: 0.6349 - val_categorical_accuracy: 0.7600\n",
      "\n",
      "Epoch 00008: saving model to model_init_2020-09-1407_09_32.761846/model-00008-0.44270-0.87481-0.63492-0.76000.h5\n",
      "Epoch 9/25\n",
      "67/67 [==============================] - 68s 1s/step - loss: 0.3857 - categorical_accuracy: 0.8880 - val_loss: 0.5989 - val_categorical_accuracy: 0.7600\n",
      "\n",
      "Epoch 00009: saving model to model_init_2020-09-1407_09_32.761846/model-00009-0.38614-0.88688-0.59892-0.76000.h5\n",
      "Epoch 10/25\n",
      "67/67 [==============================] - 68s 1s/step - loss: 0.2880 - categorical_accuracy: 0.9130 - val_loss: 0.5996 - val_categorical_accuracy: 0.7700\n",
      "\n",
      "Epoch 00010: saving model to model_init_2020-09-1407_09_32.761846/model-00010-0.28505-0.91554-0.59956-0.77000.h5\n",
      "Epoch 11/25\n",
      "67/67 [==============================] - 69s 1s/step - loss: 0.2347 - categorical_accuracy: 0.9473 - val_loss: 0.5503 - val_categorical_accuracy: 0.7800\n",
      "\n",
      "Epoch 00011: saving model to model_init_2020-09-1407_09_32.761846/model-00011-0.23002-0.95023-0.55035-0.78000.h5\n",
      "Epoch 12/25\n",
      "67/67 [==============================] - 69s 1s/step - loss: 0.2411 - categorical_accuracy: 0.9384 - val_loss: 0.5468 - val_categorical_accuracy: 0.7800\n",
      "\n",
      "Epoch 00012: saving model to model_init_2020-09-1407_09_32.761846/model-00012-0.22637-0.94118-0.54683-0.78000.h5\n",
      "Epoch 13/25\n",
      "67/67 [==============================] - 67s 1s/step - loss: 0.1953 - categorical_accuracy: 0.9627 - val_loss: 0.5267 - val_categorical_accuracy: 0.7800\n",
      "\n",
      "Epoch 00013: saving model to model_init_2020-09-1407_09_32.761846/model-00013-0.19226-0.96229-0.52672-0.78000.h5\n",
      "Epoch 14/25\n",
      "67/67 [==============================] - 68s 1s/step - loss: 0.1642 - categorical_accuracy: 0.9622 - val_loss: 0.5105 - val_categorical_accuracy: 0.8000\n",
      "\n",
      "Epoch 00014: saving model to model_init_2020-09-1407_09_32.761846/model-00014-0.15994-0.96531-0.51052-0.80000.h5\n",
      "Epoch 15/25\n",
      "67/67 [==============================] - 67s 998ms/step - loss: 0.1606 - categorical_accuracy: 0.9578 - val_loss: 0.5228 - val_categorical_accuracy: 0.8100\n",
      "\n",
      "Epoch 00015: saving model to model_init_2020-09-1407_09_32.761846/model-00015-0.15265-0.96078-0.52283-0.81000.h5\n",
      "Epoch 16/25\n",
      "67/67 [==============================] - 67s 1s/step - loss: 0.1550 - categorical_accuracy: 0.9548 - val_loss: 0.5165 - val_categorical_accuracy: 0.7900\n",
      "\n",
      "Epoch 00016: saving model to model_init_2020-09-1407_09_32.761846/model-00016-0.14558-0.95777-0.51653-0.79000.h5\n",
      "\n",
      "Epoch 00016: ReduceLROnPlateau reducing learning rate to 0.0005000000237487257.\n",
      "Epoch 17/25\n",
      "67/67 [==============================] - 66s 983ms/step - loss: 0.1273 - categorical_accuracy: 0.9682 - val_loss: 0.4721 - val_categorical_accuracy: 0.8100\n",
      "\n",
      "Epoch 00017: saving model to model_init_2020-09-1407_09_32.761846/model-00017-0.11949-0.97134-0.47209-0.81000.h5\n",
      "Epoch 18/25\n",
      "67/67 [==============================] - 67s 1s/step - loss: 0.1123 - categorical_accuracy: 0.9806 - val_loss: 0.4619 - val_categorical_accuracy: 0.8300\n",
      "\n",
      "Epoch 00018: saving model to model_init_2020-09-1407_09_32.761846/model-00018-0.10858-0.98039-0.46194-0.83000.h5\n",
      "Epoch 19/25\n",
      "67/67 [==============================] - 68s 1s/step - loss: 0.1031 - categorical_accuracy: 0.9782 - val_loss: 0.4446 - val_categorical_accuracy: 0.8100\n",
      "\n",
      "Epoch 00019: saving model to model_init_2020-09-1407_09_32.761846/model-00019-0.09375-0.98492-0.44459-0.81000.h5\n",
      "Epoch 20/25\n",
      "67/67 [==============================] - 69s 1s/step - loss: 0.1049 - categorical_accuracy: 0.9801 - val_loss: 0.4528 - val_categorical_accuracy: 0.8000\n",
      "\n",
      "Epoch 00020: saving model to model_init_2020-09-1407_09_32.761846/model-00020-0.09475-0.98341-0.45281-0.80000.h5\n",
      "Epoch 21/25\n",
      "67/67 [==============================] - 69s 1s/step - loss: 0.0814 - categorical_accuracy: 0.9881 - val_loss: 0.4556 - val_categorical_accuracy: 0.8200\n",
      "\n",
      "Epoch 00021: saving model to model_init_2020-09-1407_09_32.761846/model-00021-0.08054-0.98793-0.45561-0.82000.h5\n",
      "\n",
      "Epoch 00021: ReduceLROnPlateau reducing learning rate to 0.0002500000118743628.\n",
      "Epoch 22/25\n",
      "67/67 [==============================] - 70s 1s/step - loss: 0.0815 - categorical_accuracy: 0.9831 - val_loss: 0.4448 - val_categorical_accuracy: 0.8200\n",
      "\n",
      "Epoch 00022: saving model to model_init_2020-09-1407_09_32.761846/model-00022-0.07342-0.98643-0.44477-0.82000.h5\n",
      "Epoch 23/25\n",
      "67/67 [==============================] - 69s 1s/step - loss: 0.0956 - categorical_accuracy: 0.9772 - val_loss: 0.4548 - val_categorical_accuracy: 0.8100\n",
      "\n",
      "Epoch 00023: saving model to model_init_2020-09-1407_09_32.761846/model-00023-0.09054-0.98039-0.45484-0.81000.h5\n",
      "\n",
      "Epoch 00023: ReduceLROnPlateau reducing learning rate to 0.0001250000059371814.\n",
      "Epoch 24/25\n",
      "67/67 [==============================] - 69s 1s/step - loss: 0.0812 - categorical_accuracy: 0.9851 - val_loss: 0.4505 - val_categorical_accuracy: 0.8100\n",
      "\n",
      "Epoch 00024: saving model to model_init_2020-09-1407_09_32.761846/model-00024-0.08124-0.98492-0.45047-0.81000.h5\n",
      "Epoch 25/25\n",
      "67/67 [==============================] - 68s 1s/step - loss: 0.0930 - categorical_accuracy: 0.9816 - val_loss: 0.4478 - val_categorical_accuracy: 0.8200\n",
      "\n",
      "Epoch 00025: saving model to model_init_2020-09-1407_09_32.761846/model-00025-0.08685-0.98492-0.44782-0.82000.h5\n",
      "\n",
      "Epoch 00025: ReduceLROnPlateau reducing learning rate to 6.25000029685907e-05.\n"
     ]
    }
   ],
   "source": [
    "history_cr = model_cr.fit_generator(train_generator_cr, steps_per_epoch=steps_per_epoch, epochs=num_epochs, verbose=1, \n",
    "                    callbacks=callbacks_list, validation_data=val_generator_cr, \n",
    "                    validation_steps=validation_steps, class_weight=None, workers=1, initial_epoch=0)"
   ]
  },
  {
   "cell_type": "code",
   "execution_count": 87,
   "metadata": {},
   "outputs": [
    {
     "data": {
      "image/png": "[encoded data removed]",
      "text/plain": [
       "<Figure size 1080x288 with 2 Axes>"
      ]
     },
     "metadata": {},
     "output_type": "display_data"
    }
   ],
   "source": [
    "plot(history_cr)"
   ]
  },
  {
   "cell_type": "code",
   "execution_count": null,
   "metadata": {},
   "outputs": [],
   "source": []
  },
  {
   "cell_type": "code",
   "execution_count": null,
   "metadata": {},
   "outputs": [],
   "source": []
  }
 ],
 "metadata": {
  "kernelspec": {
   "display_name": "Python 3",
   "language": "python",
   "name": "python3"
  },
  "language_info": {
   "codemirror_mode": {
    "name": "ipython",
    "version": 3
   },
   "file_extension": ".py",
   "mimetype": "text/x-python",
   "name": "python",
   "nbconvert_exporter": "python",
   "pygments_lexer": "ipython3",
   "version": "3.7.4"
  }
 },
 "nbformat": 4,
 "nbformat_minor": 2
}
