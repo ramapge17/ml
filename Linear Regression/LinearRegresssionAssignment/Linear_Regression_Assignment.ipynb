{
 "cells": [
  {
   "cell_type": "markdown",
   "metadata": {},
   "source": [
    "## LINEAR REGRESSION ASSIGNMENT\n",
    "\n",
    "#### Problem Statement:\n",
    "\n",
    "- A Chinese automobile company Geely Auto aspires to enter the US market by setting up their manufacturing unit there and producing cars locally to give competition to their US and European counterparts. \n",
    "\n",
    "- They have contracted an automobile consulting company to understand the factors on which the pricing of cars depends. Specifically, they want to understand the factors affecting the pricing of cars in the American market, since those may be very different from the Chinese market. The company wants to know:\n",
    "    - Which variables are significant in predicting the price of a car\n",
    "    - How well those variables describe the price of a car\n",
    "\n",
    " "
   ]
  },
  {
   "cell_type": "markdown",
   "metadata": {},
   "source": [
    "## Step 1: Reading and Understanding the Data\n",
    "\n",
    "Let us first import NumPy and Pandas and read the datset"
   ]
  },
  {
   "cell_type": "code",
   "execution_count": 1,
   "metadata": {},
   "outputs": [],
   "source": [
    "import pandas as pd\n",
    "import numpy as np"
   ]
  },
  {
   "cell_type": "code",
   "execution_count": 2,
   "metadata": {},
   "outputs": [],
   "source": [
    "auto_df = pd.read_csv('CarPrice_Assignment.csv')"
   ]
  },
  {
   "cell_type": "code",
   "execution_count": 3,
   "metadata": {},
   "outputs": [
    {
     "data": {
      "text/html": [
       "<div>\n",
       "<style scoped>\n",
       "    .dataframe tbody tr th:only-of-type {\n",
       "        vertical-align: middle;\n",
       "    }\n",
       "\n",
       "    .dataframe tbody tr th {\n",
       "        vertical-align: top;\n",
       "    }\n",
       "\n",
       "    .dataframe thead th {\n",
       "        text-align: right;\n",
       "    }\n",
       "</style>\n",
       "<table border=\"1\" class=\"dataframe\">\n",
       "  <thead>\n",
       "    <tr style=\"text-align: right;\">\n",
       "      <th></th>\n",
       "      <th>car_ID</th>\n",
       "      <th>symboling</th>\n",
       "      <th>CarName</th>\n",
       "      <th>fueltype</th>\n",
       "      <th>aspiration</th>\n",
       "      <th>doornumber</th>\n",
       "      <th>carbody</th>\n",
       "      <th>drivewheel</th>\n",
       "      <th>enginelocation</th>\n",
       "      <th>wheelbase</th>\n",
       "      <th>...</th>\n",
       "      <th>enginesize</th>\n",
       "      <th>fuelsystem</th>\n",
       "      <th>boreratio</th>\n",
       "      <th>stroke</th>\n",
       "      <th>compressionratio</th>\n",
       "      <th>horsepower</th>\n",
       "      <th>peakrpm</th>\n",
       "      <th>citympg</th>\n",
       "      <th>highwaympg</th>\n",
       "      <th>price</th>\n",
       "    </tr>\n",
       "  </thead>\n",
       "  <tbody>\n",
       "    <tr>\n",
       "      <td>0</td>\n",
       "      <td>1</td>\n",
       "      <td>3</td>\n",
       "      <td>alfa-romero giulia</td>\n",
       "      <td>gas</td>\n",
       "      <td>std</td>\n",
       "      <td>two</td>\n",
       "      <td>convertible</td>\n",
       "      <td>rwd</td>\n",
       "      <td>front</td>\n",
       "      <td>88.6</td>\n",
       "      <td>...</td>\n",
       "      <td>130</td>\n",
       "      <td>mpfi</td>\n",
       "      <td>3.47</td>\n",
       "      <td>2.68</td>\n",
       "      <td>9.0</td>\n",
       "      <td>111</td>\n",
       "      <td>5000</td>\n",
       "      <td>21</td>\n",
       "      <td>27</td>\n",
       "      <td>13495.0</td>\n",
       "    </tr>\n",
       "    <tr>\n",
       "      <td>1</td>\n",
       "      <td>2</td>\n",
       "      <td>3</td>\n",
       "      <td>alfa-romero stelvio</td>\n",
       "      <td>gas</td>\n",
       "      <td>std</td>\n",
       "      <td>two</td>\n",
       "      <td>convertible</td>\n",
       "      <td>rwd</td>\n",
       "      <td>front</td>\n",
       "      <td>88.6</td>\n",
       "      <td>...</td>\n",
       "      <td>130</td>\n",
       "      <td>mpfi</td>\n",
       "      <td>3.47</td>\n",
       "      <td>2.68</td>\n",
       "      <td>9.0</td>\n",
       "      <td>111</td>\n",
       "      <td>5000</td>\n",
       "      <td>21</td>\n",
       "      <td>27</td>\n",
       "      <td>16500.0</td>\n",
       "    </tr>\n",
       "    <tr>\n",
       "      <td>2</td>\n",
       "      <td>3</td>\n",
       "      <td>1</td>\n",
       "      <td>alfa-romero Quadrifoglio</td>\n",
       "      <td>gas</td>\n",
       "      <td>std</td>\n",
       "      <td>two</td>\n",
       "      <td>hatchback</td>\n",
       "      <td>rwd</td>\n",
       "      <td>front</td>\n",
       "      <td>94.5</td>\n",
       "      <td>...</td>\n",
       "      <td>152</td>\n",
       "      <td>mpfi</td>\n",
       "      <td>2.68</td>\n",
       "      <td>3.47</td>\n",
       "      <td>9.0</td>\n",
       "      <td>154</td>\n",
       "      <td>5000</td>\n",
       "      <td>19</td>\n",
       "      <td>26</td>\n",
       "      <td>16500.0</td>\n",
       "    </tr>\n",
       "    <tr>\n",
       "      <td>3</td>\n",
       "      <td>4</td>\n",
       "      <td>2</td>\n",
       "      <td>audi 100 ls</td>\n",
       "      <td>gas</td>\n",
       "      <td>std</td>\n",
       "      <td>four</td>\n",
       "      <td>sedan</td>\n",
       "      <td>fwd</td>\n",
       "      <td>front</td>\n",
       "      <td>99.8</td>\n",
       "      <td>...</td>\n",
       "      <td>109</td>\n",
       "      <td>mpfi</td>\n",
       "      <td>3.19</td>\n",
       "      <td>3.40</td>\n",
       "      <td>10.0</td>\n",
       "      <td>102</td>\n",
       "      <td>5500</td>\n",
       "      <td>24</td>\n",
       "      <td>30</td>\n",
       "      <td>13950.0</td>\n",
       "    </tr>\n",
       "    <tr>\n",
       "      <td>4</td>\n",
       "      <td>5</td>\n",
       "      <td>2</td>\n",
       "      <td>audi 100ls</td>\n",
       "      <td>gas</td>\n",
       "      <td>std</td>\n",
       "      <td>four</td>\n",
       "      <td>sedan</td>\n",
       "      <td>4wd</td>\n",
       "      <td>front</td>\n",
       "      <td>99.4</td>\n",
       "      <td>...</td>\n",
       "      <td>136</td>\n",
       "      <td>mpfi</td>\n",
       "      <td>3.19</td>\n",
       "      <td>3.40</td>\n",
       "      <td>8.0</td>\n",
       "      <td>115</td>\n",
       "      <td>5500</td>\n",
       "      <td>18</td>\n",
       "      <td>22</td>\n",
       "      <td>17450.0</td>\n",
       "    </tr>\n",
       "  </tbody>\n",
       "</table>\n",
       "<p>5 rows × 26 columns</p>\n",
       "</div>"
      ],
      "text/plain": [
       "   car_ID  symboling                   CarName fueltype aspiration doornumber  \\\n",
       "0       1          3        alfa-romero giulia      gas        std        two   \n",
       "1       2          3       alfa-romero stelvio      gas        std        two   \n",
       "2       3          1  alfa-romero Quadrifoglio      gas        std        two   \n",
       "3       4          2               audi 100 ls      gas        std       four   \n",
       "4       5          2                audi 100ls      gas        std       four   \n",
       "\n",
       "       carbody drivewheel enginelocation  wheelbase  ...  enginesize  \\\n",
       "0  convertible        rwd          front       88.6  ...         130   \n",
       "1  convertible        rwd          front       88.6  ...         130   \n",
       "2    hatchback        rwd          front       94.5  ...         152   \n",
       "3        sedan        fwd          front       99.8  ...         109   \n",
       "4        sedan        4wd          front       99.4  ...         136   \n",
       "\n",
       "   fuelsystem  boreratio  stroke compressionratio horsepower  peakrpm citympg  \\\n",
       "0        mpfi       3.47    2.68              9.0        111     5000      21   \n",
       "1        mpfi       3.47    2.68              9.0        111     5000      21   \n",
       "2        mpfi       2.68    3.47              9.0        154     5000      19   \n",
       "3        mpfi       3.19    3.40             10.0        102     5500      24   \n",
       "4        mpfi       3.19    3.40              8.0        115     5500      18   \n",
       "\n",
       "   highwaympg    price  \n",
       "0          27  13495.0  \n",
       "1          27  16500.0  \n",
       "2          26  16500.0  \n",
       "3          30  13950.0  \n",
       "4          22  17450.0  \n",
       "\n",
       "[5 rows x 26 columns]"
      ]
     },
     "execution_count": 3,
     "metadata": {},
     "output_type": "execute_result"
    }
   ],
   "source": [
    "auto_df.head()"
   ]
  },
  {
   "cell_type": "code",
   "execution_count": 4,
   "metadata": {},
   "outputs": [
    {
     "data": {
      "text/plain": [
       "(205, 26)"
      ]
     },
     "execution_count": 4,
     "metadata": {},
     "output_type": "execute_result"
    }
   ],
   "source": [
    "auto_df.shape"
   ]
  },
  {
   "cell_type": "code",
   "execution_count": 5,
   "metadata": {},
   "outputs": [
    {
     "data": {
      "text/html": [
       "<div>\n",
       "<style scoped>\n",
       "    .dataframe tbody tr th:only-of-type {\n",
       "        vertical-align: middle;\n",
       "    }\n",
       "\n",
       "    .dataframe tbody tr th {\n",
       "        vertical-align: top;\n",
       "    }\n",
       "\n",
       "    .dataframe thead th {\n",
       "        text-align: right;\n",
       "    }\n",
       "</style>\n",
       "<table border=\"1\" class=\"dataframe\">\n",
       "  <thead>\n",
       "    <tr style=\"text-align: right;\">\n",
       "      <th></th>\n",
       "      <th>count</th>\n",
       "      <th>mean</th>\n",
       "      <th>std</th>\n",
       "      <th>min</th>\n",
       "      <th>25%</th>\n",
       "      <th>50%</th>\n",
       "      <th>75%</th>\n",
       "      <th>max</th>\n",
       "    </tr>\n",
       "  </thead>\n",
       "  <tbody>\n",
       "    <tr>\n",
       "      <td>car_ID</td>\n",
       "      <td>205.0</td>\n",
       "      <td>103.000000</td>\n",
       "      <td>59.322565</td>\n",
       "      <td>1.00</td>\n",
       "      <td>52.00</td>\n",
       "      <td>103.00</td>\n",
       "      <td>154.00</td>\n",
       "      <td>205.00</td>\n",
       "    </tr>\n",
       "    <tr>\n",
       "      <td>symboling</td>\n",
       "      <td>205.0</td>\n",
       "      <td>0.834146</td>\n",
       "      <td>1.245307</td>\n",
       "      <td>-2.00</td>\n",
       "      <td>0.00</td>\n",
       "      <td>1.00</td>\n",
       "      <td>2.00</td>\n",
       "      <td>3.00</td>\n",
       "    </tr>\n",
       "    <tr>\n",
       "      <td>wheelbase</td>\n",
       "      <td>205.0</td>\n",
       "      <td>98.756585</td>\n",
       "      <td>6.021776</td>\n",
       "      <td>86.60</td>\n",
       "      <td>94.50</td>\n",
       "      <td>97.00</td>\n",
       "      <td>102.40</td>\n",
       "      <td>120.90</td>\n",
       "    </tr>\n",
       "    <tr>\n",
       "      <td>carlength</td>\n",
       "      <td>205.0</td>\n",
       "      <td>174.049268</td>\n",
       "      <td>12.337289</td>\n",
       "      <td>141.10</td>\n",
       "      <td>166.30</td>\n",
       "      <td>173.20</td>\n",
       "      <td>183.10</td>\n",
       "      <td>208.10</td>\n",
       "    </tr>\n",
       "    <tr>\n",
       "      <td>carwidth</td>\n",
       "      <td>205.0</td>\n",
       "      <td>65.907805</td>\n",
       "      <td>2.145204</td>\n",
       "      <td>60.30</td>\n",
       "      <td>64.10</td>\n",
       "      <td>65.50</td>\n",
       "      <td>66.90</td>\n",
       "      <td>72.30</td>\n",
       "    </tr>\n",
       "    <tr>\n",
       "      <td>carheight</td>\n",
       "      <td>205.0</td>\n",
       "      <td>53.724878</td>\n",
       "      <td>2.443522</td>\n",
       "      <td>47.80</td>\n",
       "      <td>52.00</td>\n",
       "      <td>54.10</td>\n",
       "      <td>55.50</td>\n",
       "      <td>59.80</td>\n",
       "    </tr>\n",
       "    <tr>\n",
       "      <td>curbweight</td>\n",
       "      <td>205.0</td>\n",
       "      <td>2555.565854</td>\n",
       "      <td>520.680204</td>\n",
       "      <td>1488.00</td>\n",
       "      <td>2145.00</td>\n",
       "      <td>2414.00</td>\n",
       "      <td>2935.00</td>\n",
       "      <td>4066.00</td>\n",
       "    </tr>\n",
       "    <tr>\n",
       "      <td>enginesize</td>\n",
       "      <td>205.0</td>\n",
       "      <td>126.907317</td>\n",
       "      <td>41.642693</td>\n",
       "      <td>61.00</td>\n",
       "      <td>97.00</td>\n",
       "      <td>120.00</td>\n",
       "      <td>141.00</td>\n",
       "      <td>326.00</td>\n",
       "    </tr>\n",
       "    <tr>\n",
       "      <td>boreratio</td>\n",
       "      <td>205.0</td>\n",
       "      <td>3.329756</td>\n",
       "      <td>0.270844</td>\n",
       "      <td>2.54</td>\n",
       "      <td>3.15</td>\n",
       "      <td>3.31</td>\n",
       "      <td>3.58</td>\n",
       "      <td>3.94</td>\n",
       "    </tr>\n",
       "    <tr>\n",
       "      <td>stroke</td>\n",
       "      <td>205.0</td>\n",
       "      <td>3.255415</td>\n",
       "      <td>0.313597</td>\n",
       "      <td>2.07</td>\n",
       "      <td>3.11</td>\n",
       "      <td>3.29</td>\n",
       "      <td>3.41</td>\n",
       "      <td>4.17</td>\n",
       "    </tr>\n",
       "    <tr>\n",
       "      <td>compressionratio</td>\n",
       "      <td>205.0</td>\n",
       "      <td>10.142537</td>\n",
       "      <td>3.972040</td>\n",
       "      <td>7.00</td>\n",
       "      <td>8.60</td>\n",
       "      <td>9.00</td>\n",
       "      <td>9.40</td>\n",
       "      <td>23.00</td>\n",
       "    </tr>\n",
       "    <tr>\n",
       "      <td>horsepower</td>\n",
       "      <td>205.0</td>\n",
       "      <td>104.117073</td>\n",
       "      <td>39.544167</td>\n",
       "      <td>48.00</td>\n",
       "      <td>70.00</td>\n",
       "      <td>95.00</td>\n",
       "      <td>116.00</td>\n",
       "      <td>288.00</td>\n",
       "    </tr>\n",
       "    <tr>\n",
       "      <td>peakrpm</td>\n",
       "      <td>205.0</td>\n",
       "      <td>5125.121951</td>\n",
       "      <td>476.985643</td>\n",
       "      <td>4150.00</td>\n",
       "      <td>4800.00</td>\n",
       "      <td>5200.00</td>\n",
       "      <td>5500.00</td>\n",
       "      <td>6600.00</td>\n",
       "    </tr>\n",
       "    <tr>\n",
       "      <td>citympg</td>\n",
       "      <td>205.0</td>\n",
       "      <td>25.219512</td>\n",
       "      <td>6.542142</td>\n",
       "      <td>13.00</td>\n",
       "      <td>19.00</td>\n",
       "      <td>24.00</td>\n",
       "      <td>30.00</td>\n",
       "      <td>49.00</td>\n",
       "    </tr>\n",
       "    <tr>\n",
       "      <td>highwaympg</td>\n",
       "      <td>205.0</td>\n",
       "      <td>30.751220</td>\n",
       "      <td>6.886443</td>\n",
       "      <td>16.00</td>\n",
       "      <td>25.00</td>\n",
       "      <td>30.00</td>\n",
       "      <td>34.00</td>\n",
       "      <td>54.00</td>\n",
       "    </tr>\n",
       "    <tr>\n",
       "      <td>price</td>\n",
       "      <td>205.0</td>\n",
       "      <td>13276.710571</td>\n",
       "      <td>7988.852332</td>\n",
       "      <td>5118.00</td>\n",
       "      <td>7788.00</td>\n",
       "      <td>10295.00</td>\n",
       "      <td>16503.00</td>\n",
       "      <td>45400.00</td>\n",
       "    </tr>\n",
       "  </tbody>\n",
       "</table>\n",
       "</div>"
      ],
      "text/plain": [
       "                  count          mean          std      min      25%  \\\n",
       "car_ID            205.0    103.000000    59.322565     1.00    52.00   \n",
       "symboling         205.0      0.834146     1.245307    -2.00     0.00   \n",
       "wheelbase         205.0     98.756585     6.021776    86.60    94.50   \n",
       "carlength         205.0    174.049268    12.337289   141.10   166.30   \n",
       "carwidth          205.0     65.907805     2.145204    60.30    64.10   \n",
       "carheight         205.0     53.724878     2.443522    47.80    52.00   \n",
       "curbweight        205.0   2555.565854   520.680204  1488.00  2145.00   \n",
       "enginesize        205.0    126.907317    41.642693    61.00    97.00   \n",
       "boreratio         205.0      3.329756     0.270844     2.54     3.15   \n",
       "stroke            205.0      3.255415     0.313597     2.07     3.11   \n",
       "compressionratio  205.0     10.142537     3.972040     7.00     8.60   \n",
       "horsepower        205.0    104.117073    39.544167    48.00    70.00   \n",
       "peakrpm           205.0   5125.121951   476.985643  4150.00  4800.00   \n",
       "citympg           205.0     25.219512     6.542142    13.00    19.00   \n",
       "highwaympg        205.0     30.751220     6.886443    16.00    25.00   \n",
       "price             205.0  13276.710571  7988.852332  5118.00  7788.00   \n",
       "\n",
       "                       50%       75%       max  \n",
       "car_ID              103.00    154.00    205.00  \n",
       "symboling             1.00      2.00      3.00  \n",
       "wheelbase            97.00    102.40    120.90  \n",
       "carlength           173.20    183.10    208.10  \n",
       "carwidth             65.50     66.90     72.30  \n",
       "carheight            54.10     55.50     59.80  \n",
       "curbweight         2414.00   2935.00   4066.00  \n",
       "enginesize          120.00    141.00    326.00  \n",
       "boreratio             3.31      3.58      3.94  \n",
       "stroke                3.29      3.41      4.17  \n",
       "compressionratio      9.00      9.40     23.00  \n",
       "horsepower           95.00    116.00    288.00  \n",
       "peakrpm            5200.00   5500.00   6600.00  \n",
       "citympg              24.00     30.00     49.00  \n",
       "highwaympg           30.00     34.00     54.00  \n",
       "price             10295.00  16503.00  45400.00  "
      ]
     },
     "execution_count": 5,
     "metadata": {},
     "output_type": "execute_result"
    }
   ],
   "source": [
    "auto_df.describe().transpose()"
   ]
  },
  {
   "cell_type": "code",
   "execution_count": 6,
   "metadata": {},
   "outputs": [
    {
     "name": "stdout",
     "output_type": "stream",
     "text": [
      "<class 'pandas.core.frame.DataFrame'>\n",
      "RangeIndex: 205 entries, 0 to 204\n",
      "Data columns (total 26 columns):\n",
      "car_ID              205 non-null int64\n",
      "symboling           205 non-null int64\n",
      "CarName             205 non-null object\n",
      "fueltype            205 non-null object\n",
      "aspiration          205 non-null object\n",
      "doornumber          205 non-null object\n",
      "carbody             205 non-null object\n",
      "drivewheel          205 non-null object\n",
      "enginelocation      205 non-null object\n",
      "wheelbase           205 non-null float64\n",
      "carlength           205 non-null float64\n",
      "carwidth            205 non-null float64\n",
      "carheight           205 non-null float64\n",
      "curbweight          205 non-null int64\n",
      "enginetype          205 non-null object\n",
      "cylindernumber      205 non-null object\n",
      "enginesize          205 non-null int64\n",
      "fuelsystem          205 non-null object\n",
      "boreratio           205 non-null float64\n",
      "stroke              205 non-null float64\n",
      "compressionratio    205 non-null float64\n",
      "horsepower          205 non-null int64\n",
      "peakrpm             205 non-null int64\n",
      "citympg             205 non-null int64\n",
      "highwaympg          205 non-null int64\n",
      "price               205 non-null float64\n",
      "dtypes: float64(8), int64(8), object(10)\n",
      "memory usage: 41.8+ KB\n"
     ]
    }
   ],
   "source": [
    "auto_df.info()"
   ]
  },
  {
   "cell_type": "markdown",
   "metadata": {},
   "source": [
    "## Step 2: Visualising the Data\n",
    "\n",
    "Let's now spend some time doing what is arguably the most important step - **understanding the data**.\n",
    "- If there is some obvious multicollinearity going on, this is the first place to catch it\n",
    "- Here's where you'll also identify if some predictors directly have a strong association with the outcome variable\n",
    "\n",
    "We'll visualise our data using `matplotlib` and `seaborn`."
   ]
  },
  {
   "cell_type": "code",
   "execution_count": 7,
   "metadata": {},
   "outputs": [],
   "source": [
    "import matplotlib.pyplot as plt\n",
    "import seaborn as sns"
   ]
  },
  {
   "cell_type": "code",
   "execution_count": 8,
   "metadata": {},
   "outputs": [],
   "source": [
    "#sns.pairplot(auto_df)\n",
    "#plt.show()"
   ]
  },
  {
   "cell_type": "markdown",
   "metadata": {},
   "source": [
    " If we look at the pair plot for price we see some of the variables having linear relationship with price\n",
    "and thus Linear regression can be applied"
   ]
  },
  {
   "cell_type": "code",
   "execution_count": 9,
   "metadata": {},
   "outputs": [
    {
     "data": {
      "text/plain": [
       "0    alfa-romero\n",
       "1    alfa-romero\n",
       "2    alfa-romero\n",
       "3           audi\n",
       "4           audi\n",
       "Name: CarName, dtype: object"
      ]
     },
     "execution_count": 9,
     "metadata": {},
     "output_type": "execute_result"
    }
   ],
   "source": [
    "auto_df['CarName'] = auto_df['CarName'].str.split(\" \", n = 1, expand = True)\n",
    "\n",
    "auto_df['CarName'].head()"
   ]
  },
  {
   "cell_type": "code",
   "execution_count": 10,
   "metadata": {},
   "outputs": [
    {
     "data": {
      "text/plain": [
       "toyota         31\n",
       "nissan         17\n",
       "mazda          15\n",
       "honda          13\n",
       "mitsubishi     13\n",
       "subaru         12\n",
       "peugeot        11\n",
       "volvo          11\n",
       "volkswagen      9\n",
       "dodge           9\n",
       "buick           8\n",
       "bmw             8\n",
       "plymouth        7\n",
       "audi            7\n",
       "saab            6\n",
       "porsche         4\n",
       "isuzu           4\n",
       "alfa-romero     3\n",
       "jaguar          3\n",
       "chevrolet       3\n",
       "maxda           2\n",
       "renault         2\n",
       "vw              2\n",
       "porcshce        1\n",
       "vokswagen       1\n",
       "toyouta         1\n",
       "mercury         1\n",
       "Nissan          1\n",
       "Name: CarName, dtype: int64"
      ]
     },
     "execution_count": 10,
     "metadata": {},
     "output_type": "execute_result"
    }
   ],
   "source": [
    "auto_df['CarName'].value_counts()"
   ]
  },
  {
   "cell_type": "code",
   "execution_count": 11,
   "metadata": {},
   "outputs": [
    {
     "data": {
      "text/plain": [
       "0    alfa-romero\n",
       "1    alfa-romero\n",
       "2    alfa-romero\n",
       "3           audi\n",
       "4           audi\n",
       "Name: CarName, dtype: object"
      ]
     },
     "execution_count": 11,
     "metadata": {},
     "output_type": "execute_result"
    }
   ],
   "source": [
    "# Create a dictionary to find and replace values\n",
    "dic_to_replace = {\"CarName\": {\"toyouta\": 'toyota', \"porcshce\": 'porsche',\"vokswagen\": 'volkswagen',\"mazda\": 'maxda',\"vw\": 'volkswagen'}}\n",
    "auto_df.replace(dic_to_replace, inplace=True)\n",
    "# View first few rows of data\n",
    "auto_df['CarName'].head()"
   ]
  },
  {
   "cell_type": "code",
   "execution_count": 12,
   "metadata": {},
   "outputs": [
    {
     "data": {
      "image/png": "[encoded data removed]",
      "text/plain": [
       "<Figure size 1440x864 with 6 Axes>"
      ]
     },
     "metadata": {
      "needs_background": "light"
     },
     "output_type": "display_data"
    }
   ],
   "source": [
    "categorical_col = ['CarName','fueltype','aspiration','doornumber','carbody','drivewheel','enginelocation','enginetype','fuelsystem']\n",
    "\n",
    "plt.figure(figsize=(20, 12))\n",
    "plt.subplot(2,3,1)\n",
    "sns.boxplot(x = 'enginelocation', y = 'price', data = auto_df)\n",
    "plt.subplot(2,3,2)\n",
    "sns.boxplot(x = 'fueltype', y = 'price', data = auto_df)\n",
    "plt.subplot(2,3,3)\n",
    "sns.boxplot(x = 'aspiration', y = 'price', data = auto_df)\n",
    "plt.subplot(2,3,4)\n",
    "sns.boxplot(x = 'doornumber', y = 'price', data = auto_df)\n",
    "plt.subplot(2,3,5)\n",
    "sns.boxplot(x = 'carbody', y = 'price', data = auto_df)\n",
    "plt.subplot(2,3,6)\n",
    "sns.boxplot(x = 'drivewheel', y = 'price', data = auto_df)\n",
    "plt.show()"
   ]
  },
  {
   "cell_type": "code",
   "execution_count": 13,
   "metadata": {},
   "outputs": [
    {
     "data": {
      "text/plain": [
       "<matplotlib.axes._subplots.AxesSubplot at 0x114711c90>"
      ]
     },
     "execution_count": 13,
     "metadata": {},
     "output_type": "execute_result"
    },
    {
     "data": {
      "image/png": "[encoded data removed]",
      "text/plain": [
       "<Figure size 432x288 with 1 Axes>"
      ]
     },
     "metadata": {
      "needs_background": "light"
     },
     "output_type": "display_data"
    }
   ],
   "source": [
    "sns.boxplot(x = 'enginetype', y = 'price', data = auto_df)"
   ]
  },
  {
   "cell_type": "code",
   "execution_count": 14,
   "metadata": {},
   "outputs": [
    {
     "data": {
      "text/plain": [
       "<matplotlib.axes._subplots.AxesSubplot at 0x1a16f49750>"
      ]
     },
     "execution_count": 14,
     "metadata": {},
     "output_type": "execute_result"
    },
    {
     "data": {
      "image/png": "[encoded data removed]",
      "text/plain": [
       "<Figure size 432x288 with 1 Axes>"
      ]
     },
     "metadata": {
      "needs_background": "light"
     },
     "output_type": "display_data"
    }
   ],
   "source": [
    "sns.boxplot(x = 'fuelsystem', y = 'price', data = auto_df)"
   ]
  },
  {
   "cell_type": "code",
   "execution_count": 15,
   "metadata": {},
   "outputs": [
    {
     "name": "stdout",
     "output_type": "stream",
     "text": [
      " 0    67\n",
      " 1    54\n",
      " 2    32\n",
      " 3    27\n",
      "-1    22\n",
      "-2     3\n",
      "Name: symboling, dtype: int64\n",
      "9.00     46\n",
      "9.40     26\n",
      "8.50     14\n",
      "9.50     13\n",
      "9.30     11\n",
      "8.70      9\n",
      "9.20      8\n",
      "8.00      8\n",
      "7.00      7\n",
      "21.00     5\n",
      "7.50      5\n",
      "9.60      5\n",
      "23.00     5\n",
      "8.40      5\n",
      "8.60      5\n",
      "21.50     4\n",
      "7.60      4\n",
      "10.00     3\n",
      "22.50     3\n",
      "8.30      3\n",
      "8.80      3\n",
      "7.70      2\n",
      "8.10      2\n",
      "9.31      1\n",
      "21.90     1\n",
      "22.00     1\n",
      "11.50     1\n",
      "9.41      1\n",
      "10.10     1\n",
      "9.10      1\n",
      "22.70     1\n",
      "7.80      1\n",
      "Name: compressionratio, dtype: int64\n"
     ]
    }
   ],
   "source": [
    "print(auto_df['symboling'].value_counts())\n",
    "\n",
    "\n",
    "print(auto_df['compressionratio'].value_counts())"
   ]
  },
  {
   "cell_type": "code",
   "execution_count": 16,
   "metadata": {},
   "outputs": [
    {
     "data": {
      "text/plain": [
       "<matplotlib.axes._subplots.AxesSubplot at 0x1a1845dd50>"
      ]
     },
     "execution_count": 16,
     "metadata": {},
     "output_type": "execute_result"
    },
    {
     "data": {
      "image/png": "[encoded data removed]",
      "text/plain": [
       "<Figure size 432x288 with 1 Axes>"
      ]
     },
     "metadata": {
      "needs_background": "light"
     },
     "output_type": "display_data"
    }
   ],
   "source": [
    "sns.distplot(auto_df['compressionratio'])"
   ]
  },
  {
   "cell_type": "code",
   "execution_count": 17,
   "metadata": {},
   "outputs": [
    {
     "data": {
      "text/plain": [
       "count    205.000000\n",
       "mean      10.142537\n",
       "std        3.972040\n",
       "min        7.000000\n",
       "25%        8.600000\n",
       "50%        9.000000\n",
       "75%        9.400000\n",
       "max       23.000000\n",
       "Name: compressionratio, dtype: float64"
      ]
     },
     "execution_count": 17,
     "metadata": {},
     "output_type": "execute_result"
    }
   ],
   "source": [
    "auto_df['compressionratio'].describe()"
   ]
  },
  {
   "cell_type": "code",
   "execution_count": 18,
   "metadata": {},
   "outputs": [],
   "source": [
    "#Ceiled Compression ratio to common categories due to varied values\n",
    "auto_df[\"compressionratio\"] = np.ceil(auto_df[\"compressionratio\"] / 9.0) "
   ]
  },
  {
   "cell_type": "code",
   "execution_count": 19,
   "metadata": {},
   "outputs": [
    {
     "data": {
      "text/plain": [
       "1.0    114\n",
       "2.0     71\n",
       "3.0     20\n",
       "Name: compressionratio, dtype: int64"
      ]
     },
     "execution_count": 19,
     "metadata": {},
     "output_type": "execute_result"
    }
   ],
   "source": [
    "auto_df[\"compressionratio\"].value_counts()"
   ]
  },
  {
   "cell_type": "code",
   "execution_count": 20,
   "metadata": {},
   "outputs": [
    {
     "data": {
      "text/plain": [
       "<matplotlib.axes._subplots.AxesSubplot at 0x1a185fd0d0>"
      ]
     },
     "execution_count": 20,
     "metadata": {},
     "output_type": "execute_result"
    },
    {
     "data": {
      "image/png": "[encoded data removed]",
      "text/plain": [
       "<Figure size 432x288 with 1 Axes>"
      ]
     },
     "metadata": {
      "needs_background": "light"
     },
     "output_type": "display_data"
    }
   ],
   "source": [
    "sns.distplot(auto_df['horsepower'])"
   ]
  },
  {
   "cell_type": "code",
   "execution_count": 21,
   "metadata": {},
   "outputs": [],
   "source": [
    "auto_df = auto_df.drop(columns = ['car_ID'])"
   ]
  },
  {
   "cell_type": "code",
   "execution_count": 22,
   "metadata": {},
   "outputs": [
    {
     "data": {
      "text/plain": [
       "Index(['symboling', 'CarName', 'fueltype', 'aspiration', 'doornumber',\n",
       "       'carbody', 'drivewheel', 'enginelocation', 'wheelbase', 'carlength',\n",
       "       'carwidth', 'carheight', 'curbweight', 'enginetype', 'cylindernumber',\n",
       "       'enginesize', 'fuelsystem', 'boreratio', 'stroke', 'compressionratio',\n",
       "       'horsepower', 'peakrpm', 'citympg', 'highwaympg', 'price'],\n",
       "      dtype='object')"
      ]
     },
     "execution_count": 22,
     "metadata": {},
     "output_type": "execute_result"
    }
   ],
   "source": [
    "auto_df.columns"
   ]
  },
  {
   "cell_type": "markdown",
   "metadata": {},
   "source": [
    "## Step 3: Data Preparation"
   ]
  },
  {
   "cell_type": "code",
   "execution_count": 23,
   "metadata": {},
   "outputs": [
    {
     "data": {
      "text/html": [
       "<div>\n",
       "<style scoped>\n",
       "    .dataframe tbody tr th:only-of-type {\n",
       "        vertical-align: middle;\n",
       "    }\n",
       "\n",
       "    .dataframe tbody tr th {\n",
       "        vertical-align: top;\n",
       "    }\n",
       "\n",
       "    .dataframe thead th {\n",
       "        text-align: right;\n",
       "    }\n",
       "</style>\n",
       "<table border=\"1\" class=\"dataframe\">\n",
       "  <thead>\n",
       "    <tr style=\"text-align: right;\">\n",
       "      <th></th>\n",
       "      <th>CarName</th>\n",
       "      <th>fueltype</th>\n",
       "      <th>aspiration</th>\n",
       "      <th>doornumber</th>\n",
       "      <th>carbody</th>\n",
       "      <th>drivewheel</th>\n",
       "      <th>enginelocation</th>\n",
       "      <th>enginetype</th>\n",
       "      <th>cylindernumber</th>\n",
       "      <th>fuelsystem</th>\n",
       "    </tr>\n",
       "  </thead>\n",
       "  <tbody>\n",
       "    <tr>\n",
       "      <td>0</td>\n",
       "      <td>alfa-romero</td>\n",
       "      <td>gas</td>\n",
       "      <td>std</td>\n",
       "      <td>two</td>\n",
       "      <td>convertible</td>\n",
       "      <td>rwd</td>\n",
       "      <td>front</td>\n",
       "      <td>dohc</td>\n",
       "      <td>four</td>\n",
       "      <td>mpfi</td>\n",
       "    </tr>\n",
       "    <tr>\n",
       "      <td>1</td>\n",
       "      <td>alfa-romero</td>\n",
       "      <td>gas</td>\n",
       "      <td>std</td>\n",
       "      <td>two</td>\n",
       "      <td>convertible</td>\n",
       "      <td>rwd</td>\n",
       "      <td>front</td>\n",
       "      <td>dohc</td>\n",
       "      <td>four</td>\n",
       "      <td>mpfi</td>\n",
       "    </tr>\n",
       "    <tr>\n",
       "      <td>2</td>\n",
       "      <td>alfa-romero</td>\n",
       "      <td>gas</td>\n",
       "      <td>std</td>\n",
       "      <td>two</td>\n",
       "      <td>hatchback</td>\n",
       "      <td>rwd</td>\n",
       "      <td>front</td>\n",
       "      <td>ohcv</td>\n",
       "      <td>six</td>\n",
       "      <td>mpfi</td>\n",
       "    </tr>\n",
       "    <tr>\n",
       "      <td>3</td>\n",
       "      <td>audi</td>\n",
       "      <td>gas</td>\n",
       "      <td>std</td>\n",
       "      <td>four</td>\n",
       "      <td>sedan</td>\n",
       "      <td>fwd</td>\n",
       "      <td>front</td>\n",
       "      <td>ohc</td>\n",
       "      <td>four</td>\n",
       "      <td>mpfi</td>\n",
       "    </tr>\n",
       "    <tr>\n",
       "      <td>4</td>\n",
       "      <td>audi</td>\n",
       "      <td>gas</td>\n",
       "      <td>std</td>\n",
       "      <td>four</td>\n",
       "      <td>sedan</td>\n",
       "      <td>4wd</td>\n",
       "      <td>front</td>\n",
       "      <td>ohc</td>\n",
       "      <td>five</td>\n",
       "      <td>mpfi</td>\n",
       "    </tr>\n",
       "  </tbody>\n",
       "</table>\n",
       "</div>"
      ],
      "text/plain": [
       "       CarName fueltype aspiration doornumber      carbody drivewheel  \\\n",
       "0  alfa-romero      gas        std        two  convertible        rwd   \n",
       "1  alfa-romero      gas        std        two  convertible        rwd   \n",
       "2  alfa-romero      gas        std        two    hatchback        rwd   \n",
       "3         audi      gas        std       four        sedan        fwd   \n",
       "4         audi      gas        std       four        sedan        4wd   \n",
       "\n",
       "  enginelocation enginetype cylindernumber fuelsystem  \n",
       "0          front       dohc           four       mpfi  \n",
       "1          front       dohc           four       mpfi  \n",
       "2          front       ohcv            six       mpfi  \n",
       "3          front        ohc           four       mpfi  \n",
       "4          front        ohc           five       mpfi  "
      ]
     },
     "execution_count": 23,
     "metadata": {},
     "output_type": "execute_result"
    }
   ],
   "source": [
    "df_car_mod = auto_df.select_dtypes(include=['object'])\n",
    "\n",
    "df_car_mod.head()"
   ]
  },
  {
   "cell_type": "code",
   "execution_count": null,
   "metadata": {},
   "outputs": [],
   "source": []
  },
  {
   "cell_type": "code",
   "execution_count": 24,
   "metadata": {},
   "outputs": [
    {
     "data": {
      "text/plain": [
       "CarName           0\n",
       "fueltype          0\n",
       "aspiration        0\n",
       "doornumber        0\n",
       "carbody           0\n",
       "drivewheel        0\n",
       "enginelocation    0\n",
       "enginetype        0\n",
       "cylindernumber    0\n",
       "fuelsystem        0\n",
       "dtype: int64"
      ]
     },
     "execution_count": 24,
     "metadata": {},
     "output_type": "execute_result"
    }
   ],
   "source": [
    "df_car_mod.isnull().sum()"
   ]
  },
  {
   "cell_type": "code",
   "execution_count": 25,
   "metadata": {},
   "outputs": [
    {
     "data": {
      "text/plain": [
       "gas       185\n",
       "diesel     20\n",
       "Name: fueltype, dtype: int64"
      ]
     },
     "execution_count": 25,
     "metadata": {},
     "output_type": "execute_result"
    }
   ],
   "source": [
    "df_car_mod['fueltype'].value_counts()"
   ]
  },
  {
   "cell_type": "code",
   "execution_count": 26,
   "metadata": {},
   "outputs": [],
   "source": [
    "df_car_mod = pd.get_dummies(df_car_mod, columns=['fueltype'], drop_first=True)"
   ]
  },
  {
   "cell_type": "code",
   "execution_count": 27,
   "metadata": {},
   "outputs": [
    {
     "data": {
      "text/html": [
       "<div>\n",
       "<style scoped>\n",
       "    .dataframe tbody tr th:only-of-type {\n",
       "        vertical-align: middle;\n",
       "    }\n",
       "\n",
       "    .dataframe tbody tr th {\n",
       "        vertical-align: top;\n",
       "    }\n",
       "\n",
       "    .dataframe thead th {\n",
       "        text-align: right;\n",
       "    }\n",
       "</style>\n",
       "<table border=\"1\" class=\"dataframe\">\n",
       "  <thead>\n",
       "    <tr style=\"text-align: right;\">\n",
       "      <th></th>\n",
       "      <th>CarName</th>\n",
       "      <th>aspiration</th>\n",
       "      <th>doornumber</th>\n",
       "      <th>carbody</th>\n",
       "      <th>drivewheel</th>\n",
       "      <th>enginelocation</th>\n",
       "      <th>enginetype</th>\n",
       "      <th>cylindernumber</th>\n",
       "      <th>fuelsystem</th>\n",
       "      <th>fueltype_gas</th>\n",
       "    </tr>\n",
       "  </thead>\n",
       "  <tbody>\n",
       "    <tr>\n",
       "      <td>185</td>\n",
       "      <td>volkswagen</td>\n",
       "      <td>std</td>\n",
       "      <td>four</td>\n",
       "      <td>sedan</td>\n",
       "      <td>fwd</td>\n",
       "      <td>front</td>\n",
       "      <td>ohc</td>\n",
       "      <td>four</td>\n",
       "      <td>mpfi</td>\n",
       "      <td>1</td>\n",
       "    </tr>\n",
       "    <tr>\n",
       "      <td>3</td>\n",
       "      <td>audi</td>\n",
       "      <td>std</td>\n",
       "      <td>four</td>\n",
       "      <td>sedan</td>\n",
       "      <td>fwd</td>\n",
       "      <td>front</td>\n",
       "      <td>ohc</td>\n",
       "      <td>four</td>\n",
       "      <td>mpfi</td>\n",
       "      <td>1</td>\n",
       "    </tr>\n",
       "    <tr>\n",
       "      <td>140</td>\n",
       "      <td>subaru</td>\n",
       "      <td>std</td>\n",
       "      <td>two</td>\n",
       "      <td>hatchback</td>\n",
       "      <td>4wd</td>\n",
       "      <td>front</td>\n",
       "      <td>ohcf</td>\n",
       "      <td>four</td>\n",
       "      <td>2bbl</td>\n",
       "      <td>1</td>\n",
       "    </tr>\n",
       "    <tr>\n",
       "      <td>145</td>\n",
       "      <td>subaru</td>\n",
       "      <td>turbo</td>\n",
       "      <td>four</td>\n",
       "      <td>sedan</td>\n",
       "      <td>4wd</td>\n",
       "      <td>front</td>\n",
       "      <td>ohcf</td>\n",
       "      <td>four</td>\n",
       "      <td>mpfi</td>\n",
       "      <td>1</td>\n",
       "    </tr>\n",
       "    <tr>\n",
       "      <td>24</td>\n",
       "      <td>dodge</td>\n",
       "      <td>std</td>\n",
       "      <td>four</td>\n",
       "      <td>hatchback</td>\n",
       "      <td>fwd</td>\n",
       "      <td>front</td>\n",
       "      <td>ohc</td>\n",
       "      <td>four</td>\n",
       "      <td>2bbl</td>\n",
       "      <td>1</td>\n",
       "    </tr>\n",
       "    <tr>\n",
       "      <td>188</td>\n",
       "      <td>volkswagen</td>\n",
       "      <td>std</td>\n",
       "      <td>four</td>\n",
       "      <td>sedan</td>\n",
       "      <td>fwd</td>\n",
       "      <td>front</td>\n",
       "      <td>ohc</td>\n",
       "      <td>four</td>\n",
       "      <td>mpfi</td>\n",
       "      <td>1</td>\n",
       "    </tr>\n",
       "    <tr>\n",
       "      <td>124</td>\n",
       "      <td>plymouth</td>\n",
       "      <td>turbo</td>\n",
       "      <td>two</td>\n",
       "      <td>hatchback</td>\n",
       "      <td>rwd</td>\n",
       "      <td>front</td>\n",
       "      <td>ohc</td>\n",
       "      <td>four</td>\n",
       "      <td>spdi</td>\n",
       "      <td>1</td>\n",
       "    </tr>\n",
       "    <tr>\n",
       "      <td>105</td>\n",
       "      <td>nissan</td>\n",
       "      <td>turbo</td>\n",
       "      <td>two</td>\n",
       "      <td>hatchback</td>\n",
       "      <td>rwd</td>\n",
       "      <td>front</td>\n",
       "      <td>ohcv</td>\n",
       "      <td>six</td>\n",
       "      <td>mpfi</td>\n",
       "      <td>1</td>\n",
       "    </tr>\n",
       "    <tr>\n",
       "      <td>80</td>\n",
       "      <td>mitsubishi</td>\n",
       "      <td>turbo</td>\n",
       "      <td>two</td>\n",
       "      <td>hatchback</td>\n",
       "      <td>fwd</td>\n",
       "      <td>front</td>\n",
       "      <td>ohc</td>\n",
       "      <td>four</td>\n",
       "      <td>spdi</td>\n",
       "      <td>1</td>\n",
       "    </tr>\n",
       "    <tr>\n",
       "      <td>4</td>\n",
       "      <td>audi</td>\n",
       "      <td>std</td>\n",
       "      <td>four</td>\n",
       "      <td>sedan</td>\n",
       "      <td>4wd</td>\n",
       "      <td>front</td>\n",
       "      <td>ohc</td>\n",
       "      <td>five</td>\n",
       "      <td>mpfi</td>\n",
       "      <td>1</td>\n",
       "    </tr>\n",
       "  </tbody>\n",
       "</table>\n",
       "</div>"
      ],
      "text/plain": [
       "        CarName aspiration doornumber    carbody drivewheel enginelocation  \\\n",
       "185  volkswagen        std       four      sedan        fwd          front   \n",
       "3          audi        std       four      sedan        fwd          front   \n",
       "140      subaru        std        two  hatchback        4wd          front   \n",
       "145      subaru      turbo       four      sedan        4wd          front   \n",
       "24        dodge        std       four  hatchback        fwd          front   \n",
       "188  volkswagen        std       four      sedan        fwd          front   \n",
       "124    plymouth      turbo        two  hatchback        rwd          front   \n",
       "105      nissan      turbo        two  hatchback        rwd          front   \n",
       "80   mitsubishi      turbo        two  hatchback        fwd          front   \n",
       "4          audi        std       four      sedan        4wd          front   \n",
       "\n",
       "    enginetype cylindernumber fuelsystem  fueltype_gas  \n",
       "185        ohc           four       mpfi             1  \n",
       "3          ohc           four       mpfi             1  \n",
       "140       ohcf           four       2bbl             1  \n",
       "145       ohcf           four       mpfi             1  \n",
       "24         ohc           four       2bbl             1  \n",
       "188        ohc           four       mpfi             1  \n",
       "124        ohc           four       spdi             1  \n",
       "105       ohcv            six       mpfi             1  \n",
       "80         ohc           four       spdi             1  \n",
       "4          ohc           five       mpfi             1  "
      ]
     },
     "execution_count": 27,
     "metadata": {},
     "output_type": "execute_result"
    }
   ],
   "source": [
    "df_car_mod.sample(10)"
   ]
  },
  {
   "cell_type": "code",
   "execution_count": 28,
   "metadata": {},
   "outputs": [
    {
     "data": {
      "text/plain": [
       "four    115\n",
       "two      90\n",
       "Name: doornumber, dtype: int64"
      ]
     },
     "execution_count": 28,
     "metadata": {},
     "output_type": "execute_result"
    }
   ],
   "source": [
    "df_car_mod['doornumber'].value_counts()"
   ]
  },
  {
   "cell_type": "code",
   "execution_count": 29,
   "metadata": {},
   "outputs": [],
   "source": [
    "df_car_mod['doornumber'] = df_car_mod['doornumber'].replace('four', 4)\n",
    "df_car_mod['doornumber'] = df_car_mod['doornumber'].replace('two', 2)"
   ]
  },
  {
   "cell_type": "code",
   "execution_count": 30,
   "metadata": {},
   "outputs": [
    {
     "data": {
      "text/plain": [
       "4    115\n",
       "2     90\n",
       "Name: doornumber, dtype: int64"
      ]
     },
     "execution_count": 30,
     "metadata": {},
     "output_type": "execute_result"
    }
   ],
   "source": [
    "df_car_mod['doornumber'].value_counts()"
   ]
  },
  {
   "cell_type": "code",
   "execution_count": 31,
   "metadata": {},
   "outputs": [],
   "source": [
    "from sklearn.preprocessing import LabelEncoder\n",
    "labelencoder = LabelEncoder()"
   ]
  },
  {
   "cell_type": "code",
   "execution_count": 32,
   "metadata": {},
   "outputs": [
    {
     "data": {
      "text/html": [
       "<div>\n",
       "<style scoped>\n",
       "    .dataframe tbody tr th:only-of-type {\n",
       "        vertical-align: middle;\n",
       "    }\n",
       "\n",
       "    .dataframe tbody tr th {\n",
       "        vertical-align: top;\n",
       "    }\n",
       "\n",
       "    .dataframe thead th {\n",
       "        text-align: right;\n",
       "    }\n",
       "</style>\n",
       "<table border=\"1\" class=\"dataframe\">\n",
       "  <thead>\n",
       "    <tr style=\"text-align: right;\">\n",
       "      <th></th>\n",
       "      <th>CarName</th>\n",
       "      <th>CarName_encoded</th>\n",
       "    </tr>\n",
       "  </thead>\n",
       "  <tbody>\n",
       "    <tr>\n",
       "      <td>110</td>\n",
       "      <td>peugeot</td>\n",
       "      <td>14</td>\n",
       "    </tr>\n",
       "    <tr>\n",
       "      <td>42</td>\n",
       "      <td>honda</td>\n",
       "      <td>7</td>\n",
       "    </tr>\n",
       "    <tr>\n",
       "      <td>142</td>\n",
       "      <td>subaru</td>\n",
       "      <td>19</td>\n",
       "    </tr>\n",
       "    <tr>\n",
       "      <td>118</td>\n",
       "      <td>plymouth</td>\n",
       "      <td>15</td>\n",
       "    </tr>\n",
       "    <tr>\n",
       "      <td>3</td>\n",
       "      <td>audi</td>\n",
       "      <td>2</td>\n",
       "    </tr>\n",
       "    <tr>\n",
       "      <td>148</td>\n",
       "      <td>subaru</td>\n",
       "      <td>19</td>\n",
       "    </tr>\n",
       "    <tr>\n",
       "      <td>124</td>\n",
       "      <td>plymouth</td>\n",
       "      <td>15</td>\n",
       "    </tr>\n",
       "    <tr>\n",
       "      <td>161</td>\n",
       "      <td>toyota</td>\n",
       "      <td>20</td>\n",
       "    </tr>\n",
       "    <tr>\n",
       "      <td>41</td>\n",
       "      <td>honda</td>\n",
       "      <td>7</td>\n",
       "    </tr>\n",
       "    <tr>\n",
       "      <td>172</td>\n",
       "      <td>toyota</td>\n",
       "      <td>20</td>\n",
       "    </tr>\n",
       "    <tr>\n",
       "      <td>54</td>\n",
       "      <td>maxda</td>\n",
       "      <td>10</td>\n",
       "    </tr>\n",
       "    <tr>\n",
       "      <td>33</td>\n",
       "      <td>honda</td>\n",
       "      <td>7</td>\n",
       "    </tr>\n",
       "    <tr>\n",
       "      <td>134</td>\n",
       "      <td>saab</td>\n",
       "      <td>18</td>\n",
       "    </tr>\n",
       "    <tr>\n",
       "      <td>85</td>\n",
       "      <td>mitsubishi</td>\n",
       "      <td>12</td>\n",
       "    </tr>\n",
       "    <tr>\n",
       "      <td>163</td>\n",
       "      <td>toyota</td>\n",
       "      <td>20</td>\n",
       "    </tr>\n",
       "    <tr>\n",
       "      <td>91</td>\n",
       "      <td>nissan</td>\n",
       "      <td>13</td>\n",
       "    </tr>\n",
       "    <tr>\n",
       "      <td>16</td>\n",
       "      <td>bmw</td>\n",
       "      <td>3</td>\n",
       "    </tr>\n",
       "    <tr>\n",
       "      <td>164</td>\n",
       "      <td>toyota</td>\n",
       "      <td>20</td>\n",
       "    </tr>\n",
       "    <tr>\n",
       "      <td>78</td>\n",
       "      <td>mitsubishi</td>\n",
       "      <td>12</td>\n",
       "    </tr>\n",
       "    <tr>\n",
       "      <td>162</td>\n",
       "      <td>toyota</td>\n",
       "      <td>20</td>\n",
       "    </tr>\n",
       "  </tbody>\n",
       "</table>\n",
       "</div>"
      ],
      "text/plain": [
       "        CarName  CarName_encoded\n",
       "110     peugeot               14\n",
       "42        honda                7\n",
       "142      subaru               19\n",
       "118    plymouth               15\n",
       "3          audi                2\n",
       "148      subaru               19\n",
       "124    plymouth               15\n",
       "161      toyota               20\n",
       "41        honda                7\n",
       "172      toyota               20\n",
       "54        maxda               10\n",
       "33        honda                7\n",
       "134        saab               18\n",
       "85   mitsubishi               12\n",
       "163      toyota               20\n",
       "91       nissan               13\n",
       "16          bmw                3\n",
       "164      toyota               20\n",
       "78   mitsubishi               12\n",
       "162      toyota               20"
      ]
     },
     "execution_count": 32,
     "metadata": {},
     "output_type": "execute_result"
    }
   ],
   "source": [
    "df_car_mod['CarName_encoded'] = labelencoder.fit_transform(df_car_mod['CarName'])\n",
    "\n",
    "df_car_mod[['CarName', 'CarName_encoded']].sample(20)"
   ]
  },
  {
   "cell_type": "code",
   "execution_count": null,
   "metadata": {},
   "outputs": [],
   "source": []
  },
  {
   "cell_type": "code",
   "execution_count": 33,
   "metadata": {},
   "outputs": [
    {
     "data": {
      "text/plain": [
       "four      159\n",
       "six        24\n",
       "five       11\n",
       "eight       5\n",
       "two         4\n",
       "three       1\n",
       "twelve      1\n",
       "Name: cylindernumber, dtype: int64"
      ]
     },
     "execution_count": 33,
     "metadata": {},
     "output_type": "execute_result"
    }
   ],
   "source": [
    "df_car_mod['cylindernumber'].value_counts()"
   ]
  },
  {
   "cell_type": "code",
   "execution_count": 34,
   "metadata": {},
   "outputs": [
    {
     "data": {
      "text/plain": [
       "0    4\n",
       "1    4\n",
       "2    6\n",
       "3    4\n",
       "4    5\n",
       "Name: cylindernumber, dtype: int64"
      ]
     },
     "execution_count": 34,
     "metadata": {},
     "output_type": "execute_result"
    }
   ],
   "source": [
    "# Create a dictionary to find and replace values\n",
    "dic_to_replace = {\"cylindernumber\": {\"four\": 4, \"two\": 2,\"six\": 6,\"five\": 5,\"eight\": 8,\"twelve\":12,\"three\": 3}}\n",
    "df_car_mod.replace(dic_to_replace, inplace=True)\n",
    "# View first few rows of data\n",
    "df_car_mod['cylindernumber'].head()"
   ]
  },
  {
   "cell_type": "code",
   "execution_count": 35,
   "metadata": {},
   "outputs": [
    {
     "data": {
      "text/html": [
       "<div>\n",
       "<style scoped>\n",
       "    .dataframe tbody tr th:only-of-type {\n",
       "        vertical-align: middle;\n",
       "    }\n",
       "\n",
       "    .dataframe tbody tr th {\n",
       "        vertical-align: top;\n",
       "    }\n",
       "\n",
       "    .dataframe thead th {\n",
       "        text-align: right;\n",
       "    }\n",
       "</style>\n",
       "<table border=\"1\" class=\"dataframe\">\n",
       "  <thead>\n",
       "    <tr style=\"text-align: right;\">\n",
       "      <th></th>\n",
       "      <th>CarName</th>\n",
       "      <th>aspiration</th>\n",
       "      <th>doornumber</th>\n",
       "      <th>carbody</th>\n",
       "      <th>drivewheel</th>\n",
       "      <th>enginelocation</th>\n",
       "      <th>enginetype</th>\n",
       "      <th>cylindernumber</th>\n",
       "      <th>fuelsystem</th>\n",
       "      <th>fueltype_gas</th>\n",
       "      <th>CarName_encoded</th>\n",
       "    </tr>\n",
       "  </thead>\n",
       "  <tbody>\n",
       "    <tr>\n",
       "      <td>0</td>\n",
       "      <td>alfa-romero</td>\n",
       "      <td>std</td>\n",
       "      <td>2</td>\n",
       "      <td>convertible</td>\n",
       "      <td>rwd</td>\n",
       "      <td>front</td>\n",
       "      <td>dohc</td>\n",
       "      <td>4</td>\n",
       "      <td>mpfi</td>\n",
       "      <td>1</td>\n",
       "      <td>1</td>\n",
       "    </tr>\n",
       "    <tr>\n",
       "      <td>1</td>\n",
       "      <td>alfa-romero</td>\n",
       "      <td>std</td>\n",
       "      <td>2</td>\n",
       "      <td>convertible</td>\n",
       "      <td>rwd</td>\n",
       "      <td>front</td>\n",
       "      <td>dohc</td>\n",
       "      <td>4</td>\n",
       "      <td>mpfi</td>\n",
       "      <td>1</td>\n",
       "      <td>1</td>\n",
       "    </tr>\n",
       "    <tr>\n",
       "      <td>2</td>\n",
       "      <td>alfa-romero</td>\n",
       "      <td>std</td>\n",
       "      <td>2</td>\n",
       "      <td>hatchback</td>\n",
       "      <td>rwd</td>\n",
       "      <td>front</td>\n",
       "      <td>ohcv</td>\n",
       "      <td>6</td>\n",
       "      <td>mpfi</td>\n",
       "      <td>1</td>\n",
       "      <td>1</td>\n",
       "    </tr>\n",
       "    <tr>\n",
       "      <td>3</td>\n",
       "      <td>audi</td>\n",
       "      <td>std</td>\n",
       "      <td>4</td>\n",
       "      <td>sedan</td>\n",
       "      <td>fwd</td>\n",
       "      <td>front</td>\n",
       "      <td>ohc</td>\n",
       "      <td>4</td>\n",
       "      <td>mpfi</td>\n",
       "      <td>1</td>\n",
       "      <td>2</td>\n",
       "    </tr>\n",
       "    <tr>\n",
       "      <td>4</td>\n",
       "      <td>audi</td>\n",
       "      <td>std</td>\n",
       "      <td>4</td>\n",
       "      <td>sedan</td>\n",
       "      <td>4wd</td>\n",
       "      <td>front</td>\n",
       "      <td>ohc</td>\n",
       "      <td>5</td>\n",
       "      <td>mpfi</td>\n",
       "      <td>1</td>\n",
       "      <td>2</td>\n",
       "    </tr>\n",
       "  </tbody>\n",
       "</table>\n",
       "</div>"
      ],
      "text/plain": [
       "       CarName aspiration  doornumber      carbody drivewheel enginelocation  \\\n",
       "0  alfa-romero        std           2  convertible        rwd          front   \n",
       "1  alfa-romero        std           2  convertible        rwd          front   \n",
       "2  alfa-romero        std           2    hatchback        rwd          front   \n",
       "3         audi        std           4        sedan        fwd          front   \n",
       "4         audi        std           4        sedan        4wd          front   \n",
       "\n",
       "  enginetype  cylindernumber fuelsystem  fueltype_gas  CarName_encoded  \n",
       "0       dohc               4       mpfi             1                1  \n",
       "1       dohc               4       mpfi             1                1  \n",
       "2       ohcv               6       mpfi             1                1  \n",
       "3        ohc               4       mpfi             1                2  \n",
       "4        ohc               5       mpfi             1                2  "
      ]
     },
     "execution_count": 35,
     "metadata": {},
     "output_type": "execute_result"
    }
   ],
   "source": [
    "df_car_mod.head()"
   ]
  },
  {
   "cell_type": "code",
   "execution_count": 36,
   "metadata": {},
   "outputs": [],
   "source": [
    "# Enoding make column using LabelBinarizer\n",
    "from sklearn.preprocessing import LabelBinarizer\n",
    "labelbinarizer = LabelBinarizer()\n",
    "make_encoded_results = labelbinarizer.fit_transform(df_car_mod['CarName'])"
   ]
  },
  {
   "cell_type": "code",
   "execution_count": 37,
   "metadata": {},
   "outputs": [
    {
     "data": {
      "text/plain": [
       "array(['Nissan', 'alfa-romero', 'audi', 'bmw', 'buick', 'chevrolet',\n",
       "       'dodge', 'honda', 'isuzu', 'jaguar', 'maxda', 'mercury',\n",
       "       'mitsubishi', 'nissan', 'peugeot', 'plymouth', 'porsche',\n",
       "       'renault', 'saab', 'subaru', 'toyota', 'volkswagen', 'volvo'],\n",
       "      dtype='<U11')"
      ]
     },
     "execution_count": 37,
     "metadata": {},
     "output_type": "execute_result"
    }
   ],
   "source": [
    "labelbinarizer.classes_"
   ]
  },
  {
   "cell_type": "code",
   "execution_count": 38,
   "metadata": {},
   "outputs": [],
   "source": [
    "df_make_encoded = pd.DataFrame(make_encoded_results, columns=labelbinarizer.classes_)"
   ]
  },
  {
   "cell_type": "code",
   "execution_count": 39,
   "metadata": {},
   "outputs": [
    {
     "data": {
      "text/html": [
       "<div>\n",
       "<style scoped>\n",
       "    .dataframe tbody tr th:only-of-type {\n",
       "        vertical-align: middle;\n",
       "    }\n",
       "\n",
       "    .dataframe tbody tr th {\n",
       "        vertical-align: top;\n",
       "    }\n",
       "\n",
       "    .dataframe thead th {\n",
       "        text-align: right;\n",
       "    }\n",
       "</style>\n",
       "<table border=\"1\" class=\"dataframe\">\n",
       "  <thead>\n",
       "    <tr style=\"text-align: right;\">\n",
       "      <th></th>\n",
       "      <th>Nissan</th>\n",
       "      <th>alfa-romero</th>\n",
       "      <th>audi</th>\n",
       "      <th>bmw</th>\n",
       "      <th>buick</th>\n",
       "      <th>chevrolet</th>\n",
       "      <th>dodge</th>\n",
       "      <th>honda</th>\n",
       "      <th>isuzu</th>\n",
       "      <th>jaguar</th>\n",
       "      <th>...</th>\n",
       "      <th>nissan</th>\n",
       "      <th>peugeot</th>\n",
       "      <th>plymouth</th>\n",
       "      <th>porsche</th>\n",
       "      <th>renault</th>\n",
       "      <th>saab</th>\n",
       "      <th>subaru</th>\n",
       "      <th>toyota</th>\n",
       "      <th>volkswagen</th>\n",
       "      <th>volvo</th>\n",
       "    </tr>\n",
       "  </thead>\n",
       "  <tbody>\n",
       "    <tr>\n",
       "      <td>191</td>\n",
       "      <td>0</td>\n",
       "      <td>0</td>\n",
       "      <td>0</td>\n",
       "      <td>0</td>\n",
       "      <td>0</td>\n",
       "      <td>0</td>\n",
       "      <td>0</td>\n",
       "      <td>0</td>\n",
       "      <td>0</td>\n",
       "      <td>0</td>\n",
       "      <td>...</td>\n",
       "      <td>0</td>\n",
       "      <td>0</td>\n",
       "      <td>0</td>\n",
       "      <td>0</td>\n",
       "      <td>0</td>\n",
       "      <td>0</td>\n",
       "      <td>0</td>\n",
       "      <td>0</td>\n",
       "      <td>1</td>\n",
       "      <td>0</td>\n",
       "    </tr>\n",
       "    <tr>\n",
       "      <td>192</td>\n",
       "      <td>0</td>\n",
       "      <td>0</td>\n",
       "      <td>0</td>\n",
       "      <td>0</td>\n",
       "      <td>0</td>\n",
       "      <td>0</td>\n",
       "      <td>0</td>\n",
       "      <td>0</td>\n",
       "      <td>0</td>\n",
       "      <td>0</td>\n",
       "      <td>...</td>\n",
       "      <td>0</td>\n",
       "      <td>0</td>\n",
       "      <td>0</td>\n",
       "      <td>0</td>\n",
       "      <td>0</td>\n",
       "      <td>0</td>\n",
       "      <td>0</td>\n",
       "      <td>0</td>\n",
       "      <td>1</td>\n",
       "      <td>0</td>\n",
       "    </tr>\n",
       "    <tr>\n",
       "      <td>140</td>\n",
       "      <td>0</td>\n",
       "      <td>0</td>\n",
       "      <td>0</td>\n",
       "      <td>0</td>\n",
       "      <td>0</td>\n",
       "      <td>0</td>\n",
       "      <td>0</td>\n",
       "      <td>0</td>\n",
       "      <td>0</td>\n",
       "      <td>0</td>\n",
       "      <td>...</td>\n",
       "      <td>0</td>\n",
       "      <td>0</td>\n",
       "      <td>0</td>\n",
       "      <td>0</td>\n",
       "      <td>0</td>\n",
       "      <td>0</td>\n",
       "      <td>1</td>\n",
       "      <td>0</td>\n",
       "      <td>0</td>\n",
       "      <td>0</td>\n",
       "    </tr>\n",
       "    <tr>\n",
       "      <td>39</td>\n",
       "      <td>0</td>\n",
       "      <td>0</td>\n",
       "      <td>0</td>\n",
       "      <td>0</td>\n",
       "      <td>0</td>\n",
       "      <td>0</td>\n",
       "      <td>0</td>\n",
       "      <td>1</td>\n",
       "      <td>0</td>\n",
       "      <td>0</td>\n",
       "      <td>...</td>\n",
       "      <td>0</td>\n",
       "      <td>0</td>\n",
       "      <td>0</td>\n",
       "      <td>0</td>\n",
       "      <td>0</td>\n",
       "      <td>0</td>\n",
       "      <td>0</td>\n",
       "      <td>0</td>\n",
       "      <td>0</td>\n",
       "      <td>0</td>\n",
       "    </tr>\n",
       "    <tr>\n",
       "      <td>26</td>\n",
       "      <td>0</td>\n",
       "      <td>0</td>\n",
       "      <td>0</td>\n",
       "      <td>0</td>\n",
       "      <td>0</td>\n",
       "      <td>0</td>\n",
       "      <td>1</td>\n",
       "      <td>0</td>\n",
       "      <td>0</td>\n",
       "      <td>0</td>\n",
       "      <td>...</td>\n",
       "      <td>0</td>\n",
       "      <td>0</td>\n",
       "      <td>0</td>\n",
       "      <td>0</td>\n",
       "      <td>0</td>\n",
       "      <td>0</td>\n",
       "      <td>0</td>\n",
       "      <td>0</td>\n",
       "      <td>0</td>\n",
       "      <td>0</td>\n",
       "    </tr>\n",
       "    <tr>\n",
       "      <td>8</td>\n",
       "      <td>0</td>\n",
       "      <td>0</td>\n",
       "      <td>1</td>\n",
       "      <td>0</td>\n",
       "      <td>0</td>\n",
       "      <td>0</td>\n",
       "      <td>0</td>\n",
       "      <td>0</td>\n",
       "      <td>0</td>\n",
       "      <td>0</td>\n",
       "      <td>...</td>\n",
       "      <td>0</td>\n",
       "      <td>0</td>\n",
       "      <td>0</td>\n",
       "      <td>0</td>\n",
       "      <td>0</td>\n",
       "      <td>0</td>\n",
       "      <td>0</td>\n",
       "      <td>0</td>\n",
       "      <td>0</td>\n",
       "      <td>0</td>\n",
       "    </tr>\n",
       "    <tr>\n",
       "      <td>116</td>\n",
       "      <td>0</td>\n",
       "      <td>0</td>\n",
       "      <td>0</td>\n",
       "      <td>0</td>\n",
       "      <td>0</td>\n",
       "      <td>0</td>\n",
       "      <td>0</td>\n",
       "      <td>0</td>\n",
       "      <td>0</td>\n",
       "      <td>0</td>\n",
       "      <td>...</td>\n",
       "      <td>0</td>\n",
       "      <td>1</td>\n",
       "      <td>0</td>\n",
       "      <td>0</td>\n",
       "      <td>0</td>\n",
       "      <td>0</td>\n",
       "      <td>0</td>\n",
       "      <td>0</td>\n",
       "      <td>0</td>\n",
       "      <td>0</td>\n",
       "    </tr>\n",
       "    <tr>\n",
       "      <td>7</td>\n",
       "      <td>0</td>\n",
       "      <td>0</td>\n",
       "      <td>1</td>\n",
       "      <td>0</td>\n",
       "      <td>0</td>\n",
       "      <td>0</td>\n",
       "      <td>0</td>\n",
       "      <td>0</td>\n",
       "      <td>0</td>\n",
       "      <td>0</td>\n",
       "      <td>...</td>\n",
       "      <td>0</td>\n",
       "      <td>0</td>\n",
       "      <td>0</td>\n",
       "      <td>0</td>\n",
       "      <td>0</td>\n",
       "      <td>0</td>\n",
       "      <td>0</td>\n",
       "      <td>0</td>\n",
       "      <td>0</td>\n",
       "      <td>0</td>\n",
       "    </tr>\n",
       "    <tr>\n",
       "      <td>73</td>\n",
       "      <td>0</td>\n",
       "      <td>0</td>\n",
       "      <td>0</td>\n",
       "      <td>0</td>\n",
       "      <td>1</td>\n",
       "      <td>0</td>\n",
       "      <td>0</td>\n",
       "      <td>0</td>\n",
       "      <td>0</td>\n",
       "      <td>0</td>\n",
       "      <td>...</td>\n",
       "      <td>0</td>\n",
       "      <td>0</td>\n",
       "      <td>0</td>\n",
       "      <td>0</td>\n",
       "      <td>0</td>\n",
       "      <td>0</td>\n",
       "      <td>0</td>\n",
       "      <td>0</td>\n",
       "      <td>0</td>\n",
       "      <td>0</td>\n",
       "    </tr>\n",
       "    <tr>\n",
       "      <td>69</td>\n",
       "      <td>0</td>\n",
       "      <td>0</td>\n",
       "      <td>0</td>\n",
       "      <td>0</td>\n",
       "      <td>1</td>\n",
       "      <td>0</td>\n",
       "      <td>0</td>\n",
       "      <td>0</td>\n",
       "      <td>0</td>\n",
       "      <td>0</td>\n",
       "      <td>...</td>\n",
       "      <td>0</td>\n",
       "      <td>0</td>\n",
       "      <td>0</td>\n",
       "      <td>0</td>\n",
       "      <td>0</td>\n",
       "      <td>0</td>\n",
       "      <td>0</td>\n",
       "      <td>0</td>\n",
       "      <td>0</td>\n",
       "      <td>0</td>\n",
       "    </tr>\n",
       "  </tbody>\n",
       "</table>\n",
       "<p>10 rows × 23 columns</p>\n",
       "</div>"
      ],
      "text/plain": [
       "     Nissan  alfa-romero  audi  bmw  buick  chevrolet  dodge  honda  isuzu  \\\n",
       "191       0            0     0    0      0          0      0      0      0   \n",
       "192       0            0     0    0      0          0      0      0      0   \n",
       "140       0            0     0    0      0          0      0      0      0   \n",
       "39        0            0     0    0      0          0      0      1      0   \n",
       "26        0            0     0    0      0          0      1      0      0   \n",
       "8         0            0     1    0      0          0      0      0      0   \n",
       "116       0            0     0    0      0          0      0      0      0   \n",
       "7         0            0     1    0      0          0      0      0      0   \n",
       "73        0            0     0    0      1          0      0      0      0   \n",
       "69        0            0     0    0      1          0      0      0      0   \n",
       "\n",
       "     jaguar  ...  nissan  peugeot  plymouth  porsche  renault  saab  subaru  \\\n",
       "191       0  ...       0        0         0        0        0     0       0   \n",
       "192       0  ...       0        0         0        0        0     0       0   \n",
       "140       0  ...       0        0         0        0        0     0       1   \n",
       "39        0  ...       0        0         0        0        0     0       0   \n",
       "26        0  ...       0        0         0        0        0     0       0   \n",
       "8         0  ...       0        0         0        0        0     0       0   \n",
       "116       0  ...       0        1         0        0        0     0       0   \n",
       "7         0  ...       0        0         0        0        0     0       0   \n",
       "73        0  ...       0        0         0        0        0     0       0   \n",
       "69        0  ...       0        0         0        0        0     0       0   \n",
       "\n",
       "     toyota  volkswagen  volvo  \n",
       "191       0           1      0  \n",
       "192       0           1      0  \n",
       "140       0           0      0  \n",
       "39        0           0      0  \n",
       "26        0           0      0  \n",
       "8         0           0      0  \n",
       "116       0           0      0  \n",
       "7         0           0      0  \n",
       "73        0           0      0  \n",
       "69        0           0      0  \n",
       "\n",
       "[10 rows x 23 columns]"
      ]
     },
     "execution_count": 39,
     "metadata": {},
     "output_type": "execute_result"
    }
   ],
   "source": [
    "df_make_encoded.sample(10)"
   ]
  },
  {
   "cell_type": "code",
   "execution_count": 40,
   "metadata": {},
   "outputs": [
    {
     "data": {
      "text/plain": [
       "['encoded_data__x0_4wd',\n",
       " 'encoded_data__x0_fwd',\n",
       " 'encoded_data__x0_rwd',\n",
       " 'encoded_data__x1_front',\n",
       " 'encoded_data__x1_rear']"
      ]
     },
     "execution_count": 40,
     "metadata": {},
     "output_type": "execute_result"
    }
   ],
   "source": [
    "from sklearn.compose import ColumnTransformer\n",
    "from sklearn.preprocessing import OneHotEncoder\n",
    "ctransformer = ColumnTransformer([(\"encoded_data\", OneHotEncoder(sparse=False), [4,5]),])\n",
    "ct_encoded_results = ctransformer.fit_transform(df_car_mod)\n",
    "# Get Feature Names of Encoded columns\n",
    "ctransformer.get_feature_names()"
   ]
  },
  {
   "cell_type": "code",
   "execution_count": 41,
   "metadata": {},
   "outputs": [],
   "source": [
    "df_ct_encoded_data = pd.DataFrame(ct_encoded_results, columns=ctransformer.get_feature_names())"
   ]
  },
  {
   "cell_type": "code",
   "execution_count": 42,
   "metadata": {},
   "outputs": [
    {
     "data": {
      "text/html": [
       "<div>\n",
       "<style scoped>\n",
       "    .dataframe tbody tr th:only-of-type {\n",
       "        vertical-align: middle;\n",
       "    }\n",
       "\n",
       "    .dataframe tbody tr th {\n",
       "        vertical-align: top;\n",
       "    }\n",
       "\n",
       "    .dataframe thead th {\n",
       "        text-align: right;\n",
       "    }\n",
       "</style>\n",
       "<table border=\"1\" class=\"dataframe\">\n",
       "  <thead>\n",
       "    <tr style=\"text-align: right;\">\n",
       "      <th></th>\n",
       "      <th>encoded_data__x0_4wd</th>\n",
       "      <th>encoded_data__x0_fwd</th>\n",
       "      <th>encoded_data__x0_rwd</th>\n",
       "      <th>encoded_data__x1_front</th>\n",
       "      <th>encoded_data__x1_rear</th>\n",
       "    </tr>\n",
       "  </thead>\n",
       "  <tbody>\n",
       "    <tr>\n",
       "      <td>0</td>\n",
       "      <td>0.0</td>\n",
       "      <td>0.0</td>\n",
       "      <td>1.0</td>\n",
       "      <td>1.0</td>\n",
       "      <td>0.0</td>\n",
       "    </tr>\n",
       "    <tr>\n",
       "      <td>1</td>\n",
       "      <td>0.0</td>\n",
       "      <td>0.0</td>\n",
       "      <td>1.0</td>\n",
       "      <td>1.0</td>\n",
       "      <td>0.0</td>\n",
       "    </tr>\n",
       "    <tr>\n",
       "      <td>2</td>\n",
       "      <td>0.0</td>\n",
       "      <td>0.0</td>\n",
       "      <td>1.0</td>\n",
       "      <td>1.0</td>\n",
       "      <td>0.0</td>\n",
       "    </tr>\n",
       "    <tr>\n",
       "      <td>3</td>\n",
       "      <td>0.0</td>\n",
       "      <td>1.0</td>\n",
       "      <td>0.0</td>\n",
       "      <td>1.0</td>\n",
       "      <td>0.0</td>\n",
       "    </tr>\n",
       "    <tr>\n",
       "      <td>4</td>\n",
       "      <td>1.0</td>\n",
       "      <td>0.0</td>\n",
       "      <td>0.0</td>\n",
       "      <td>1.0</td>\n",
       "      <td>0.0</td>\n",
       "    </tr>\n",
       "  </tbody>\n",
       "</table>\n",
       "</div>"
      ],
      "text/plain": [
       "   encoded_data__x0_4wd  encoded_data__x0_fwd  encoded_data__x0_rwd  \\\n",
       "0                   0.0                   0.0                   1.0   \n",
       "1                   0.0                   0.0                   1.0   \n",
       "2                   0.0                   0.0                   1.0   \n",
       "3                   0.0                   1.0                   0.0   \n",
       "4                   1.0                   0.0                   0.0   \n",
       "\n",
       "   encoded_data__x1_front  encoded_data__x1_rear  \n",
       "0                     1.0                    0.0  \n",
       "1                     1.0                    0.0  \n",
       "2                     1.0                    0.0  \n",
       "3                     1.0                    0.0  \n",
       "4                     1.0                    0.0  "
      ]
     },
     "execution_count": 42,
     "metadata": {},
     "output_type": "execute_result"
    }
   ],
   "source": [
    "df_ct_encoded_data.head()"
   ]
  },
  {
   "cell_type": "code",
   "execution_count": 43,
   "metadata": {},
   "outputs": [
    {
     "data": {
      "text/html": [
       "<div>\n",
       "<style scoped>\n",
       "    .dataframe tbody tr th:only-of-type {\n",
       "        vertical-align: middle;\n",
       "    }\n",
       "\n",
       "    .dataframe tbody tr th {\n",
       "        vertical-align: top;\n",
       "    }\n",
       "\n",
       "    .dataframe thead th {\n",
       "        text-align: right;\n",
       "    }\n",
       "</style>\n",
       "<table border=\"1\" class=\"dataframe\">\n",
       "  <thead>\n",
       "    <tr style=\"text-align: right;\">\n",
       "      <th></th>\n",
       "      <th>encoded_data__x0_fwd</th>\n",
       "      <th>encoded_data__x0_rwd</th>\n",
       "      <th>encoded_data__x1_rear</th>\n",
       "    </tr>\n",
       "  </thead>\n",
       "  <tbody>\n",
       "    <tr>\n",
       "      <td>0</td>\n",
       "      <td>0.0</td>\n",
       "      <td>1.0</td>\n",
       "      <td>0.0</td>\n",
       "    </tr>\n",
       "    <tr>\n",
       "      <td>1</td>\n",
       "      <td>0.0</td>\n",
       "      <td>1.0</td>\n",
       "      <td>0.0</td>\n",
       "    </tr>\n",
       "    <tr>\n",
       "      <td>2</td>\n",
       "      <td>0.0</td>\n",
       "      <td>1.0</td>\n",
       "      <td>0.0</td>\n",
       "    </tr>\n",
       "    <tr>\n",
       "      <td>3</td>\n",
       "      <td>1.0</td>\n",
       "      <td>0.0</td>\n",
       "      <td>0.0</td>\n",
       "    </tr>\n",
       "    <tr>\n",
       "      <td>4</td>\n",
       "      <td>0.0</td>\n",
       "      <td>0.0</td>\n",
       "      <td>0.0</td>\n",
       "    </tr>\n",
       "  </tbody>\n",
       "</table>\n",
       "</div>"
      ],
      "text/plain": [
       "   encoded_data__x0_fwd  encoded_data__x0_rwd  encoded_data__x1_rear\n",
       "0                   0.0                   1.0                    0.0\n",
       "1                   0.0                   1.0                    0.0\n",
       "2                   0.0                   1.0                    0.0\n",
       "3                   1.0                   0.0                    0.0\n",
       "4                   0.0                   0.0                    0.0"
      ]
     },
     "execution_count": 43,
     "metadata": {},
     "output_type": "execute_result"
    }
   ],
   "source": [
    "# Dropping dummy variables to avoid multicollinearity\n",
    "df_ct_encoded_data.drop(['encoded_data__x0_4wd', 'encoded_data__x1_front'], inplace=True, axis=1)\n",
    "# Viewing few rows of data after dropping dummy varibles\n",
    "df_ct_encoded_data.head()"
   ]
  },
  {
   "cell_type": "code",
   "execution_count": 44,
   "metadata": {},
   "outputs": [
    {
     "data": {
      "text/html": [
       "<div>\n",
       "<style scoped>\n",
       "    .dataframe tbody tr th:only-of-type {\n",
       "        vertical-align: middle;\n",
       "    }\n",
       "\n",
       "    .dataframe tbody tr th {\n",
       "        vertical-align: top;\n",
       "    }\n",
       "\n",
       "    .dataframe thead th {\n",
       "        text-align: right;\n",
       "    }\n",
       "</style>\n",
       "<table border=\"1\" class=\"dataframe\">\n",
       "  <thead>\n",
       "    <tr style=\"text-align: right;\">\n",
       "      <th></th>\n",
       "      <th>aspiration</th>\n",
       "      <th>doornumber</th>\n",
       "      <th>carbody</th>\n",
       "      <th>enginetype</th>\n",
       "      <th>cylindernumber</th>\n",
       "      <th>fuelsystem</th>\n",
       "      <th>fueltype_gas</th>\n",
       "      <th>CarName_encoded</th>\n",
       "      <th>encoded_data__x0_fwd</th>\n",
       "      <th>encoded_data__x0_rwd</th>\n",
       "      <th>encoded_data__x1_rear</th>\n",
       "    </tr>\n",
       "  </thead>\n",
       "  <tbody>\n",
       "    <tr>\n",
       "      <td>0</td>\n",
       "      <td>std</td>\n",
       "      <td>2</td>\n",
       "      <td>convertible</td>\n",
       "      <td>dohc</td>\n",
       "      <td>4</td>\n",
       "      <td>mpfi</td>\n",
       "      <td>1</td>\n",
       "      <td>1</td>\n",
       "      <td>0.0</td>\n",
       "      <td>1.0</td>\n",
       "      <td>0.0</td>\n",
       "    </tr>\n",
       "    <tr>\n",
       "      <td>1</td>\n",
       "      <td>std</td>\n",
       "      <td>2</td>\n",
       "      <td>convertible</td>\n",
       "      <td>dohc</td>\n",
       "      <td>4</td>\n",
       "      <td>mpfi</td>\n",
       "      <td>1</td>\n",
       "      <td>1</td>\n",
       "      <td>0.0</td>\n",
       "      <td>1.0</td>\n",
       "      <td>0.0</td>\n",
       "    </tr>\n",
       "    <tr>\n",
       "      <td>2</td>\n",
       "      <td>std</td>\n",
       "      <td>2</td>\n",
       "      <td>hatchback</td>\n",
       "      <td>ohcv</td>\n",
       "      <td>6</td>\n",
       "      <td>mpfi</td>\n",
       "      <td>1</td>\n",
       "      <td>1</td>\n",
       "      <td>0.0</td>\n",
       "      <td>1.0</td>\n",
       "      <td>0.0</td>\n",
       "    </tr>\n",
       "    <tr>\n",
       "      <td>3</td>\n",
       "      <td>std</td>\n",
       "      <td>4</td>\n",
       "      <td>sedan</td>\n",
       "      <td>ohc</td>\n",
       "      <td>4</td>\n",
       "      <td>mpfi</td>\n",
       "      <td>1</td>\n",
       "      <td>2</td>\n",
       "      <td>1.0</td>\n",
       "      <td>0.0</td>\n",
       "      <td>0.0</td>\n",
       "    </tr>\n",
       "    <tr>\n",
       "      <td>4</td>\n",
       "      <td>std</td>\n",
       "      <td>4</td>\n",
       "      <td>sedan</td>\n",
       "      <td>ohc</td>\n",
       "      <td>5</td>\n",
       "      <td>mpfi</td>\n",
       "      <td>1</td>\n",
       "      <td>2</td>\n",
       "      <td>0.0</td>\n",
       "      <td>0.0</td>\n",
       "      <td>0.0</td>\n",
       "    </tr>\n",
       "  </tbody>\n",
       "</table>\n",
       "</div>"
      ],
      "text/plain": [
       "  aspiration  doornumber      carbody enginetype  cylindernumber fuelsystem  \\\n",
       "0        std           2  convertible       dohc               4       mpfi   \n",
       "1        std           2  convertible       dohc               4       mpfi   \n",
       "2        std           2    hatchback       ohcv               6       mpfi   \n",
       "3        std           4        sedan        ohc               4       mpfi   \n",
       "4        std           4        sedan        ohc               5       mpfi   \n",
       "\n",
       "   fueltype_gas  CarName_encoded  encoded_data__x0_fwd  encoded_data__x0_rwd  \\\n",
       "0             1                1                   0.0                   1.0   \n",
       "1             1                1                   0.0                   1.0   \n",
       "2             1                1                   0.0                   1.0   \n",
       "3             1                2                   1.0                   0.0   \n",
       "4             1                2                   0.0                   0.0   \n",
       "\n",
       "   encoded_data__x1_rear  \n",
       "0                    0.0  \n",
       "1                    0.0  \n",
       "2                    0.0  \n",
       "3                    0.0  \n",
       "4                    0.0  "
      ]
     },
     "execution_count": 44,
     "metadata": {},
     "output_type": "execute_result"
    }
   ],
   "source": [
    "df = pd.concat([df_car_mod.reset_index(drop=True), df_ct_encoded_data.reset_index(drop=True)], axis=1)\n",
    "\n",
    "\n",
    "df.drop(['drivewheel', 'enginelocation', 'CarName'], inplace=True, axis=1)\n",
    "\n",
    "df.head()\n",
    "\n"
   ]
  },
  {
   "cell_type": "code",
   "execution_count": 45,
   "metadata": {},
   "outputs": [
    {
     "data": {
      "text/plain": [
       "array(['std', 'turbo'], dtype=object)"
      ]
     },
     "execution_count": 45,
     "metadata": {},
     "output_type": "execute_result"
    }
   ],
   "source": [
    "from sklearn.preprocessing import LabelEncoder\n",
    "lenc = LabelEncoder()\n",
    "df['aspiration'] = lenc.fit_transform(df['aspiration'])\n",
    "# Classes in the encoded data\n",
    "lenc.classes_"
   ]
  },
  {
   "cell_type": "code",
   "execution_count": 46,
   "metadata": {},
   "outputs": [
    {
     "name": "stderr",
     "output_type": "stream",
     "text": [
      "/Applications/anaconda3/lib/python3.7/site-packages/sklearn/preprocessing/_encoders.py:415: FutureWarning: The handling of integer data will change in version 0.22. Currently, the categories are determined based on the range [0, max(values)], while in the future they will be determined based on the unique values.\n",
      "If you want the future behaviour and silence this warning, you can specify \"categories='auto'\".\n",
      "In case you used a LabelEncoder before this OneHotEncoder to convert the categories to integers, then you can now use the OneHotEncoder directly.\n",
      "  warnings.warn(msg, FutureWarning)\n",
      "/Applications/anaconda3/lib/python3.7/site-packages/sklearn/preprocessing/_encoders.py:451: DeprecationWarning: The 'categorical_features' keyword is deprecated in version 0.20 and will be removed in 0.22. You can use the ColumnTransformer instead.\n",
      "  \"use the ColumnTransformer instead.\", DeprecationWarning)\n"
     ]
    },
    {
     "data": {
      "text/html": [
       "<div>\n",
       "<style scoped>\n",
       "    .dataframe tbody tr th:only-of-type {\n",
       "        vertical-align: middle;\n",
       "    }\n",
       "\n",
       "    .dataframe tbody tr th {\n",
       "        vertical-align: top;\n",
       "    }\n",
       "\n",
       "    .dataframe thead th {\n",
       "        text-align: right;\n",
       "    }\n",
       "</style>\n",
       "<table border=\"1\" class=\"dataframe\">\n",
       "  <thead>\n",
       "    <tr style=\"text-align: right;\">\n",
       "      <th></th>\n",
       "      <th>std</th>\n",
       "      <th>turbo</th>\n",
       "    </tr>\n",
       "  </thead>\n",
       "  <tbody>\n",
       "    <tr>\n",
       "      <td>0</td>\n",
       "      <td>1.0</td>\n",
       "      <td>0.0</td>\n",
       "    </tr>\n",
       "    <tr>\n",
       "      <td>1</td>\n",
       "      <td>1.0</td>\n",
       "      <td>0.0</td>\n",
       "    </tr>\n",
       "    <tr>\n",
       "      <td>2</td>\n",
       "      <td>1.0</td>\n",
       "      <td>0.0</td>\n",
       "    </tr>\n",
       "    <tr>\n",
       "      <td>3</td>\n",
       "      <td>1.0</td>\n",
       "      <td>0.0</td>\n",
       "    </tr>\n",
       "    <tr>\n",
       "      <td>4</td>\n",
       "      <td>1.0</td>\n",
       "      <td>0.0</td>\n",
       "    </tr>\n",
       "  </tbody>\n",
       "</table>\n",
       "</div>"
      ],
      "text/plain": [
       "   std  turbo\n",
       "0  1.0    0.0\n",
       "1  1.0    0.0\n",
       "2  1.0    0.0\n",
       "3  1.0    0.0\n",
       "4  1.0    0.0"
      ]
     },
     "execution_count": 46,
     "metadata": {},
     "output_type": "execute_result"
    }
   ],
   "source": [
    "# Encoding using OneHotEncoder\n",
    "from sklearn.preprocessing import OneHotEncoder\n",
    "ohe = OneHotEncoder(categorical_features=[0], sparse=False)\n",
    "ohe_results = ohe.fit_transform(df[['aspiration']])\n",
    "# Converting OneHotEncoded results into an dataframe\n",
    "df_ohe_results = pd.DataFrame(ohe_results, columns=lenc.classes_)\n",
    "# Viewing first few rows of data\n",
    "df_ohe_results.head()"
   ]
  },
  {
   "cell_type": "code",
   "execution_count": 47,
   "metadata": {},
   "outputs": [
    {
     "data": {
      "text/plain": [
       "['carbody', 'enginetype', 'fuelsystem']"
      ]
     },
     "execution_count": 47,
     "metadata": {},
     "output_type": "execute_result"
    }
   ],
   "source": [
    "categorical_cols = df.columns[df.dtypes==object].tolist()\n",
    "categorical_cols"
   ]
  },
  {
   "cell_type": "code",
   "execution_count": 48,
   "metadata": {},
   "outputs": [
    {
     "data": {
      "text/html": [
       "<div>\n",
       "<style scoped>\n",
       "    .dataframe tbody tr th:only-of-type {\n",
       "        vertical-align: middle;\n",
       "    }\n",
       "\n",
       "    .dataframe tbody tr th {\n",
       "        vertical-align: top;\n",
       "    }\n",
       "\n",
       "    .dataframe thead th {\n",
       "        text-align: right;\n",
       "    }\n",
       "</style>\n",
       "<table border=\"1\" class=\"dataframe\">\n",
       "  <thead>\n",
       "    <tr style=\"text-align: right;\">\n",
       "      <th></th>\n",
       "      <th>carbody</th>\n",
       "      <th>enginetype</th>\n",
       "      <th>fuelsystem</th>\n",
       "    </tr>\n",
       "  </thead>\n",
       "  <tbody>\n",
       "    <tr>\n",
       "      <td>0</td>\n",
       "      <td>0</td>\n",
       "      <td>0</td>\n",
       "      <td>5</td>\n",
       "    </tr>\n",
       "    <tr>\n",
       "      <td>1</td>\n",
       "      <td>0</td>\n",
       "      <td>0</td>\n",
       "      <td>5</td>\n",
       "    </tr>\n",
       "    <tr>\n",
       "      <td>2</td>\n",
       "      <td>2</td>\n",
       "      <td>5</td>\n",
       "      <td>5</td>\n",
       "    </tr>\n",
       "    <tr>\n",
       "      <td>3</td>\n",
       "      <td>3</td>\n",
       "      <td>3</td>\n",
       "      <td>5</td>\n",
       "    </tr>\n",
       "    <tr>\n",
       "      <td>4</td>\n",
       "      <td>3</td>\n",
       "      <td>3</td>\n",
       "      <td>5</td>\n",
       "    </tr>\n",
       "    <tr>\n",
       "      <td>5</td>\n",
       "      <td>3</td>\n",
       "      <td>3</td>\n",
       "      <td>5</td>\n",
       "    </tr>\n",
       "    <tr>\n",
       "      <td>6</td>\n",
       "      <td>3</td>\n",
       "      <td>3</td>\n",
       "      <td>5</td>\n",
       "    </tr>\n",
       "    <tr>\n",
       "      <td>7</td>\n",
       "      <td>4</td>\n",
       "      <td>3</td>\n",
       "      <td>5</td>\n",
       "    </tr>\n",
       "    <tr>\n",
       "      <td>8</td>\n",
       "      <td>3</td>\n",
       "      <td>3</td>\n",
       "      <td>5</td>\n",
       "    </tr>\n",
       "    <tr>\n",
       "      <td>9</td>\n",
       "      <td>2</td>\n",
       "      <td>3</td>\n",
       "      <td>5</td>\n",
       "    </tr>\n",
       "  </tbody>\n",
       "</table>\n",
       "</div>"
      ],
      "text/plain": [
       "   carbody  enginetype  fuelsystem\n",
       "0        0           0           5\n",
       "1        0           0           5\n",
       "2        2           5           5\n",
       "3        3           3           5\n",
       "4        3           3           5\n",
       "5        3           3           5\n",
       "6        3           3           5\n",
       "7        4           3           5\n",
       "8        3           3           5\n",
       "9        2           3           5"
      ]
     },
     "execution_count": 48,
     "metadata": {},
     "output_type": "execute_result"
    }
   ],
   "source": [
    "from sklearn.preprocessing import LabelEncoder\n",
    "le = LabelEncoder()\n",
    "df[categorical_cols] = df[categorical_cols].apply(lambda col: le.fit_transform(col))\n",
    "# Viewing first few rows of data\n",
    "df[categorical_cols].head(10)"
   ]
  },
  {
   "cell_type": "code",
   "execution_count": 49,
   "metadata": {},
   "outputs": [
    {
     "name": "stderr",
     "output_type": "stream",
     "text": [
      "/Applications/anaconda3/lib/python3.7/site-packages/sklearn/preprocessing/_encoders.py:415: FutureWarning: The handling of integer data will change in version 0.22. Currently, the categories are determined based on the range [0, max(values)], while in the future they will be determined based on the unique values.\n",
      "If you want the future behaviour and silence this warning, you can specify \"categories='auto'\".\n",
      "In case you used a LabelEncoder before this OneHotEncoder to convert the categories to integers, then you can now use the OneHotEncoder directly.\n",
      "  warnings.warn(msg, FutureWarning)\n"
     ]
    },
    {
     "data": {
      "text/plain": [
       "array([[1., 0., 0., ..., 1., 0., 0.],\n",
       "       [1., 0., 0., ..., 1., 0., 0.],\n",
       "       [0., 0., 1., ..., 1., 0., 0.],\n",
       "       ...,\n",
       "       [0., 0., 0., ..., 1., 0., 0.],\n",
       "       [0., 0., 0., ..., 0., 0., 0.],\n",
       "       [0., 0., 0., ..., 1., 0., 0.]])"
      ]
     },
     "execution_count": 49,
     "metadata": {},
     "output_type": "execute_result"
    }
   ],
   "source": [
    "from sklearn.preprocessing import OneHotEncoder\n",
    "onehotencoder = OneHotEncoder(sparse=False)\n",
    "onehotencoder.fit_transform(df[categorical_cols])"
   ]
  },
  {
   "cell_type": "code",
   "execution_count": 50,
   "metadata": {},
   "outputs": [
    {
     "data": {
      "text/html": [
       "<div>\n",
       "<style scoped>\n",
       "    .dataframe tbody tr th:only-of-type {\n",
       "        vertical-align: middle;\n",
       "    }\n",
       "\n",
       "    .dataframe tbody tr th {\n",
       "        vertical-align: top;\n",
       "    }\n",
       "\n",
       "    .dataframe thead th {\n",
       "        text-align: right;\n",
       "    }\n",
       "</style>\n",
       "<table border=\"1\" class=\"dataframe\">\n",
       "  <thead>\n",
       "    <tr style=\"text-align: right;\">\n",
       "      <th></th>\n",
       "      <th>aspiration</th>\n",
       "      <th>doornumber</th>\n",
       "      <th>carbody</th>\n",
       "      <th>enginetype</th>\n",
       "      <th>cylindernumber</th>\n",
       "      <th>fuelsystem</th>\n",
       "      <th>fueltype_gas</th>\n",
       "      <th>CarName_encoded</th>\n",
       "      <th>encoded_data__x0_fwd</th>\n",
       "      <th>encoded_data__x0_rwd</th>\n",
       "      <th>encoded_data__x1_rear</th>\n",
       "    </tr>\n",
       "  </thead>\n",
       "  <tbody>\n",
       "    <tr>\n",
       "      <td>0</td>\n",
       "      <td>0</td>\n",
       "      <td>2</td>\n",
       "      <td>0</td>\n",
       "      <td>0</td>\n",
       "      <td>4</td>\n",
       "      <td>5</td>\n",
       "      <td>1</td>\n",
       "      <td>1</td>\n",
       "      <td>0.0</td>\n",
       "      <td>1.0</td>\n",
       "      <td>0.0</td>\n",
       "    </tr>\n",
       "    <tr>\n",
       "      <td>1</td>\n",
       "      <td>0</td>\n",
       "      <td>2</td>\n",
       "      <td>0</td>\n",
       "      <td>0</td>\n",
       "      <td>4</td>\n",
       "      <td>5</td>\n",
       "      <td>1</td>\n",
       "      <td>1</td>\n",
       "      <td>0.0</td>\n",
       "      <td>1.0</td>\n",
       "      <td>0.0</td>\n",
       "    </tr>\n",
       "    <tr>\n",
       "      <td>2</td>\n",
       "      <td>0</td>\n",
       "      <td>2</td>\n",
       "      <td>2</td>\n",
       "      <td>5</td>\n",
       "      <td>6</td>\n",
       "      <td>5</td>\n",
       "      <td>1</td>\n",
       "      <td>1</td>\n",
       "      <td>0.0</td>\n",
       "      <td>1.0</td>\n",
       "      <td>0.0</td>\n",
       "    </tr>\n",
       "    <tr>\n",
       "      <td>3</td>\n",
       "      <td>0</td>\n",
       "      <td>4</td>\n",
       "      <td>3</td>\n",
       "      <td>3</td>\n",
       "      <td>4</td>\n",
       "      <td>5</td>\n",
       "      <td>1</td>\n",
       "      <td>2</td>\n",
       "      <td>1.0</td>\n",
       "      <td>0.0</td>\n",
       "      <td>0.0</td>\n",
       "    </tr>\n",
       "    <tr>\n",
       "      <td>4</td>\n",
       "      <td>0</td>\n",
       "      <td>4</td>\n",
       "      <td>3</td>\n",
       "      <td>3</td>\n",
       "      <td>5</td>\n",
       "      <td>5</td>\n",
       "      <td>1</td>\n",
       "      <td>2</td>\n",
       "      <td>0.0</td>\n",
       "      <td>0.0</td>\n",
       "      <td>0.0</td>\n",
       "    </tr>\n",
       "  </tbody>\n",
       "</table>\n",
       "</div>"
      ],
      "text/plain": [
       "   aspiration  doornumber  carbody  enginetype  cylindernumber  fuelsystem  \\\n",
       "0           0           2        0           0               4           5   \n",
       "1           0           2        0           0               4           5   \n",
       "2           0           2        2           5               6           5   \n",
       "3           0           4        3           3               4           5   \n",
       "4           0           4        3           3               5           5   \n",
       "\n",
       "   fueltype_gas  CarName_encoded  encoded_data__x0_fwd  encoded_data__x0_rwd  \\\n",
       "0             1                1                   0.0                   1.0   \n",
       "1             1                1                   0.0                   1.0   \n",
       "2             1                1                   0.0                   1.0   \n",
       "3             1                2                   1.0                   0.0   \n",
       "4             1                2                   0.0                   0.0   \n",
       "\n",
       "   encoded_data__x1_rear  \n",
       "0                    0.0  \n",
       "1                    0.0  \n",
       "2                    0.0  \n",
       "3                    0.0  \n",
       "4                    0.0  "
      ]
     },
     "execution_count": 50,
     "metadata": {},
     "output_type": "execute_result"
    }
   ],
   "source": [
    "df.head()"
   ]
  },
  {
   "cell_type": "code",
   "execution_count": 51,
   "metadata": {},
   "outputs": [
    {
     "data": {
      "text/html": [
       "<div>\n",
       "<style scoped>\n",
       "    .dataframe tbody tr th:only-of-type {\n",
       "        vertical-align: middle;\n",
       "    }\n",
       "\n",
       "    .dataframe tbody tr th {\n",
       "        vertical-align: top;\n",
       "    }\n",
       "\n",
       "    .dataframe thead th {\n",
       "        text-align: right;\n",
       "    }\n",
       "</style>\n",
       "<table border=\"1\" class=\"dataframe\">\n",
       "  <thead>\n",
       "    <tr style=\"text-align: right;\">\n",
       "      <th></th>\n",
       "      <th>symboling</th>\n",
       "      <th>wheelbase</th>\n",
       "      <th>carlength</th>\n",
       "      <th>carwidth</th>\n",
       "      <th>carheight</th>\n",
       "      <th>curbweight</th>\n",
       "      <th>enginesize</th>\n",
       "      <th>boreratio</th>\n",
       "      <th>stroke</th>\n",
       "      <th>compressionratio</th>\n",
       "      <th>...</th>\n",
       "      <th>doornumber</th>\n",
       "      <th>carbody</th>\n",
       "      <th>enginetype</th>\n",
       "      <th>cylindernumber</th>\n",
       "      <th>fuelsystem</th>\n",
       "      <th>fueltype_gas</th>\n",
       "      <th>CarName_encoded</th>\n",
       "      <th>encoded_data__x0_fwd</th>\n",
       "      <th>encoded_data__x0_rwd</th>\n",
       "      <th>encoded_data__x1_rear</th>\n",
       "    </tr>\n",
       "  </thead>\n",
       "  <tbody>\n",
       "    <tr>\n",
       "      <td>0</td>\n",
       "      <td>3</td>\n",
       "      <td>88.6</td>\n",
       "      <td>168.8</td>\n",
       "      <td>64.1</td>\n",
       "      <td>48.8</td>\n",
       "      <td>2548</td>\n",
       "      <td>130</td>\n",
       "      <td>3.47</td>\n",
       "      <td>2.68</td>\n",
       "      <td>1.0</td>\n",
       "      <td>...</td>\n",
       "      <td>2</td>\n",
       "      <td>0</td>\n",
       "      <td>0</td>\n",
       "      <td>4</td>\n",
       "      <td>5</td>\n",
       "      <td>1</td>\n",
       "      <td>1</td>\n",
       "      <td>0.0</td>\n",
       "      <td>1.0</td>\n",
       "      <td>0.0</td>\n",
       "    </tr>\n",
       "    <tr>\n",
       "      <td>1</td>\n",
       "      <td>3</td>\n",
       "      <td>88.6</td>\n",
       "      <td>168.8</td>\n",
       "      <td>64.1</td>\n",
       "      <td>48.8</td>\n",
       "      <td>2548</td>\n",
       "      <td>130</td>\n",
       "      <td>3.47</td>\n",
       "      <td>2.68</td>\n",
       "      <td>1.0</td>\n",
       "      <td>...</td>\n",
       "      <td>2</td>\n",
       "      <td>0</td>\n",
       "      <td>0</td>\n",
       "      <td>4</td>\n",
       "      <td>5</td>\n",
       "      <td>1</td>\n",
       "      <td>1</td>\n",
       "      <td>0.0</td>\n",
       "      <td>1.0</td>\n",
       "      <td>0.0</td>\n",
       "    </tr>\n",
       "    <tr>\n",
       "      <td>2</td>\n",
       "      <td>1</td>\n",
       "      <td>94.5</td>\n",
       "      <td>171.2</td>\n",
       "      <td>65.5</td>\n",
       "      <td>52.4</td>\n",
       "      <td>2823</td>\n",
       "      <td>152</td>\n",
       "      <td>2.68</td>\n",
       "      <td>3.47</td>\n",
       "      <td>1.0</td>\n",
       "      <td>...</td>\n",
       "      <td>2</td>\n",
       "      <td>2</td>\n",
       "      <td>5</td>\n",
       "      <td>6</td>\n",
       "      <td>5</td>\n",
       "      <td>1</td>\n",
       "      <td>1</td>\n",
       "      <td>0.0</td>\n",
       "      <td>1.0</td>\n",
       "      <td>0.0</td>\n",
       "    </tr>\n",
       "    <tr>\n",
       "      <td>3</td>\n",
       "      <td>2</td>\n",
       "      <td>99.8</td>\n",
       "      <td>176.6</td>\n",
       "      <td>66.2</td>\n",
       "      <td>54.3</td>\n",
       "      <td>2337</td>\n",
       "      <td>109</td>\n",
       "      <td>3.19</td>\n",
       "      <td>3.40</td>\n",
       "      <td>2.0</td>\n",
       "      <td>...</td>\n",
       "      <td>4</td>\n",
       "      <td>3</td>\n",
       "      <td>3</td>\n",
       "      <td>4</td>\n",
       "      <td>5</td>\n",
       "      <td>1</td>\n",
       "      <td>2</td>\n",
       "      <td>1.0</td>\n",
       "      <td>0.0</td>\n",
       "      <td>0.0</td>\n",
       "    </tr>\n",
       "    <tr>\n",
       "      <td>4</td>\n",
       "      <td>2</td>\n",
       "      <td>99.4</td>\n",
       "      <td>176.6</td>\n",
       "      <td>66.4</td>\n",
       "      <td>54.3</td>\n",
       "      <td>2824</td>\n",
       "      <td>136</td>\n",
       "      <td>3.19</td>\n",
       "      <td>3.40</td>\n",
       "      <td>1.0</td>\n",
       "      <td>...</td>\n",
       "      <td>4</td>\n",
       "      <td>3</td>\n",
       "      <td>3</td>\n",
       "      <td>5</td>\n",
       "      <td>5</td>\n",
       "      <td>1</td>\n",
       "      <td>2</td>\n",
       "      <td>0.0</td>\n",
       "      <td>0.0</td>\n",
       "      <td>0.0</td>\n",
       "    </tr>\n",
       "  </tbody>\n",
       "</table>\n",
       "<p>5 rows × 26 columns</p>\n",
       "</div>"
      ],
      "text/plain": [
       "   symboling  wheelbase  carlength  carwidth  carheight  curbweight  \\\n",
       "0          3       88.6      168.8      64.1       48.8        2548   \n",
       "1          3       88.6      168.8      64.1       48.8        2548   \n",
       "2          1       94.5      171.2      65.5       52.4        2823   \n",
       "3          2       99.8      176.6      66.2       54.3        2337   \n",
       "4          2       99.4      176.6      66.4       54.3        2824   \n",
       "\n",
       "   enginesize  boreratio  stroke  compressionratio  ...  doornumber  carbody  \\\n",
       "0         130       3.47    2.68               1.0  ...           2        0   \n",
       "1         130       3.47    2.68               1.0  ...           2        0   \n",
       "2         152       2.68    3.47               1.0  ...           2        2   \n",
       "3         109       3.19    3.40               2.0  ...           4        3   \n",
       "4         136       3.19    3.40               1.0  ...           4        3   \n",
       "\n",
       "   enginetype  cylindernumber  fuelsystem  fueltype_gas  CarName_encoded  \\\n",
       "0           0               4           5             1                1   \n",
       "1           0               4           5             1                1   \n",
       "2           5               6           5             1                1   \n",
       "3           3               4           5             1                2   \n",
       "4           3               5           5             1                2   \n",
       "\n",
       "   encoded_data__x0_fwd  encoded_data__x0_rwd  encoded_data__x1_rear  \n",
       "0                   0.0                   1.0                    0.0  \n",
       "1                   0.0                   1.0                    0.0  \n",
       "2                   0.0                   1.0                    0.0  \n",
       "3                   1.0                   0.0                    0.0  \n",
       "4                   0.0                   0.0                    0.0  \n",
       "\n",
       "[5 rows x 26 columns]"
      ]
     },
     "execution_count": 51,
     "metadata": {},
     "output_type": "execute_result"
    }
   ],
   "source": [
    "auto_df.drop(['fueltype', 'aspiration', 'doornumber','carbody','enginetype','cylindernumber','fuelsystem','drivewheel', 'enginelocation', 'CarName'], inplace=True, axis=1)\n",
    "\n",
    "df_auto = pd.concat([auto_df, df],axis=1)\n",
    "\n",
    "df_auto.drop([], inplace=True, axis=1)\n",
    "\n",
    "\n",
    "\n",
    "\n",
    "\n",
    "df_auto.head()"
   ]
  },
  {
   "cell_type": "code",
   "execution_count": 52,
   "metadata": {},
   "outputs": [
    {
     "data": {
      "text/plain": [
       "[]"
      ]
     },
     "execution_count": 52,
     "metadata": {},
     "output_type": "execute_result"
    }
   ],
   "source": [
    "categorical_cols = df_auto.columns[df_auto.dtypes==object].tolist()\n",
    "categorical_cols"
   ]
  },
  {
   "cell_type": "code",
   "execution_count": 53,
   "metadata": {},
   "outputs": [
    {
     "data": {
      "text/plain": [
       "(205, 26)"
      ]
     },
     "execution_count": 53,
     "metadata": {},
     "output_type": "execute_result"
    }
   ],
   "source": [
    "df_auto.shape"
   ]
  },
  {
   "cell_type": "code",
   "execution_count": 54,
   "metadata": {},
   "outputs": [
    {
     "data": {
      "text/plain": [
       "Index(['symboling', 'wheelbase', 'carlength', 'carwidth', 'carheight',\n",
       "       'curbweight', 'enginesize', 'boreratio', 'stroke', 'compressionratio',\n",
       "       'horsepower', 'peakrpm', 'citympg', 'highwaympg', 'price', 'aspiration',\n",
       "       'doornumber', 'carbody', 'enginetype', 'cylindernumber', 'fuelsystem',\n",
       "       'fueltype_gas', 'CarName_encoded', 'encoded_data__x0_fwd',\n",
       "       'encoded_data__x0_rwd', 'encoded_data__x1_rear'],\n",
       "      dtype='object')"
      ]
     },
     "execution_count": 54,
     "metadata": {},
     "output_type": "execute_result"
    }
   ],
   "source": [
    "df_auto.columns"
   ]
  },
  {
   "cell_type": "code",
   "execution_count": 55,
   "metadata": {},
   "outputs": [],
   "source": [
    "from sklearn.model_selection import train_test_split\n",
    "\n",
    "# We specify this so that the train and test data set always have the same rows, respectively\n",
    "np.random.seed(0)\n",
    "df_train, df_test = train_test_split(df_auto, train_size = 0.8, test_size = 0.2, random_state = 100)"
   ]
  },
  {
   "cell_type": "code",
   "execution_count": 56,
   "metadata": {},
   "outputs": [],
   "source": [
    "from sklearn.preprocessing import StandardScaler"
   ]
  },
  {
   "cell_type": "code",
   "execution_count": 57,
   "metadata": {},
   "outputs": [],
   "source": [
    "scaler = StandardScaler()"
   ]
  },
  {
   "cell_type": "code",
   "execution_count": 58,
   "metadata": {},
   "outputs": [
    {
     "data": {
      "text/html": [
       "<div>\n",
       "<style scoped>\n",
       "    .dataframe tbody tr th:only-of-type {\n",
       "        vertical-align: middle;\n",
       "    }\n",
       "\n",
       "    .dataframe tbody tr th {\n",
       "        vertical-align: top;\n",
       "    }\n",
       "\n",
       "    .dataframe thead th {\n",
       "        text-align: right;\n",
       "    }\n",
       "</style>\n",
       "<table border=\"1\" class=\"dataframe\">\n",
       "  <thead>\n",
       "    <tr style=\"text-align: right;\">\n",
       "      <th></th>\n",
       "      <th>0</th>\n",
       "    </tr>\n",
       "  </thead>\n",
       "  <tbody>\n",
       "    <tr>\n",
       "      <td>symboling</td>\n",
       "      <td>3.00</td>\n",
       "    </tr>\n",
       "    <tr>\n",
       "      <td>wheelbase</td>\n",
       "      <td>88.60</td>\n",
       "    </tr>\n",
       "    <tr>\n",
       "      <td>carlength</td>\n",
       "      <td>168.80</td>\n",
       "    </tr>\n",
       "    <tr>\n",
       "      <td>carwidth</td>\n",
       "      <td>64.10</td>\n",
       "    </tr>\n",
       "    <tr>\n",
       "      <td>carheight</td>\n",
       "      <td>48.80</td>\n",
       "    </tr>\n",
       "    <tr>\n",
       "      <td>curbweight</td>\n",
       "      <td>2548.00</td>\n",
       "    </tr>\n",
       "    <tr>\n",
       "      <td>enginesize</td>\n",
       "      <td>130.00</td>\n",
       "    </tr>\n",
       "    <tr>\n",
       "      <td>boreratio</td>\n",
       "      <td>3.47</td>\n",
       "    </tr>\n",
       "    <tr>\n",
       "      <td>stroke</td>\n",
       "      <td>2.68</td>\n",
       "    </tr>\n",
       "    <tr>\n",
       "      <td>compressionratio</td>\n",
       "      <td>1.00</td>\n",
       "    </tr>\n",
       "    <tr>\n",
       "      <td>horsepower</td>\n",
       "      <td>111.00</td>\n",
       "    </tr>\n",
       "    <tr>\n",
       "      <td>peakrpm</td>\n",
       "      <td>5000.00</td>\n",
       "    </tr>\n",
       "    <tr>\n",
       "      <td>citympg</td>\n",
       "      <td>21.00</td>\n",
       "    </tr>\n",
       "    <tr>\n",
       "      <td>highwaympg</td>\n",
       "      <td>27.00</td>\n",
       "    </tr>\n",
       "    <tr>\n",
       "      <td>price</td>\n",
       "      <td>13495.00</td>\n",
       "    </tr>\n",
       "    <tr>\n",
       "      <td>aspiration</td>\n",
       "      <td>0.00</td>\n",
       "    </tr>\n",
       "    <tr>\n",
       "      <td>doornumber</td>\n",
       "      <td>2.00</td>\n",
       "    </tr>\n",
       "    <tr>\n",
       "      <td>carbody</td>\n",
       "      <td>0.00</td>\n",
       "    </tr>\n",
       "    <tr>\n",
       "      <td>enginetype</td>\n",
       "      <td>0.00</td>\n",
       "    </tr>\n",
       "    <tr>\n",
       "      <td>cylindernumber</td>\n",
       "      <td>4.00</td>\n",
       "    </tr>\n",
       "    <tr>\n",
       "      <td>fuelsystem</td>\n",
       "      <td>5.00</td>\n",
       "    </tr>\n",
       "    <tr>\n",
       "      <td>fueltype_gas</td>\n",
       "      <td>1.00</td>\n",
       "    </tr>\n",
       "    <tr>\n",
       "      <td>CarName_encoded</td>\n",
       "      <td>1.00</td>\n",
       "    </tr>\n",
       "    <tr>\n",
       "      <td>encoded_data__x0_fwd</td>\n",
       "      <td>0.00</td>\n",
       "    </tr>\n",
       "    <tr>\n",
       "      <td>encoded_data__x0_rwd</td>\n",
       "      <td>1.00</td>\n",
       "    </tr>\n",
       "    <tr>\n",
       "      <td>encoded_data__x1_rear</td>\n",
       "      <td>0.00</td>\n",
       "    </tr>\n",
       "  </tbody>\n",
       "</table>\n",
       "</div>"
      ],
      "text/plain": [
       "                              0\n",
       "symboling                  3.00\n",
       "wheelbase                 88.60\n",
       "carlength                168.80\n",
       "carwidth                  64.10\n",
       "carheight                 48.80\n",
       "curbweight              2548.00\n",
       "enginesize               130.00\n",
       "boreratio                  3.47\n",
       "stroke                     2.68\n",
       "compressionratio           1.00\n",
       "horsepower               111.00\n",
       "peakrpm                 5000.00\n",
       "citympg                   21.00\n",
       "highwaympg                27.00\n",
       "price                  13495.00\n",
       "aspiration                 0.00\n",
       "doornumber                 2.00\n",
       "carbody                    0.00\n",
       "enginetype                 0.00\n",
       "cylindernumber             4.00\n",
       "fuelsystem                 5.00\n",
       "fueltype_gas               1.00\n",
       "CarName_encoded            1.00\n",
       "encoded_data__x0_fwd       0.00\n",
       "encoded_data__x0_rwd       1.00\n",
       "encoded_data__x1_rear      0.00"
      ]
     },
     "execution_count": 58,
     "metadata": {},
     "output_type": "execute_result"
    }
   ],
   "source": [
    "df_auto.head(1).transpose()"
   ]
  },
  {
   "cell_type": "code",
   "execution_count": 59,
   "metadata": {},
   "outputs": [],
   "source": [
    "# Apply scaler() to all the columns except the 'yes-no' and 'dummy' variables\n",
    "num_vars = ['symboling', 'wheelbase', 'carlength', 'carwidth', 'carheight',\n",
    "       'curbweight', 'enginesize', 'boreratio', 'stroke', 'compressionratio',\n",
    "       'horsepower', 'peakrpm', 'citympg', 'highwaympg', 'price', 'aspiration',\n",
    "       'doornumber', 'carbody', 'enginetype', 'cylindernumber', 'fuelsystem',\n",
    "       'fueltype_gas', 'CarName_encoded', 'encoded_data__x0_fwd',\n",
    "       'encoded_data__x0_rwd', 'encoded_data__x1_rear']\n",
    "\n",
    "col = df_train.columns\n",
    "\n",
    "df_train = df_train.reindex(columns=col)\n",
    "\n",
    "#df_train[num_vars] = scaler.fit_transform(df_train[num_vars])"
   ]
  },
  {
   "cell_type": "code",
   "execution_count": 60,
   "metadata": {},
   "outputs": [
    {
     "data": {
      "text/plain": [
       "Index(['symboling', 'wheelbase', 'carlength', 'carwidth', 'carheight',\n",
       "       'curbweight', 'enginesize', 'boreratio', 'stroke', 'compressionratio',\n",
       "       'horsepower', 'peakrpm', 'citympg', 'highwaympg', 'price', 'aspiration',\n",
       "       'doornumber', 'carbody', 'enginetype', 'cylindernumber', 'fuelsystem',\n",
       "       'fueltype_gas', 'CarName_encoded', 'encoded_data__x0_fwd',\n",
       "       'encoded_data__x0_rwd', 'encoded_data__x1_rear'],\n",
       "      dtype='object')"
      ]
     },
     "execution_count": 60,
     "metadata": {},
     "output_type": "execute_result"
    }
   ],
   "source": [
    "df_train.columns"
   ]
  },
  {
   "cell_type": "code",
   "execution_count": 61,
   "metadata": {},
   "outputs": [],
   "source": [
    "df_train[num_vars] = scaler.fit_transform(df_train[num_vars])"
   ]
  },
  {
   "cell_type": "code",
   "execution_count": 62,
   "metadata": {},
   "outputs": [
    {
     "data": {
      "text/html": [
       "<div>\n",
       "<style scoped>\n",
       "    .dataframe tbody tr th:only-of-type {\n",
       "        vertical-align: middle;\n",
       "    }\n",
       "\n",
       "    .dataframe tbody tr th {\n",
       "        vertical-align: top;\n",
       "    }\n",
       "\n",
       "    .dataframe thead th {\n",
       "        text-align: right;\n",
       "    }\n",
       "</style>\n",
       "<table border=\"1\" class=\"dataframe\">\n",
       "  <thead>\n",
       "    <tr style=\"text-align: right;\">\n",
       "      <th></th>\n",
       "      <th>count</th>\n",
       "      <th>mean</th>\n",
       "      <th>std</th>\n",
       "      <th>min</th>\n",
       "      <th>25%</th>\n",
       "      <th>50%</th>\n",
       "      <th>75%</th>\n",
       "      <th>max</th>\n",
       "    </tr>\n",
       "  </thead>\n",
       "  <tbody>\n",
       "    <tr>\n",
       "      <td>symboling</td>\n",
       "      <td>164.0</td>\n",
       "      <td>6.498866e-17</td>\n",
       "      <td>1.003063</td>\n",
       "      <td>-2.350915</td>\n",
       "      <td>-0.692635</td>\n",
       "      <td>0.136505</td>\n",
       "      <td>0.965645</td>\n",
       "      <td>1.794784</td>\n",
       "    </tr>\n",
       "    <tr>\n",
       "      <td>wheelbase</td>\n",
       "      <td>164.0</td>\n",
       "      <td>8.827627e-16</td>\n",
       "      <td>1.003063</td>\n",
       "      <td>-2.052510</td>\n",
       "      <td>-0.670588</td>\n",
       "      <td>-0.320735</td>\n",
       "      <td>0.361480</td>\n",
       "      <td>3.020367</td>\n",
       "    </tr>\n",
       "    <tr>\n",
       "      <td>carlength</td>\n",
       "      <td>164.0</td>\n",
       "      <td>8.854706e-16</td>\n",
       "      <td>1.003063</td>\n",
       "      <td>-2.638444</td>\n",
       "      <td>-0.558965</td>\n",
       "      <td>-0.088607</td>\n",
       "      <td>0.482837</td>\n",
       "      <td>2.436474</td>\n",
       "    </tr>\n",
       "    <tr>\n",
       "      <td>carwidth</td>\n",
       "      <td>164.0</td>\n",
       "      <td>3.206107e-15</td>\n",
       "      <td>1.003063</td>\n",
       "      <td>-2.534274</td>\n",
       "      <td>-0.815873</td>\n",
       "      <td>-0.165667</td>\n",
       "      <td>0.345210</td>\n",
       "      <td>3.038920</td>\n",
       "    </tr>\n",
       "    <tr>\n",
       "      <td>carheight</td>\n",
       "      <td>164.0</td>\n",
       "      <td>5.903137e-16</td>\n",
       "      <td>1.003063</td>\n",
       "      <td>-2.353544</td>\n",
       "      <td>-0.688431</td>\n",
       "      <td>0.042594</td>\n",
       "      <td>0.773619</td>\n",
       "      <td>2.519956</td>\n",
       "    </tr>\n",
       "    <tr>\n",
       "      <td>curbweight</td>\n",
       "      <td>164.0</td>\n",
       "      <td>6.092687e-17</td>\n",
       "      <td>1.003063</td>\n",
       "      <td>-1.975977</td>\n",
       "      <td>-0.748127</td>\n",
       "      <td>-0.251025</td>\n",
       "      <td>0.615778</td>\n",
       "      <td>2.981578</td>\n",
       "    </tr>\n",
       "    <tr>\n",
       "      <td>enginesize</td>\n",
       "      <td>164.0</td>\n",
       "      <td>-8.055887e-17</td>\n",
       "      <td>1.003063</td>\n",
       "      <td>-1.592652</td>\n",
       "      <td>-0.677784</td>\n",
       "      <td>-0.347414</td>\n",
       "      <td>0.345090</td>\n",
       "      <td>5.141797</td>\n",
       "    </tr>\n",
       "    <tr>\n",
       "      <td>boreratio</td>\n",
       "      <td>164.0</td>\n",
       "      <td>2.186598e-16</td>\n",
       "      <td>1.003063</td>\n",
       "      <td>-2.410258</td>\n",
       "      <td>-0.965769</td>\n",
       "      <td>-0.106885</td>\n",
       "      <td>0.947202</td>\n",
       "      <td>2.508811</td>\n",
       "    </tr>\n",
       "    <tr>\n",
       "      <td>stroke</td>\n",
       "      <td>164.0</td>\n",
       "      <td>-6.234850e-16</td>\n",
       "      <td>1.003063</td>\n",
       "      <td>-3.541749</td>\n",
       "      <td>-0.506366</td>\n",
       "      <td>0.087513</td>\n",
       "      <td>0.483432</td>\n",
       "      <td>2.990922</td>\n",
       "    </tr>\n",
       "    <tr>\n",
       "      <td>compressionratio</td>\n",
       "      <td>164.0</td>\n",
       "      <td>-3.384826e-18</td>\n",
       "      <td>1.003063</td>\n",
       "      <td>-0.813622</td>\n",
       "      <td>-0.813622</td>\n",
       "      <td>-0.813622</td>\n",
       "      <td>0.668978</td>\n",
       "      <td>2.151579</td>\n",
       "    </tr>\n",
       "    <tr>\n",
       "      <td>horsepower</td>\n",
       "      <td>164.0</td>\n",
       "      <td>1.083144e-17</td>\n",
       "      <td>1.003063</td>\n",
       "      <td>-1.351820</td>\n",
       "      <td>-0.797574</td>\n",
       "      <td>-0.230586</td>\n",
       "      <td>0.380996</td>\n",
       "      <td>4.764000</td>\n",
       "    </tr>\n",
       "    <tr>\n",
       "      <td>peakrpm</td>\n",
       "      <td>164.0</td>\n",
       "      <td>1.516402e-16</td>\n",
       "      <td>1.003063</td>\n",
       "      <td>-2.088774</td>\n",
       "      <td>-0.704912</td>\n",
       "      <td>0.146694</td>\n",
       "      <td>0.785400</td>\n",
       "      <td>3.127319</td>\n",
       "    </tr>\n",
       "    <tr>\n",
       "      <td>citympg</td>\n",
       "      <td>164.0</td>\n",
       "      <td>-6.769653e-17</td>\n",
       "      <td>1.003063</td>\n",
       "      <td>-1.906904</td>\n",
       "      <td>-0.855451</td>\n",
       "      <td>-0.104413</td>\n",
       "      <td>0.796833</td>\n",
       "      <td>3.500570</td>\n",
       "    </tr>\n",
       "    <tr>\n",
       "      <td>highwaympg</td>\n",
       "      <td>164.0</td>\n",
       "      <td>8.394369e-17</td>\n",
       "      <td>1.003063</td>\n",
       "      <td>-2.057112</td>\n",
       "      <td>-0.904215</td>\n",
       "      <td>-0.039543</td>\n",
       "      <td>0.825130</td>\n",
       "      <td>3.275035</td>\n",
       "    </tr>\n",
       "    <tr>\n",
       "      <td>price</td>\n",
       "      <td>164.0</td>\n",
       "      <td>9.477514e-17</td>\n",
       "      <td>1.003063</td>\n",
       "      <td>-0.996745</td>\n",
       "      <td>-0.664066</td>\n",
       "      <td>-0.369598</td>\n",
       "      <td>0.397448</td>\n",
       "      <td>3.723748</td>\n",
       "    </tr>\n",
       "    <tr>\n",
       "      <td>aspiration</td>\n",
       "      <td>164.0</td>\n",
       "      <td>-1.949660e-16</td>\n",
       "      <td>1.003063</td>\n",
       "      <td>-0.453743</td>\n",
       "      <td>-0.453743</td>\n",
       "      <td>-0.453743</td>\n",
       "      <td>-0.453743</td>\n",
       "      <td>2.203893</td>\n",
       "    </tr>\n",
       "    <tr>\n",
       "      <td>doornumber</td>\n",
       "      <td>164.0</td>\n",
       "      <td>-2.396457e-16</td>\n",
       "      <td>1.003063</td>\n",
       "      <td>-1.144491</td>\n",
       "      <td>-1.144491</td>\n",
       "      <td>0.873751</td>\n",
       "      <td>0.873751</td>\n",
       "      <td>0.873751</td>\n",
       "    </tr>\n",
       "    <tr>\n",
       "      <td>carbody</td>\n",
       "      <td>164.0</td>\n",
       "      <td>1.577329e-16</td>\n",
       "      <td>1.003063</td>\n",
       "      <td>-3.111352</td>\n",
       "      <td>-0.765321</td>\n",
       "      <td>0.407694</td>\n",
       "      <td>0.407694</td>\n",
       "      <td>1.580710</td>\n",
       "    </tr>\n",
       "    <tr>\n",
       "      <td>enginetype</td>\n",
       "      <td>164.0</td>\n",
       "      <td>-4.368541e-17</td>\n",
       "      <td>1.003063</td>\n",
       "      <td>-2.813548</td>\n",
       "      <td>-0.011391</td>\n",
       "      <td>-0.011391</td>\n",
       "      <td>-0.011391</td>\n",
       "      <td>2.790766</td>\n",
       "    </tr>\n",
       "    <tr>\n",
       "      <td>cylindernumber</td>\n",
       "      <td>164.0</td>\n",
       "      <td>-6.972742e-17</td>\n",
       "      <td>1.003063</td>\n",
       "      <td>-2.167981</td>\n",
       "      <td>-0.339966</td>\n",
       "      <td>-0.339966</td>\n",
       "      <td>-0.339966</td>\n",
       "      <td>6.972092</td>\n",
       "    </tr>\n",
       "    <tr>\n",
       "      <td>fuelsystem</td>\n",
       "      <td>164.0</td>\n",
       "      <td>4.941846e-17</td>\n",
       "      <td>1.003063</td>\n",
       "      <td>-1.522220</td>\n",
       "      <td>-1.023928</td>\n",
       "      <td>-0.027345</td>\n",
       "      <td>0.969238</td>\n",
       "      <td>1.467529</td>\n",
       "    </tr>\n",
       "    <tr>\n",
       "      <td>fueltype_gas</td>\n",
       "      <td>164.0</td>\n",
       "      <td>-5.009543e-17</td>\n",
       "      <td>1.003063</td>\n",
       "      <td>-2.940588</td>\n",
       "      <td>0.340068</td>\n",
       "      <td>0.340068</td>\n",
       "      <td>0.340068</td>\n",
       "      <td>0.340068</td>\n",
       "    </tr>\n",
       "    <tr>\n",
       "      <td>CarName_encoded</td>\n",
       "      <td>164.0</td>\n",
       "      <td>-8.935941e-17</td>\n",
       "      <td>1.003063</td>\n",
       "      <td>-2.005368</td>\n",
       "      <td>-0.907532</td>\n",
       "      <td>0.033471</td>\n",
       "      <td>1.013681</td>\n",
       "      <td>1.444974</td>\n",
       "    </tr>\n",
       "    <tr>\n",
       "      <td>encoded_data__x0_fwd</td>\n",
       "      <td>164.0</td>\n",
       "      <td>-1.367470e-16</td>\n",
       "      <td>1.003063</td>\n",
       "      <td>-1.299432</td>\n",
       "      <td>-1.299432</td>\n",
       "      <td>0.769567</td>\n",
       "      <td>0.769567</td>\n",
       "      <td>0.769567</td>\n",
       "    </tr>\n",
       "    <tr>\n",
       "      <td>encoded_data__x0_rwd</td>\n",
       "      <td>164.0</td>\n",
       "      <td>-1.353931e-17</td>\n",
       "      <td>1.003063</td>\n",
       "      <td>-0.690997</td>\n",
       "      <td>-0.690997</td>\n",
       "      <td>-0.690997</td>\n",
       "      <td>1.447183</td>\n",
       "      <td>1.447183</td>\n",
       "    </tr>\n",
       "    <tr>\n",
       "      <td>encoded_data__x1_rear</td>\n",
       "      <td>164.0</td>\n",
       "      <td>2.398149e-16</td>\n",
       "      <td>1.003063</td>\n",
       "      <td>-0.111111</td>\n",
       "      <td>-0.111111</td>\n",
       "      <td>-0.111111</td>\n",
       "      <td>-0.111111</td>\n",
       "      <td>9.000000</td>\n",
       "    </tr>\n",
       "  </tbody>\n",
       "</table>\n",
       "</div>"
      ],
      "text/plain": [
       "                       count          mean       std       min       25%  \\\n",
       "symboling              164.0  6.498866e-17  1.003063 -2.350915 -0.692635   \n",
       "wheelbase              164.0  8.827627e-16  1.003063 -2.052510 -0.670588   \n",
       "carlength              164.0  8.854706e-16  1.003063 -2.638444 -0.558965   \n",
       "carwidth               164.0  3.206107e-15  1.003063 -2.534274 -0.815873   \n",
       "carheight              164.0  5.903137e-16  1.003063 -2.353544 -0.688431   \n",
       "curbweight             164.0  6.092687e-17  1.003063 -1.975977 -0.748127   \n",
       "enginesize             164.0 -8.055887e-17  1.003063 -1.592652 -0.677784   \n",
       "boreratio              164.0  2.186598e-16  1.003063 -2.410258 -0.965769   \n",
       "stroke                 164.0 -6.234850e-16  1.003063 -3.541749 -0.506366   \n",
       "compressionratio       164.0 -3.384826e-18  1.003063 -0.813622 -0.813622   \n",
       "horsepower             164.0  1.083144e-17  1.003063 -1.351820 -0.797574   \n",
       "peakrpm                164.0  1.516402e-16  1.003063 -2.088774 -0.704912   \n",
       "citympg                164.0 -6.769653e-17  1.003063 -1.906904 -0.855451   \n",
       "highwaympg             164.0  8.394369e-17  1.003063 -2.057112 -0.904215   \n",
       "price                  164.0  9.477514e-17  1.003063 -0.996745 -0.664066   \n",
       "aspiration             164.0 -1.949660e-16  1.003063 -0.453743 -0.453743   \n",
       "doornumber             164.0 -2.396457e-16  1.003063 -1.144491 -1.144491   \n",
       "carbody                164.0  1.577329e-16  1.003063 -3.111352 -0.765321   \n",
       "enginetype             164.0 -4.368541e-17  1.003063 -2.813548 -0.011391   \n",
       "cylindernumber         164.0 -6.972742e-17  1.003063 -2.167981 -0.339966   \n",
       "fuelsystem             164.0  4.941846e-17  1.003063 -1.522220 -1.023928   \n",
       "fueltype_gas           164.0 -5.009543e-17  1.003063 -2.940588  0.340068   \n",
       "CarName_encoded        164.0 -8.935941e-17  1.003063 -2.005368 -0.907532   \n",
       "encoded_data__x0_fwd   164.0 -1.367470e-16  1.003063 -1.299432 -1.299432   \n",
       "encoded_data__x0_rwd   164.0 -1.353931e-17  1.003063 -0.690997 -0.690997   \n",
       "encoded_data__x1_rear  164.0  2.398149e-16  1.003063 -0.111111 -0.111111   \n",
       "\n",
       "                            50%       75%       max  \n",
       "symboling              0.136505  0.965645  1.794784  \n",
       "wheelbase             -0.320735  0.361480  3.020367  \n",
       "carlength             -0.088607  0.482837  2.436474  \n",
       "carwidth              -0.165667  0.345210  3.038920  \n",
       "carheight              0.042594  0.773619  2.519956  \n",
       "curbweight            -0.251025  0.615778  2.981578  \n",
       "enginesize            -0.347414  0.345090  5.141797  \n",
       "boreratio             -0.106885  0.947202  2.508811  \n",
       "stroke                 0.087513  0.483432  2.990922  \n",
       "compressionratio      -0.813622  0.668978  2.151579  \n",
       "horsepower            -0.230586  0.380996  4.764000  \n",
       "peakrpm                0.146694  0.785400  3.127319  \n",
       "citympg               -0.104413  0.796833  3.500570  \n",
       "highwaympg            -0.039543  0.825130  3.275035  \n",
       "price                 -0.369598  0.397448  3.723748  \n",
       "aspiration            -0.453743 -0.453743  2.203893  \n",
       "doornumber             0.873751  0.873751  0.873751  \n",
       "carbody                0.407694  0.407694  1.580710  \n",
       "enginetype            -0.011391 -0.011391  2.790766  \n",
       "cylindernumber        -0.339966 -0.339966  6.972092  \n",
       "fuelsystem            -0.027345  0.969238  1.467529  \n",
       "fueltype_gas           0.340068  0.340068  0.340068  \n",
       "CarName_encoded        0.033471  1.013681  1.444974  \n",
       "encoded_data__x0_fwd   0.769567  0.769567  0.769567  \n",
       "encoded_data__x0_rwd  -0.690997  1.447183  1.447183  \n",
       "encoded_data__x1_rear -0.111111 -0.111111  9.000000  "
      ]
     },
     "execution_count": 62,
     "metadata": {},
     "output_type": "execute_result"
    }
   ],
   "source": [
    "df_train.describe().transpose()"
   ]
  },
  {
   "cell_type": "code",
   "execution_count": 63,
   "metadata": {},
   "outputs": [
    {
     "data": {
      "image/png": "[encoded data removed]",
      "text/plain": [
       "<Figure size 1152x720 with 2 Axes>"
      ]
     },
     "metadata": {
      "needs_background": "light"
     },
     "output_type": "display_data"
    }
   ],
   "source": [
    "plt.figure(figsize = (16, 10))\n",
    "sns.heatmap(df_train.corr(), annot = True, cmap=\"YlGnBu\")\n",
    "plt.show()"
   ]
  },
  {
   "cell_type": "code",
   "execution_count": 64,
   "metadata": {},
   "outputs": [
    {
     "data": {
      "text/plain": [
       "price                    1.000000\n",
       "enginesize               0.863011\n",
       "curbweight               0.845345\n",
       "horsepower               0.812608\n",
       "carwidth                 0.762071\n",
       "cylindernumber           0.698362\n",
       "carlength                0.684234\n",
       "encoded_data__x0_rwd     0.664165\n",
       "wheelbase                0.569241\n",
       "fuelsystem               0.546865\n",
       "boreratio                0.544209\n",
       "encoded_data__x1_rear    0.329895\n",
       "aspiration               0.197039\n",
       "stroke                   0.108640\n",
       "carheight                0.064143\n",
       "doornumber               0.046687\n",
       "compressionratio         0.030093\n",
       "enginetype              -0.034910\n",
       "carbody                 -0.036243\n",
       "peakrpm                 -0.068469\n",
       "symboling               -0.078469\n",
       "fueltype_gas            -0.122847\n",
       "CarName_encoded         -0.218665\n",
       "encoded_data__x0_fwd    -0.626380\n",
       "citympg                 -0.672783\n",
       "highwaympg              -0.679994\n",
       "Name: price, dtype: float64"
      ]
     },
     "execution_count": 64,
     "metadata": {},
     "output_type": "execute_result"
    }
   ],
   "source": [
    "corr_matrix = df_train.corr()\n",
    "corr_matrix[\"price\"].sort_values(ascending=False)"
   ]
  },
  {
   "cell_type": "code",
   "execution_count": 65,
   "metadata": {},
   "outputs": [],
   "source": [
    "y_train = df_train.pop('price')\n",
    "X_train = df_train"
   ]
  },
  {
   "cell_type": "code",
   "execution_count": 66,
   "metadata": {},
   "outputs": [],
   "source": [
    "# Importing RFE and LinearRegression\n",
    "from sklearn.feature_selection import RFE\n",
    "from sklearn.linear_model import LinearRegression"
   ]
  },
  {
   "cell_type": "code",
   "execution_count": 67,
   "metadata": {},
   "outputs": [],
   "source": [
    "# Running RFE with the output number of the variable equal to 10\n",
    "lm = LinearRegression()\n",
    "lm.fit(X_train, y_train)\n",
    "\n",
    "rfe = RFE(lm, 10)             # running RFE\n",
    "rfe = rfe.fit(X_train, y_train)"
   ]
  },
  {
   "cell_type": "code",
   "execution_count": 68,
   "metadata": {},
   "outputs": [
    {
     "data": {
      "text/plain": [
       "[('symboling', False, 11),\n",
       " ('wheelbase', False, 10),\n",
       " ('carlength', False, 15),\n",
       " ('carwidth', True, 1),\n",
       " ('carheight', True, 1),\n",
       " ('curbweight', False, 5),\n",
       " ('enginesize', True, 1),\n",
       " ('boreratio', True, 1),\n",
       " ('stroke', True, 1),\n",
       " ('compressionratio', False, 12),\n",
       " ('horsepower', True, 1),\n",
       " ('peakrpm', False, 4),\n",
       " ('citympg', False, 14),\n",
       " ('highwaympg', False, 6),\n",
       " ('aspiration', False, 16),\n",
       " ('doornumber', False, 8),\n",
       " ('carbody', False, 7),\n",
       " ('enginetype', False, 9),\n",
       " ('cylindernumber', True, 1),\n",
       " ('fuelsystem', False, 13),\n",
       " ('fueltype_gas', False, 2),\n",
       " ('CarName_encoded', True, 1),\n",
       " ('encoded_data__x0_fwd', False, 3),\n",
       " ('encoded_data__x0_rwd', True, 1),\n",
       " ('encoded_data__x1_rear', True, 1)]"
      ]
     },
     "execution_count": 68,
     "metadata": {},
     "output_type": "execute_result"
    }
   ],
   "source": [
    "list(zip(X_train.columns,rfe.support_,rfe.ranking_))"
   ]
  },
  {
   "cell_type": "code",
   "execution_count": 69,
   "metadata": {},
   "outputs": [
    {
     "data": {
      "text/plain": [
       "Index(['carwidth', 'carheight', 'enginesize', 'boreratio', 'stroke',\n",
       "       'horsepower', 'cylindernumber', 'CarName_encoded',\n",
       "       'encoded_data__x0_rwd', 'encoded_data__x1_rear'],\n",
       "      dtype='object')"
      ]
     },
     "execution_count": 69,
     "metadata": {},
     "output_type": "execute_result"
    }
   ],
   "source": [
    "col = X_train.columns[rfe.support_]\n",
    "col"
   ]
  },
  {
   "cell_type": "code",
   "execution_count": 70,
   "metadata": {},
   "outputs": [
    {
     "data": {
      "text/plain": [
       "Index(['symboling', 'wheelbase', 'carlength', 'curbweight', 'compressionratio',\n",
       "       'peakrpm', 'citympg', 'highwaympg', 'aspiration', 'doornumber',\n",
       "       'carbody', 'enginetype', 'fuelsystem', 'fueltype_gas',\n",
       "       'encoded_data__x0_fwd'],\n",
       "      dtype='object')"
      ]
     },
     "execution_count": 70,
     "metadata": {},
     "output_type": "execute_result"
    }
   ],
   "source": [
    "X_train.columns[~rfe.support_]"
   ]
  },
  {
   "cell_type": "code",
   "execution_count": 71,
   "metadata": {},
   "outputs": [],
   "source": [
    "# Creating X_test dataframe with RFE selected variables\n",
    "X_train_rfe = X_train[col]"
   ]
  },
  {
   "cell_type": "code",
   "execution_count": 72,
   "metadata": {},
   "outputs": [
    {
     "name": "stderr",
     "output_type": "stream",
     "text": [
      "/Applications/anaconda3/lib/python3.7/site-packages/numpy/core/fromnumeric.py:2495: FutureWarning: Method .ptp is deprecated and will be removed in a future version. Use numpy.ptp instead.\n",
      "  return ptp(axis=axis, out=out, **kwargs)\n"
     ]
    }
   ],
   "source": [
    "import statsmodels.api as sm  \n",
    "X_train_rfe = sm.add_constant(X_train_rfe)"
   ]
  },
  {
   "cell_type": "code",
   "execution_count": 73,
   "metadata": {},
   "outputs": [],
   "source": [
    "lm = sm.OLS(y_train,X_train_rfe).fit() "
   ]
  },
  {
   "cell_type": "code",
   "execution_count": 74,
   "metadata": {},
   "outputs": [
    {
     "name": "stdout",
     "output_type": "stream",
     "text": [
      "                            OLS Regression Results                            \n",
      "==============================================================================\n",
      "Dep. Variable:                  price   R-squared:                       0.892\n",
      "Model:                            OLS   Adj. R-squared:                  0.884\n",
      "Method:                 Least Squares   F-statistic:                     125.7\n",
      "Date:                Mon, 17 Feb 2020   Prob (F-statistic):           1.66e-68\n",
      "Time:                        13:58:25   Log-Likelihood:                -50.574\n",
      "No. Observations:                 164   AIC:                             123.1\n",
      "Df Residuals:                     153   BIC:                             157.2\n",
      "Df Model:                          10                                         \n",
      "Covariance Type:            nonrobust                                         \n",
      "=========================================================================================\n",
      "                            coef    std err          t      P>|t|      [0.025      0.975]\n",
      "-----------------------------------------------------------------------------------------\n",
      "const                  6.245e-17      0.027   2.35e-15      1.000      -0.053       0.053\n",
      "carwidth                  0.3178      0.047      6.786      0.000       0.225       0.410\n",
      "carheight                 0.0730      0.031      2.333      0.021       0.011       0.135\n",
      "enginesize                0.6869      0.139      4.959      0.000       0.413       0.961\n",
      "boreratio                -0.1906      0.070     -2.720      0.007      -0.329      -0.052\n",
      "stroke                   -0.1547      0.048     -3.216      0.002      -0.250      -0.060\n",
      "horsepower                0.1996      0.057      3.485      0.001       0.086       0.313\n",
      "cylindernumber           -0.2618      0.107     -2.446      0.016      -0.473      -0.050\n",
      "CarName_encoded          -0.1366      0.030     -4.528      0.000      -0.196      -0.077\n",
      "encoded_data__x0_rwd      0.1485      0.037      3.968      0.000       0.075       0.222\n",
      "encoded_data__x1_rear     0.1956      0.030      6.452      0.000       0.136       0.256\n",
      "==============================================================================\n",
      "Omnibus:                       40.360   Durbin-Watson:                   1.843\n",
      "Prob(Omnibus):                  0.000   Jarque-Bera (JB):              147.000\n",
      "Skew:                           0.871   Prob(JB):                     1.20e-32\n",
      "Kurtosis:                       7.299   Cond. No.                         14.1\n",
      "==============================================================================\n",
      "\n",
      "Warnings:\n",
      "[1] Standard Errors assume that the covariance matrix of the errors is correctly specified.\n"
     ]
    }
   ],
   "source": [
    "print(lm.summary())"
   ]
  },
  {
   "cell_type": "code",
   "execution_count": 75,
   "metadata": {},
   "outputs": [],
   "source": [
    "#X_train_new = X_train_rfe.drop([\"highwaympg\"], axis = 1)"
   ]
  },
  {
   "cell_type": "code",
   "execution_count": 76,
   "metadata": {},
   "outputs": [],
   "source": [
    "#import statsmodels.api as sm  \n",
    "#X_train_lm = sm.add_constant(X_train_new)"
   ]
  },
  {
   "cell_type": "code",
   "execution_count": 77,
   "metadata": {},
   "outputs": [],
   "source": [
    "#lm = sm.OLS(y_train,X_train_lm).fit() "
   ]
  },
  {
   "cell_type": "code",
   "execution_count": 78,
   "metadata": {},
   "outputs": [],
   "source": [
    "#print(lm.summary())"
   ]
  },
  {
   "cell_type": "code",
   "execution_count": 79,
   "metadata": {},
   "outputs": [],
   "source": [
    "#X_train_new.columns"
   ]
  },
  {
   "cell_type": "code",
   "execution_count": 80,
   "metadata": {},
   "outputs": [],
   "source": [
    "X_train_rfe = X_train_rfe.drop(['const'], axis=1)"
   ]
  },
  {
   "cell_type": "code",
   "execution_count": 81,
   "metadata": {},
   "outputs": [
    {
     "data": {
      "text/html": [
       "<div>\n",
       "<style scoped>\n",
       "    .dataframe tbody tr th:only-of-type {\n",
       "        vertical-align: middle;\n",
       "    }\n",
       "\n",
       "    .dataframe tbody tr th {\n",
       "        vertical-align: top;\n",
       "    }\n",
       "\n",
       "    .dataframe thead th {\n",
       "        text-align: right;\n",
       "    }\n",
       "</style>\n",
       "<table border=\"1\" class=\"dataframe\">\n",
       "  <thead>\n",
       "    <tr style=\"text-align: right;\">\n",
       "      <th></th>\n",
       "      <th>Features</th>\n",
       "      <th>VIF</th>\n",
       "    </tr>\n",
       "  </thead>\n",
       "  <tbody>\n",
       "    <tr>\n",
       "      <td>2</td>\n",
       "      <td>enginesize</td>\n",
       "      <td>27.06</td>\n",
       "    </tr>\n",
       "    <tr>\n",
       "      <td>6</td>\n",
       "      <td>cylindernumber</td>\n",
       "      <td>16.16</td>\n",
       "    </tr>\n",
       "    <tr>\n",
       "      <td>3</td>\n",
       "      <td>boreratio</td>\n",
       "      <td>6.93</td>\n",
       "    </tr>\n",
       "    <tr>\n",
       "      <td>5</td>\n",
       "      <td>horsepower</td>\n",
       "      <td>4.63</td>\n",
       "    </tr>\n",
       "    <tr>\n",
       "      <td>4</td>\n",
       "      <td>stroke</td>\n",
       "      <td>3.27</td>\n",
       "    </tr>\n",
       "    <tr>\n",
       "      <td>0</td>\n",
       "      <td>carwidth</td>\n",
       "      <td>3.09</td>\n",
       "    </tr>\n",
       "    <tr>\n",
       "      <td>8</td>\n",
       "      <td>encoded_data__x0_rwd</td>\n",
       "      <td>1.97</td>\n",
       "    </tr>\n",
       "    <tr>\n",
       "      <td>1</td>\n",
       "      <td>carheight</td>\n",
       "      <td>1.38</td>\n",
       "    </tr>\n",
       "    <tr>\n",
       "      <td>9</td>\n",
       "      <td>encoded_data__x1_rear</td>\n",
       "      <td>1.30</td>\n",
       "    </tr>\n",
       "    <tr>\n",
       "      <td>7</td>\n",
       "      <td>CarName_encoded</td>\n",
       "      <td>1.28</td>\n",
       "    </tr>\n",
       "  </tbody>\n",
       "</table>\n",
       "</div>"
      ],
      "text/plain": [
       "                Features    VIF\n",
       "2             enginesize  27.06\n",
       "6         cylindernumber  16.16\n",
       "3              boreratio   6.93\n",
       "5             horsepower   4.63\n",
       "4                 stroke   3.27\n",
       "0               carwidth   3.09\n",
       "8   encoded_data__x0_rwd   1.97\n",
       "1              carheight   1.38\n",
       "9  encoded_data__x1_rear   1.30\n",
       "7        CarName_encoded   1.28"
      ]
     },
     "execution_count": 81,
     "metadata": {},
     "output_type": "execute_result"
    }
   ],
   "source": [
    "from statsmodels.stats.outliers_influence import variance_inflation_factor\n",
    "\n",
    "vif = pd.DataFrame()\n",
    "X = X_train_rfe\n",
    "vif['Features'] = X.columns\n",
    "vif['VIF'] = [variance_inflation_factor(X.values, i) for i in range(X.shape[1])]\n",
    "vif['VIF'] = round(vif['VIF'], 2)\n",
    "vif = vif.sort_values(by = \"VIF\", ascending = False)\n",
    "vif"
   ]
  },
  {
   "cell_type": "code",
   "execution_count": 82,
   "metadata": {},
   "outputs": [
    {
     "data": {
      "text/plain": [
       "Index(['carwidth', 'carheight', 'boreratio', 'stroke', 'horsepower',\n",
       "       'cylindernumber', 'CarName_encoded', 'encoded_data__x0_rwd',\n",
       "       'encoded_data__x1_rear'],\n",
       "      dtype='object')"
      ]
     },
     "execution_count": 82,
     "metadata": {},
     "output_type": "execute_result"
    }
   ],
   "source": [
    "X_train_new = X_train_rfe.drop([\"enginesize\"], axis = 1)\n",
    "\n",
    "X_train_new.columns"
   ]
  },
  {
   "cell_type": "code",
   "execution_count": 83,
   "metadata": {},
   "outputs": [
    {
     "name": "stdout",
     "output_type": "stream",
     "text": [
      "                            OLS Regression Results                            \n",
      "==============================================================================\n",
      "Dep. Variable:                  price   R-squared:                       0.874\n",
      "Model:                            OLS   Adj. R-squared:                  0.867\n",
      "Method:                 Least Squares   F-statistic:                     118.8\n",
      "Date:                Mon, 17 Feb 2020   Prob (F-statistic):           1.22e-64\n",
      "Time:                        13:58:25   Log-Likelihood:                -62.795\n",
      "No. Observations:                 164   AIC:                             145.6\n",
      "Df Residuals:                     154   BIC:                             176.6\n",
      "Df Model:                           9                                         \n",
      "Covariance Type:            nonrobust                                         \n",
      "=========================================================================================\n",
      "                            coef    std err          t      P>|t|      [0.025      0.975]\n",
      "-----------------------------------------------------------------------------------------\n",
      "const                  6.245e-17      0.029   2.18e-15      1.000      -0.056       0.056\n",
      "carwidth                  0.3276      0.050      6.519      0.000       0.228       0.427\n",
      "carheight                 0.0734      0.034      2.185      0.030       0.007       0.140\n",
      "boreratio                 0.0878      0.045      1.949      0.053      -0.001       0.177\n",
      "stroke                    0.0304      0.033      0.934      0.352      -0.034       0.095\n",
      "horsepower                0.1934      0.062      3.144      0.002       0.072       0.315\n",
      "cylindernumber            0.2239      0.046      4.830      0.000       0.132       0.315\n",
      "CarName_encoded          -0.1713      0.032     -5.434      0.000      -0.234      -0.109\n",
      "encoded_data__x0_rwd      0.2207      0.037      5.961      0.000       0.148       0.294\n",
      "encoded_data__x1_rear     0.2156      0.032      6.680      0.000       0.152       0.279\n",
      "==============================================================================\n",
      "Omnibus:                       54.416   Durbin-Watson:                   1.968\n",
      "Prob(Omnibus):                  0.000   Jarque-Bera (JB):              225.189\n",
      "Skew:                           1.176   Prob(JB):                     1.26e-49\n",
      "Kurtosis:                       8.237   Cond. No.                         4.70\n",
      "==============================================================================\n",
      "\n",
      "Warnings:\n",
      "[1] Standard Errors assume that the covariance matrix of the errors is correctly specified.\n"
     ]
    }
   ],
   "source": [
    "import statsmodels.api as sm  \n",
    "X_train_lm = sm.add_constant(X_train_new)\n",
    "\n",
    "lm = sm.OLS(y_train,X_train_lm).fit() \n",
    "\n",
    "print(lm.summary())"
   ]
  },
  {
   "cell_type": "code",
   "execution_count": 84,
   "metadata": {},
   "outputs": [
    {
     "data": {
      "text/plain": [
       "Index(['carwidth', 'carheight', 'boreratio', 'stroke', 'horsepower',\n",
       "       'cylindernumber', 'CarName_encoded', 'encoded_data__x0_rwd',\n",
       "       'encoded_data__x1_rear'],\n",
       "      dtype='object')"
      ]
     },
     "execution_count": 84,
     "metadata": {},
     "output_type": "execute_result"
    }
   ],
   "source": [
    "X_train_new.columns"
   ]
  },
  {
   "cell_type": "code",
   "execution_count": 85,
   "metadata": {},
   "outputs": [
    {
     "data": {
      "text/html": [
       "<div>\n",
       "<style scoped>\n",
       "    .dataframe tbody tr th:only-of-type {\n",
       "        vertical-align: middle;\n",
       "    }\n",
       "\n",
       "    .dataframe tbody tr th {\n",
       "        vertical-align: top;\n",
       "    }\n",
       "\n",
       "    .dataframe thead th {\n",
       "        text-align: right;\n",
       "    }\n",
       "</style>\n",
       "<table border=\"1\" class=\"dataframe\">\n",
       "  <thead>\n",
       "    <tr style=\"text-align: right;\">\n",
       "      <th></th>\n",
       "      <th>Features</th>\n",
       "      <th>VIF</th>\n",
       "    </tr>\n",
       "  </thead>\n",
       "  <tbody>\n",
       "    <tr>\n",
       "      <td>4</td>\n",
       "      <td>horsepower</td>\n",
       "      <td>4.63</td>\n",
       "    </tr>\n",
       "    <tr>\n",
       "      <td>0</td>\n",
       "      <td>carwidth</td>\n",
       "      <td>3.09</td>\n",
       "    </tr>\n",
       "    <tr>\n",
       "      <td>5</td>\n",
       "      <td>cylindernumber</td>\n",
       "      <td>2.63</td>\n",
       "    </tr>\n",
       "    <tr>\n",
       "      <td>2</td>\n",
       "      <td>boreratio</td>\n",
       "      <td>2.48</td>\n",
       "    </tr>\n",
       "    <tr>\n",
       "      <td>7</td>\n",
       "      <td>encoded_data__x0_rwd</td>\n",
       "      <td>1.68</td>\n",
       "    </tr>\n",
       "    <tr>\n",
       "      <td>1</td>\n",
       "      <td>carheight</td>\n",
       "      <td>1.38</td>\n",
       "    </tr>\n",
       "    <tr>\n",
       "      <td>3</td>\n",
       "      <td>stroke</td>\n",
       "      <td>1.30</td>\n",
       "    </tr>\n",
       "    <tr>\n",
       "      <td>8</td>\n",
       "      <td>encoded_data__x1_rear</td>\n",
       "      <td>1.27</td>\n",
       "    </tr>\n",
       "    <tr>\n",
       "      <td>6</td>\n",
       "      <td>CarName_encoded</td>\n",
       "      <td>1.22</td>\n",
       "    </tr>\n",
       "  </tbody>\n",
       "</table>\n",
       "</div>"
      ],
      "text/plain": [
       "                Features   VIF\n",
       "4             horsepower  4.63\n",
       "0               carwidth  3.09\n",
       "5         cylindernumber  2.63\n",
       "2              boreratio  2.48\n",
       "7   encoded_data__x0_rwd  1.68\n",
       "1              carheight  1.38\n",
       "3                 stroke  1.30\n",
       "8  encoded_data__x1_rear  1.27\n",
       "6        CarName_encoded  1.22"
      ]
     },
     "execution_count": 85,
     "metadata": {},
     "output_type": "execute_result"
    }
   ],
   "source": [
    "#X_train_new = X_train_new.drop(['const'], axis=1)\n",
    "\n",
    "from statsmodels.stats.outliers_influence import variance_inflation_factor\n",
    "\n",
    "vif = pd.DataFrame()\n",
    "X = X_train_new\n",
    "vif['Features'] = X.columns\n",
    "vif['VIF'] = [variance_inflation_factor(X.values, i) for i in range(X.shape[1])]\n",
    "vif['VIF'] = round(vif['VIF'], 2)\n",
    "vif = vif.sort_values(by = \"VIF\", ascending = False)\n",
    "vif"
   ]
  },
  {
   "cell_type": "code",
   "execution_count": 86,
   "metadata": {},
   "outputs": [
    {
     "name": "stdout",
     "output_type": "stream",
     "text": [
      "                            OLS Regression Results                            \n",
      "==============================================================================\n",
      "Dep. Variable:                  price   R-squared:                       0.873\n",
      "Model:                            OLS   Adj. R-squared:                  0.867\n",
      "Method:                 Least Squares   F-statistic:                     133.6\n",
      "Date:                Mon, 17 Feb 2020   Prob (F-statistic):           1.57e-65\n",
      "Time:                        13:58:25   Log-Likelihood:                -63.258\n",
      "No. Observations:                 164   AIC:                             144.5\n",
      "Df Residuals:                     155   BIC:                             172.4\n",
      "Df Model:                           8                                         \n",
      "Covariance Type:            nonrobust                                         \n",
      "=========================================================================================\n",
      "                            coef    std err          t      P>|t|      [0.025      0.975]\n",
      "-----------------------------------------------------------------------------------------\n",
      "const                  6.245e-17      0.029   2.18e-15      1.000      -0.056       0.056\n",
      "carwidth                  0.3414      0.048      7.115      0.000       0.247       0.436\n",
      "carheight                 0.0745      0.034      2.218      0.028       0.008       0.141\n",
      "boreratio                 0.0747      0.043      1.746      0.083      -0.010       0.159\n",
      "horsepower                0.2051      0.060      3.408      0.001       0.086       0.324\n",
      "cylindernumber            0.2114      0.044      4.765      0.000       0.124       0.299\n",
      "CarName_encoded          -0.1745      0.031     -5.571      0.000      -0.236      -0.113\n",
      "encoded_data__x0_rwd      0.2179      0.037      5.908      0.000       0.145       0.291\n",
      "encoded_data__x1_rear     0.2138      0.032      6.640      0.000       0.150       0.277\n",
      "==============================================================================\n",
      "Omnibus:                       57.337   Durbin-Watson:                   1.996\n",
      "Prob(Omnibus):                  0.000   Jarque-Bera (JB):              245.335\n",
      "Skew:                           1.236   Prob(JB):                     5.32e-54\n",
      "Kurtosis:                       8.458   Cond. No.                         4.52\n",
      "==============================================================================\n",
      "\n",
      "Warnings:\n",
      "[1] Standard Errors assume that the covariance matrix of the errors is correctly specified.\n"
     ]
    }
   ],
   "source": [
    "X_train_new_s = X_train_new.drop([\"stroke\"], axis = 1)\n",
    "\n",
    "import statsmodels.api as sm  \n",
    "X_train_lm = sm.add_constant(X_train_new_s)\n",
    "\n",
    "lm = sm.OLS(y_train,X_train_lm).fit() \n",
    "\n",
    "print(lm.summary())"
   ]
  },
  {
   "cell_type": "code",
   "execution_count": 87,
   "metadata": {},
   "outputs": [
    {
     "data": {
      "text/html": [
       "<div>\n",
       "<style scoped>\n",
       "    .dataframe tbody tr th:only-of-type {\n",
       "        vertical-align: middle;\n",
       "    }\n",
       "\n",
       "    .dataframe tbody tr th {\n",
       "        vertical-align: top;\n",
       "    }\n",
       "\n",
       "    .dataframe thead th {\n",
       "        text-align: right;\n",
       "    }\n",
       "</style>\n",
       "<table border=\"1\" class=\"dataframe\">\n",
       "  <thead>\n",
       "    <tr style=\"text-align: right;\">\n",
       "      <th></th>\n",
       "      <th>Features</th>\n",
       "      <th>VIF</th>\n",
       "    </tr>\n",
       "  </thead>\n",
       "  <tbody>\n",
       "    <tr>\n",
       "      <td>3</td>\n",
       "      <td>horsepower</td>\n",
       "      <td>4.43</td>\n",
       "    </tr>\n",
       "    <tr>\n",
       "      <td>0</td>\n",
       "      <td>carwidth</td>\n",
       "      <td>2.82</td>\n",
       "    </tr>\n",
       "    <tr>\n",
       "      <td>4</td>\n",
       "      <td>cylindernumber</td>\n",
       "      <td>2.41</td>\n",
       "    </tr>\n",
       "    <tr>\n",
       "      <td>2</td>\n",
       "      <td>boreratio</td>\n",
       "      <td>2.24</td>\n",
       "    </tr>\n",
       "    <tr>\n",
       "      <td>6</td>\n",
       "      <td>encoded_data__x0_rwd</td>\n",
       "      <td>1.67</td>\n",
       "    </tr>\n",
       "    <tr>\n",
       "      <td>1</td>\n",
       "      <td>carheight</td>\n",
       "      <td>1.38</td>\n",
       "    </tr>\n",
       "    <tr>\n",
       "      <td>7</td>\n",
       "      <td>encoded_data__x1_rear</td>\n",
       "      <td>1.27</td>\n",
       "    </tr>\n",
       "    <tr>\n",
       "      <td>5</td>\n",
       "      <td>CarName_encoded</td>\n",
       "      <td>1.20</td>\n",
       "    </tr>\n",
       "  </tbody>\n",
       "</table>\n",
       "</div>"
      ],
      "text/plain": [
       "                Features   VIF\n",
       "3             horsepower  4.43\n",
       "0               carwidth  2.82\n",
       "4         cylindernumber  2.41\n",
       "2              boreratio  2.24\n",
       "6   encoded_data__x0_rwd  1.67\n",
       "1              carheight  1.38\n",
       "7  encoded_data__x1_rear  1.27\n",
       "5        CarName_encoded  1.20"
      ]
     },
     "execution_count": 87,
     "metadata": {},
     "output_type": "execute_result"
    }
   ],
   "source": [
    "from statsmodels.stats.outliers_influence import variance_inflation_factor\n",
    "\n",
    "vif = pd.DataFrame()\n",
    "X = X_train_new_s\n",
    "vif['Features'] = X.columns\n",
    "vif['VIF'] = [variance_inflation_factor(X.values, i) for i in range(X.shape[1])]\n",
    "vif['VIF'] = round(vif['VIF'], 2)\n",
    "vif = vif.sort_values(by = \"VIF\", ascending = False)\n",
    "vif"
   ]
  },
  {
   "cell_type": "code",
   "execution_count": 88,
   "metadata": {},
   "outputs": [
    {
     "name": "stdout",
     "output_type": "stream",
     "text": [
      "                            OLS Regression Results                            \n",
      "==============================================================================\n",
      "Dep. Variable:                  price   R-squared:                       0.871\n",
      "Model:                            OLS   Adj. R-squared:                  0.865\n",
      "Method:                 Least Squares   F-statistic:                     150.3\n",
      "Date:                Mon, 17 Feb 2020   Prob (F-statistic):           5.54e-66\n",
      "Time:                        13:58:25   Log-Likelihood:                -64.854\n",
      "No. Observations:                 164   AIC:                             145.7\n",
      "Df Residuals:                     156   BIC:                             170.5\n",
      "Df Model:                           7                                         \n",
      "Covariance Type:            nonrobust                                         \n",
      "=========================================================================================\n",
      "                            coef    std err          t      P>|t|      [0.025      0.975]\n",
      "-----------------------------------------------------------------------------------------\n",
      "const                  6.245e-17      0.029   2.17e-15      1.000      -0.057       0.057\n",
      "carwidth                  0.3661      0.046      7.931      0.000       0.275       0.457\n",
      "carheight                 0.0800      0.034      2.379      0.019       0.014       0.146\n",
      "horsepower                0.2416      0.057      4.251      0.000       0.129       0.354\n",
      "cylindernumber            0.1845      0.042      4.406      0.000       0.102       0.267\n",
      "CarName_encoded          -0.1569      0.030     -5.257      0.000      -0.216      -0.098\n",
      "encoded_data__x0_rwd      0.2331      0.036      6.461      0.000       0.162       0.304\n",
      "encoded_data__x1_rear     0.2197      0.032      6.816      0.000       0.156       0.283\n",
      "==============================================================================\n",
      "Omnibus:                       58.206   Durbin-Watson:                   2.002\n",
      "Prob(Omnibus):                  0.000   Jarque-Bera (JB):              267.333\n",
      "Skew:                           1.230   Prob(JB):                     8.90e-59\n",
      "Kurtosis:                       8.751   Cond. No.                         4.05\n",
      "==============================================================================\n",
      "\n",
      "Warnings:\n",
      "[1] Standard Errors assume that the covariance matrix of the errors is correctly specified.\n"
     ]
    }
   ],
   "source": [
    "X_train_new_b = X_train_new_s.drop([\"boreratio\"], axis = 1)\n",
    "\n",
    "import statsmodels.api as sm  \n",
    "X_train_lm = sm.add_constant(X_train_new_b)\n",
    "\n",
    "lm = sm.OLS(y_train,X_train_lm).fit() \n",
    "\n",
    "print(lm.summary())"
   ]
  },
  {
   "cell_type": "code",
   "execution_count": 89,
   "metadata": {},
   "outputs": [
    {
     "data": {
      "text/plain": [
       "(164, 7)"
      ]
     },
     "execution_count": 89,
     "metadata": {},
     "output_type": "execute_result"
    }
   ],
   "source": [
    "#X_train_new_b = X_train_new_b.drop(['const'], axis=1)\n",
    "X_train_new_b.shape"
   ]
  },
  {
   "cell_type": "code",
   "execution_count": 90,
   "metadata": {},
   "outputs": [
    {
     "data": {
      "text/plain": [
       "Index(['carwidth', 'carheight', 'horsepower', 'cylindernumber',\n",
       "       'CarName_encoded', 'encoded_data__x0_rwd', 'encoded_data__x1_rear'],\n",
       "      dtype='object')"
      ]
     },
     "execution_count": 90,
     "metadata": {},
     "output_type": "execute_result"
    }
   ],
   "source": [
    "X_train_new_b.columns"
   ]
  },
  {
   "cell_type": "code",
   "execution_count": 91,
   "metadata": {},
   "outputs": [
    {
     "data": {
      "text/html": [
       "<div>\n",
       "<style scoped>\n",
       "    .dataframe tbody tr th:only-of-type {\n",
       "        vertical-align: middle;\n",
       "    }\n",
       "\n",
       "    .dataframe tbody tr th {\n",
       "        vertical-align: top;\n",
       "    }\n",
       "\n",
       "    .dataframe thead th {\n",
       "        text-align: right;\n",
       "    }\n",
       "</style>\n",
       "<table border=\"1\" class=\"dataframe\">\n",
       "  <thead>\n",
       "    <tr style=\"text-align: right;\">\n",
       "      <th></th>\n",
       "      <th>Features</th>\n",
       "      <th>VIF</th>\n",
       "    </tr>\n",
       "  </thead>\n",
       "  <tbody>\n",
       "    <tr>\n",
       "      <td>2</td>\n",
       "      <td>horsepower</td>\n",
       "      <td>3.90</td>\n",
       "    </tr>\n",
       "    <tr>\n",
       "      <td>0</td>\n",
       "      <td>carwidth</td>\n",
       "      <td>2.57</td>\n",
       "    </tr>\n",
       "    <tr>\n",
       "      <td>3</td>\n",
       "      <td>cylindernumber</td>\n",
       "      <td>2.12</td>\n",
       "    </tr>\n",
       "    <tr>\n",
       "      <td>5</td>\n",
       "      <td>encoded_data__x0_rwd</td>\n",
       "      <td>1.57</td>\n",
       "    </tr>\n",
       "    <tr>\n",
       "      <td>1</td>\n",
       "      <td>carheight</td>\n",
       "      <td>1.37</td>\n",
       "    </tr>\n",
       "    <tr>\n",
       "      <td>6</td>\n",
       "      <td>encoded_data__x1_rear</td>\n",
       "      <td>1.26</td>\n",
       "    </tr>\n",
       "    <tr>\n",
       "      <td>4</td>\n",
       "      <td>CarName_encoded</td>\n",
       "      <td>1.08</td>\n",
       "    </tr>\n",
       "  </tbody>\n",
       "</table>\n",
       "</div>"
      ],
      "text/plain": [
       "                Features   VIF\n",
       "2             horsepower  3.90\n",
       "0               carwidth  2.57\n",
       "3         cylindernumber  2.12\n",
       "5   encoded_data__x0_rwd  1.57\n",
       "1              carheight  1.37\n",
       "6  encoded_data__x1_rear  1.26\n",
       "4        CarName_encoded  1.08"
      ]
     },
     "execution_count": 91,
     "metadata": {},
     "output_type": "execute_result"
    }
   ],
   "source": [
    "from statsmodels.stats.outliers_influence import variance_inflation_factor\n",
    "\n",
    "vif = pd.DataFrame()\n",
    "X = X_train_new_b\n",
    "vif['Features'] = X.columns\n",
    "vif['VIF'] = [variance_inflation_factor(X.values, i) for i in range(X.shape[1])]\n",
    "vif['VIF'] = round(vif['VIF'], 2)\n",
    "vif = vif.sort_values(by = \"VIF\", ascending = False)\n",
    "vif"
   ]
  },
  {
   "cell_type": "markdown",
   "metadata": {},
   "source": [
    "## Residual Analysis of the train data\n",
    "\n",
    "So, now to check if the error terms are also normally distributed (which is infact, one of the major assumptions of linear regression), let us plot the histogram of the error terms and see what it looks like."
   ]
  },
  {
   "cell_type": "code",
   "execution_count": 92,
   "metadata": {},
   "outputs": [],
   "source": [
    "y_train_price = lm.predict(X_train_lm)"
   ]
  },
  {
   "cell_type": "code",
   "execution_count": 93,
   "metadata": {},
   "outputs": [],
   "source": [
    "# Importing the required libraries for plots.\n",
    "import matplotlib.pyplot as plt\n",
    "import seaborn as sns\n",
    "%matplotlib inline"
   ]
  },
  {
   "cell_type": "code",
   "execution_count": 94,
   "metadata": {},
   "outputs": [
    {
     "data": {
      "text/plain": [
       "Text(0.5, 0, 'Errors')"
      ]
     },
     "execution_count": 94,
     "metadata": {},
     "output_type": "execute_result"
    },
    {
     "data": {
      "image/png": "[encoded data removed]",
      "text/plain": [
       "<Figure size 432x288 with 1 Axes>"
      ]
     },
     "metadata": {
      "needs_background": "light"
     },
     "output_type": "display_data"
    }
   ],
   "source": [
    "# Plot the histogram of the error terms\n",
    "fig = plt.figure()\n",
    "sns.distplot((y_train - y_train_price), bins = 20)\n",
    "fig.suptitle('Error Terms', fontsize = 20)                  # Plot heading \n",
    "plt.xlabel('Errors', fontsize = 18)     "
   ]
  },
  {
   "cell_type": "code",
   "execution_count": 95,
   "metadata": {},
   "outputs": [
    {
     "name": "stderr",
     "output_type": "stream",
     "text": [
      "/Applications/anaconda3/lib/python3.7/site-packages/ipykernel_launcher.py:9: SettingWithCopyWarning: \n",
      "A value is trying to be set on a copy of a slice from a DataFrame.\n",
      "Try using .loc[row_indexer,col_indexer] = value instead\n",
      "\n",
      "See the caveats in the documentation: http://pandas.pydata.org/pandas-docs/stable/user_guide/indexing.html#returning-a-view-versus-a-copy\n",
      "  if __name__ == '__main__':\n",
      "/Applications/anaconda3/lib/python3.7/site-packages/pandas/core/indexing.py:494: SettingWithCopyWarning: \n",
      "A value is trying to be set on a copy of a slice from a DataFrame.\n",
      "Try using .loc[row_indexer,col_indexer] = value instead\n",
      "\n",
      "See the caveats in the documentation: http://pandas.pydata.org/pandas-docs/stable/user_guide/indexing.html#returning-a-view-versus-a-copy\n",
      "  self.obj[item] = s\n"
     ]
    },
    {
     "data": {
      "text/plain": [
       "Index(['symboling', 'wheelbase', 'carlength', 'carwidth', 'carheight',\n",
       "       'curbweight', 'enginesize', 'boreratio', 'stroke', 'compressionratio',\n",
       "       'horsepower', 'peakrpm', 'citympg', 'highwaympg', 'price', 'aspiration',\n",
       "       'doornumber', 'carbody', 'enginetype', 'cylindernumber', 'fuelsystem',\n",
       "       'fueltype_gas', 'CarName_encoded', 'encoded_data__x0_fwd',\n",
       "       'encoded_data__x0_rwd', 'encoded_data__x1_rear'],\n",
       "      dtype='object')"
      ]
     },
     "execution_count": 95,
     "metadata": {},
     "output_type": "execute_result"
    }
   ],
   "source": [
    "num_vars = ['symboling', 'wheelbase', 'carlength', 'carwidth', 'carheight',\n",
    "       'curbweight', 'enginesize', 'boreratio', 'stroke', 'compressionratio',\n",
    "       'horsepower', 'peakrpm', 'citympg', 'highwaympg', 'price', 'aspiration',\n",
    "       'doornumber', 'carbody', 'enginetype', 'cylindernumber', 'fuelsystem',\n",
    "       'fueltype_gas', 'CarName_encoded', 'encoded_data__x0_fwd',\n",
    "       'encoded_data__x0_rwd', 'encoded_data__x1_rear']\n",
    "\n",
    "\n",
    "df_test[num_vars] = scaler.transform(df_test[num_vars])\n",
    "\n",
    "df_test.columns"
   ]
  },
  {
   "cell_type": "code",
   "execution_count": 96,
   "metadata": {},
   "outputs": [],
   "source": [
    "y_test = df_test.pop('price')\n",
    "X_test = df_test"
   ]
  },
  {
   "cell_type": "code",
   "execution_count": 97,
   "metadata": {},
   "outputs": [
    {
     "name": "stderr",
     "output_type": "stream",
     "text": [
      "/Applications/anaconda3/lib/python3.7/site-packages/numpy/core/fromnumeric.py:2495: FutureWarning: Method .ptp is deprecated and will be removed in a future version. Use numpy.ptp instead.\n",
      "  return ptp(axis=axis, out=out, **kwargs)\n"
     ]
    },
    {
     "data": {
      "text/plain": [
       "Index(['const', 'carwidth', 'carheight', 'horsepower', 'cylindernumber',\n",
       "       'CarName_encoded', 'encoded_data__x0_rwd', 'encoded_data__x1_rear'],\n",
       "      dtype='object')"
      ]
     },
     "execution_count": 97,
     "metadata": {},
     "output_type": "execute_result"
    }
   ],
   "source": [
    "# Now let's use our model to make predictions.\n",
    "\n",
    "# Creating X_test_new dataframe by dropping variables from X_test\n",
    "X_test_new = X_test[X_train_new_b.columns]\n",
    "\n",
    "# Adding a constant variable \n",
    "X_test_new = sm.add_constant(X_test_new)\n",
    "\n",
    "X_test_new.columns"
   ]
  },
  {
   "cell_type": "code",
   "execution_count": 98,
   "metadata": {},
   "outputs": [],
   "source": [
    "# Making predictions\n",
    "y_pred = lm.predict(X_test_new)"
   ]
  },
  {
   "cell_type": "markdown",
   "metadata": {},
   "source": [
    "## Model Evaluation"
   ]
  },
  {
   "cell_type": "code",
   "execution_count": 99,
   "metadata": {},
   "outputs": [
    {
     "data": {
      "text/plain": [
       "Text(0, 0.5, 'y_pred')"
      ]
     },
     "execution_count": 99,
     "metadata": {},
     "output_type": "execute_result"
    },
    {
     "data": {
      "image/png": "[encoded data removed]",
      "text/plain": [
       "<Figure size 432x288 with 1 Axes>"
      ]
     },
     "metadata": {
      "needs_background": "light"
     },
     "output_type": "display_data"
    }
   ],
   "source": [
    "# Plotting y_test and y_pred to understand the spread.\n",
    "fig = plt.figure()\n",
    "plt.scatter(y_test,y_pred)\n",
    "fig.suptitle('y_test vs y_pred', fontsize=20)              # Plot heading \n",
    "plt.xlabel('y_test', fontsize=18)                          # X-label\n",
    "plt.ylabel('y_pred', fontsize=16)  "
   ]
  },
  {
   "cell_type": "code",
   "execution_count": 100,
   "metadata": {},
   "outputs": [
    {
     "data": {
      "text/plain": [
       "0.8504422041702862"
      ]
     },
     "execution_count": 100,
     "metadata": {},
     "output_type": "execute_result"
    }
   ],
   "source": [
    "from sklearn.metrics import r2_score\n",
    "r2_score(y_test, y_pred)"
   ]
  },
  {
   "cell_type": "code",
   "execution_count": null,
   "metadata": {},
   "outputs": [],
   "source": []
  }
 ],
 "metadata": {
  "kernelspec": {
   "display_name": "Python 3",
   "language": "python",
   "name": "python3"
  },
  "language_info": {
   "codemirror_mode": {
    "name": "ipython",
    "version": 3
   },
   "file_extension": ".py",
   "mimetype": "text/x-python",
   "name": "python",
   "nbconvert_exporter": "python",
   "pygments_lexer": "ipython3",
   "version": "3.7.4"
  }
 },
 "nbformat": 4,
 "nbformat_minor": 2
}
